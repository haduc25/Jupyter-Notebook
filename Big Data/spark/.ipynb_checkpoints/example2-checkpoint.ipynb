{
 "cells": [
  {
   "cell_type": "code",
   "execution_count": 27,
   "id": "d354924f",
   "metadata": {},
   "outputs": [
    {
     "name": "stdout",
     "output_type": "stream",
     "text": [
      "Collecting findspark\n",
      "  Downloading findspark-2.0.1-py2.py3-none-any.whl (4.4 kB)\n",
      "Installing collected packages: findspark\n",
      "Successfully installed findspark-2.0.1\n"
     ]
    }
   ],
   "source": [
    "# !pip install pyspark\n",
    "# !pip install numpy\n",
    "# !pip install findspark"
   ]
  },
  {
   "cell_type": "code",
   "execution_count": 26,
   "id": "c2e86ee4",
   "metadata": {},
   "outputs": [
    {
     "ename": "ModuleNotFoundError",
     "evalue": "No module named 'findspark'",
     "output_type": "error",
     "traceback": [
      "\u001b[1;31m---------------------------------------------------------------------------\u001b[0m",
      "\u001b[1;31mModuleNotFoundError\u001b[0m                       Traceback (most recent call last)",
      "Cell \u001b[1;32mIn[26], line 1\u001b[0m\n\u001b[1;32m----> 1\u001b[0m \u001b[38;5;28;01mimport\u001b[39;00m \u001b[38;5;21;01mfindspark\u001b[39;00m\n\u001b[0;32m      2\u001b[0m findspark\u001b[38;5;241m.\u001b[39minit()\n\u001b[0;32m      4\u001b[0m \u001b[38;5;28;01mfrom\u001b[39;00m \u001b[38;5;21;01mpyspark\u001b[39;00m\u001b[38;5;21;01m.\u001b[39;00m\u001b[38;5;21;01msql\u001b[39;00m \u001b[38;5;28;01mimport\u001b[39;00m SparkSession\n",
      "\u001b[1;31mModuleNotFoundError\u001b[0m: No module named 'findspark'"
     ]
    }
   ],
   "source": [
    "import findspark\n",
    "findspark.init()\n",
    "\n",
    "from pyspark.sql import SparkSession\n",
    "from pyspark.ml.feature import StringIndexer, VectorAssembler\n",
    "from pyspark.ml.regression import LinearRegression\n",
    "\n",
    "# Create a SparkSession\n",
    "spark = SparkSession.builder.appName(\"EmploymentPrediction\").getOrCreate()\n",
    "\n",
    "# Load the CSV file into a Spark DataFrame\n",
    "data = spark.read.csv(\"employment.csv\", header=True, inferSchema=True)\n",
    "\n",
    "# Select the relevant columns\n",
    "selected_data = data.select(\"Period\", \"Data_value\")\n",
    "\n",
    "# Drop rows with missing values\n",
    "selected_data = selected_data.na.drop()\n",
    "\n",
    "# Convert Period column to numeric\n",
    "selected_data = selected_data.withColumn(\"Period\", selected_data[\"Period\"].cast(\"double\"))\n",
    "\n",
    "# Create a numerical label column\n",
    "label_indexer = StringIndexer(inputCol=\"Data_value\", outputCol=\"label\").fit(selected_data)\n",
    "indexed_data = label_indexer.transform(selected_data)\n",
    "\n",
    "# Split the data into training and testing sets\n",
    "(train_data, test_data) = indexed_data.randomSplit([0.7, 0.3])\n",
    "\n",
    "# Prepare the feature vector\n",
    "assembler = VectorAssembler(inputCols=[\"Period\"], outputCol=\"features\")\n",
    "assembled_train_data = assembler.transform(train_data)\n",
    "assembled_test_data = assembler.transform(test_data)\n",
    "\n",
    "# Train a linear regression model\n",
    "lr = LinearRegression(labelCol=\"label\", featuresCol=\"features\")\n",
    "lr_model = lr.fit(assembled_train_data)\n",
    "\n",
    "# Make predictions on the test data\n",
    "predictions = lr_model.transform(assembled_test_data)\n",
    "predictions.select(\"Period\", \"Data_value\", \"prediction\").show()\n"
   ]
  },
  {
   "cell_type": "code",
   "execution_count": null,
   "id": "21eab303",
   "metadata": {},
   "outputs": [],
   "source": []
  }
 ],
 "metadata": {
  "kernelspec": {
   "display_name": "Python 3 (ipykernel)",
   "language": "python",
   "name": "python3"
  },
  "language_info": {
   "codemirror_mode": {
    "name": "ipython",
    "version": 3
   },
   "file_extension": ".py",
   "mimetype": "text/x-python",
   "name": "python",
   "nbconvert_exporter": "python",
   "pygments_lexer": "ipython3",
   "version": "3.8.12"
  }
 },
 "nbformat": 4,
 "nbformat_minor": 5
}
