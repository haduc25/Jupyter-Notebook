{
 "cells": [
  {
   "cell_type": "markdown",
   "id": "f58e3701",
   "metadata": {},
   "source": [
    "## Python Iterators"
   ]
  },
  {
   "cell_type": "code",
   "execution_count": 7,
   "id": "52d048b9",
   "metadata": {},
   "outputs": [
    {
     "name": "stdout",
     "output_type": "stream",
     "text": [
      "apple\n",
      "banana\n",
      "cherry\n"
     ]
    }
   ],
   "source": [
    "\"\"\"\n",
    "An iterator is an object that contains a countable number of values.\n",
    "\n",
    "An iterator is an object that can be iterated upon, meaning that you can traverse through all the values.\n",
    "\n",
    "Technically, in Python, an iterator is an object which implements the iterator protocol, which consist of the methods __iter__() and __next__().\n",
    "\"\"\"\n",
    "\n",
    "# Iterator vs Iterable - Return an iterator from a tuple, and print each value:\n",
    "mytuple = (\"apple\", \"banana\", \"cherry\")\n",
    "myit = iter(mytuple)\n",
    "\n",
    "print(next(myit))\n",
    "print(next(myit))\n",
    "print(next(myit))\n",
    "\n",
    "# Even strings are iterable objects, and can return an iterator:"
   ]
  },
  {
   "cell_type": "code",
   "execution_count": 10,
   "id": "9abb6abb",
   "metadata": {},
   "outputs": [
    {
     "name": "stdout",
     "output_type": "stream",
     "text": [
      "b\n",
      "a\n",
      "n\n",
      "a\n",
      "n\n",
      "a\n"
     ]
    }
   ],
   "source": [
    "# Strings are also iterable objects, containing a sequence of characters:\n",
    "\n",
    "mystr = \"banana\"\n",
    "myit = iter(mystr)\n",
    "\n",
    "print(next(myit))\n",
    "print(next(myit))\n",
    "print(next(myit))\n",
    "print(next(myit))\n",
    "print(next(myit))\n",
    "print(next(myit))"
   ]
  },
  {
   "cell_type": "code",
   "execution_count": 13,
   "id": "774d79b7",
   "metadata": {},
   "outputs": [
    {
     "name": "stdout",
     "output_type": "stream",
     "text": [
      "apple\n",
      "banana\n",
      "cherry\n"
     ]
    }
   ],
   "source": [
    "# Looping Through an Iterator - We can also use a for loop to iterate through an iterable object:\n",
    "# Iterate the values of a tuple:\n",
    "mytuple = (\"apple\", \"banana\", \"cherry\")\n",
    "\n",
    "for x in mytuple:\n",
    "  print(x)"
   ]
  },
  {
   "cell_type": "code",
   "execution_count": 17,
   "id": "4557edaa",
   "metadata": {},
   "outputs": [
    {
     "name": "stdout",
     "output_type": "stream",
     "text": [
      "b\n",
      "a\n",
      "n\n",
      "a\n",
      "n\n",
      "a\n"
     ]
    }
   ],
   "source": [
    "# Iterate the characters of a string:\n",
    "mystr = \"banana\"\n",
    "\n",
    "for x in mystr:\n",
    "  print(x)\n",
    "\n",
    "# The for loop actually creates an iterator object and executes the next() method for each loop."
   ]
  },
  {
   "cell_type": "code",
   "execution_count": 26,
   "id": "8532ad39",
   "metadata": {},
   "outputs": [
    {
     "name": "stdout",
     "output_type": "stream",
     "text": [
      "1\n",
      "2\n",
      "3\n",
      "4\n",
      "5\n",
      "6\n",
      "7\n"
     ]
    }
   ],
   "source": [
    "# Create an Iterator\n",
    "\"\"\"\n",
    "To create an object/class as an iterator you have to implement the methods __iter__() and __next__() to your object.\n",
    "\n",
    "As you have learned in the Python Classes/Objects chapter, all classes have a function called __init__(), which allows you to do some initializing when the object is being created.\n",
    "\n",
    "The __iter__() method acts similar, you can do operations (initializing etc.), but must always return the iterator object itself.\n",
    "\n",
    "The __next__() method also allows you to do operations, and must return the next item in the sequence.\n",
    "\"\"\"\n",
    "\n",
    "\n",
    "# Create an iterator that returns numbers, starting with 1, and each sequence will increase by one (returning 1,2,3,4,5 etc.):\n",
    "\n",
    "\n",
    "class MyNumber:\n",
    "    def __iter__(self):\n",
    "        self.a = 1 # định nghĩa cho a =1\n",
    "        return self\n",
    "    \n",
    "    def __next__(self):\n",
    "        x = self.a # gán x = a => current x = 1 (will be increase by a)\n",
    "        self.a += 1 # increase a => a = 2\n",
    "        return x\n",
    "\n",
    "myNumber = MyNumber()\n",
    "myIter = iter(myNumber)\n",
    "\n",
    "print(next(myIter))\n",
    "print(next(myIter))\n",
    "print(next(myIter))\n",
    "print(next(myIter))\n",
    "print(next(myIter))\n",
    "print(next(myIter))\n",
    "print(next(myIter))"
   ]
  },
  {
   "cell_type": "code",
   "execution_count": 29,
   "id": "77cb22cb",
   "metadata": {},
   "outputs": [
    {
     "name": "stdout",
     "output_type": "stream",
     "text": [
      "1\n",
      "2\n",
      "3\n",
      "4\n",
      "5\n",
      "6\n",
      "7\n",
      "8\n",
      "9\n",
      "10\n",
      "11\n",
      "12\n",
      "13\n",
      "14\n",
      "15\n",
      "16\n",
      "17\n",
      "18\n",
      "19\n",
      "20\n"
     ]
    }
   ],
   "source": [
    "# StopIteration\n",
    "\"\"\"\n",
    "The example above would continue forever if you had enough next() statements, or if it was used in a for loop.\n",
    "\n",
    "To prevent the iteration to go on forever, we can use the StopIteration statement.\n",
    "\n",
    "In the __next__() method, we can add a terminating condition to raise an error if the iteration is done a specified number of times:\n",
    "\"\"\"\n",
    "\n",
    "# Stop after 20 iterations:\n",
    "class MyNumbers:\n",
    "  def __iter__(self):\n",
    "    self.a = 1\n",
    "    return self\n",
    "\n",
    "  def __next__(self):\n",
    "    if self.a <= 20:\n",
    "      x = self.a\n",
    "      self.a += 1\n",
    "      return x\n",
    "    else:\n",
    "      raise StopIteration\n",
    "\n",
    "myclass = MyNumbers()\n",
    "myiter = iter(myclass)\n",
    "\n",
    "for x in myiter:\n",
    "  print(x)"
   ]
  },
  {
   "cell_type": "markdown",
   "id": "72d0072e",
   "metadata": {},
   "source": [
    "## Python Scope\n",
    "\n",
    " - A variable is only available from inside the region it is created. This is called scope."
   ]
  },
  {
   "cell_type": "code",
   "execution_count": 30,
   "id": "11e968ce",
   "metadata": {},
   "outputs": [
    {
     "name": "stdout",
     "output_type": "stream",
     "text": [
      "300\n"
     ]
    }
   ],
   "source": [
    "# Local Scope\n",
    "# A variable created inside a function belongs to the local scope of that function, and can only be used inside that function.\n",
    "def myfunc():\n",
    "  x = 300\n",
    "  print(x)\n",
    "\n",
    "myfunc()"
   ]
  },
  {
   "cell_type": "code",
   "execution_count": 32,
   "id": "d821ec7f",
   "metadata": {},
   "outputs": [
    {
     "name": "stdout",
     "output_type": "stream",
     "text": [
      "300\n"
     ]
    }
   ],
   "source": [
    "# Function Inside Function\n",
    "# As explained in the example above, the variable x is not available outside the function, but it is available for any function inside the function:\n",
    "# The local variable can be accessed from a function within the function:\n",
    "\n",
    "def myfunc():\n",
    "  x = 300\n",
    "  def myinnerfunc():\n",
    "    print(x)\n",
    "  myinnerfunc() # 300\n",
    "\n",
    "myfunc()"
   ]
  },
  {
   "cell_type": "code",
   "execution_count": 34,
   "id": "a5b7bb39",
   "metadata": {},
   "outputs": [
    {
     "name": "stdout",
     "output_type": "stream",
     "text": [
      "300\n",
      "300\n"
     ]
    }
   ],
   "source": [
    "# Global Scope\n",
    "# A variable created in the main body of the Python code is a global variable and belongs to the global scope.\n",
    "# Global variables are available from within any scope, global and local.\n",
    "# A variable created outside of a function is global and can be used by anyone:\n",
    "x = 300\n",
    "\n",
    "def myfunc():\n",
    "  print(x)\n",
    "\n",
    "myfunc()\n",
    "\n",
    "print(x)"
   ]
  },
  {
   "cell_type": "code",
   "execution_count": 35,
   "id": "b3817302",
   "metadata": {},
   "outputs": [
    {
     "name": "stdout",
     "output_type": "stream",
     "text": [
      "200\n",
      "300\n"
     ]
    }
   ],
   "source": [
    "# Naming Variables\n",
    "\"\"\"\n",
    "If you operate with the same variable name inside and outside of a function, \n",
    "Python will treat them as two separate variables, one available in the global scope (outside the function) \n",
    "and one available in the local scope (inside the function):\n",
    "\"\"\"\n",
    "# The function will print the local x, and then the code will print the global x:\n",
    "\n",
    "x = 300\n",
    "\n",
    "def myfunc():\n",
    "  x = 200\n",
    "  print(x)\n",
    "\n",
    "myfunc() # 200\n",
    "\n",
    "print(x) # 300\n"
   ]
  },
  {
   "cell_type": "code",
   "execution_count": 37,
   "id": "b5f05a5c",
   "metadata": {},
   "outputs": [
    {
     "name": "stdout",
     "output_type": "stream",
     "text": [
      "300\n"
     ]
    }
   ],
   "source": [
    "# Global Keyword\n",
    "\n",
    "# If you need to create a global variable, but are stuck in the local scope, you can use the global keyword.\n",
    "# The global keyword makes the variable global.\n",
    "\n",
    "# If you use the global keyword, the variable belongs to the global scope:\n",
    "def myfunc():\n",
    "  global x # make x to global variable\n",
    "  x = 300\n",
    "\n",
    "myfunc()\n",
    "\n",
    "print(x)"
   ]
  },
  {
   "cell_type": "code",
   "execution_count": 39,
   "id": "51c4e2ca",
   "metadata": {},
   "outputs": [
    {
     "name": "stdout",
     "output_type": "stream",
     "text": [
      "200\n"
     ]
    }
   ],
   "source": [
    "# Also, use the global keyword if you want to make a change to a global variable inside a function.\n",
    "# To change the value of a global variable inside a function, refer to the variable by using the global keyword:\n",
    "\n",
    "x = 300\n",
    "\n",
    "def myfunc():\n",
    "  global x\n",
    "  x = 200 # chage value of global x from 300 to 200\n",
    "\n",
    "myfunc()\n",
    "\n",
    "print(x)"
   ]
  },
  {
   "cell_type": "markdown",
   "id": "cdfd95a5",
   "metadata": {},
   "source": [
    "## Python Modules\n",
    "    - Consider a module to be the same as a code library.\n",
    "    - A file containing a set of functions you want to include in your application."
   ]
  },
  {
   "cell_type": "code",
   "execution_count": 42,
   "id": "d857ebf2",
   "metadata": {},
   "outputs": [
    {
     "data": {
      "text/plain": [
       "'\\n# file lesson2_Modules.py\\ndef greeting(name):\\n  print(\"Hello, \" + name)\\n'"
      ]
     },
     "execution_count": 42,
     "metadata": {},
     "output_type": "execute_result"
    }
   ],
   "source": [
    "\"\"\"\n",
    "# file lesson2_Modules.py\n",
    "def greeting(name):\n",
    "  print(\"Hello, \" + name)\n",
    "\"\"\""
   ]
  },
  {
   "cell_type": "code",
   "execution_count": 42,
   "id": "dd0886a5",
   "metadata": {},
   "outputs": [
    {
     "data": {
      "text/plain": [
       "'\\n# file lesson2_Modules.py\\ndef greeting(name):\\n  print(\"Hello, \" + name)\\n'"
      ]
     },
     "execution_count": 42,
     "metadata": {},
     "output_type": "execute_result"
    }
   ],
   "source": [
    "\"\"\"\n",
    "# file lesson2_Modules.py\n",
    "def greeting(name):\n",
    "  print(\"Hello, \" + name)\n",
    "\"\"\""
   ]
  },
  {
   "cell_type": "code",
   "execution_count": 67,
   "id": "e2ef0269",
   "metadata": {},
   "outputs": [
    {
     "name": "stdout",
     "output_type": "stream",
     "text": [
      "Hello, Ha Minh Duc\n"
     ]
    }
   ],
   "source": [
    "# Create a Module\n",
    "# To create a module just save the code you want in a file with the file extension .py (lesson2_Modules.py)\n",
    "\n",
    "# Use a Module\n",
    "# Now we can use the module we just created, by using the import statement:\n",
    "# Import the module named mymodule, and call the greeting function:\n",
    "\n",
    "import lesson2_Modules # lesson2_Modules.py\n",
    "lesson2_Modules.greeting('Ha Minh Duc') # Hello, Ha Minh Duc\n",
    "\n",
    "# Note: When using a function from a module, use the syntax: module_name.function_name."
   ]
  },
  {
   "cell_type": "code",
   "execution_count": 49,
   "id": "3aea8391",
   "metadata": {},
   "outputs": [],
   "source": [
    "# Variables in Module\n",
    "# The module can contain functions, as already described, but also variables of all types (arrays, dictionaries, objects etc):"
   ]
  },
  {
   "cell_type": "code",
   "execution_count": 51,
   "id": "ec678e70",
   "metadata": {},
   "outputs": [
    {
     "data": {
      "text/plain": [
       "'\\nperson1 = {\\n  \"name\": \"John\",\\n  \"age\": 36,\\n  \"country\": \"Norway\"\\n}\\n'"
      ]
     },
     "execution_count": 51,
     "metadata": {},
     "output_type": "execute_result"
    }
   ],
   "source": [
    "# file lesson2_Modules2.py\n",
    "\"\"\"\n",
    "person1 = {\n",
    "  \"name\": \"John\",\n",
    "  \"age\": 36,\n",
    "  \"country\": \"Norway\"\n",
    "}\n",
    "\"\"\""
   ]
  },
  {
   "cell_type": "code",
   "execution_count": 61,
   "id": "fa7e1a21",
   "metadata": {},
   "outputs": [
    {
     "name": "stdout",
     "output_type": "stream",
     "text": [
      "36\n"
     ]
    }
   ],
   "source": [
    "# Import the module named lesson2_Modules2, and access the person1 dictionary:\n",
    "\n",
    "import lesson2_Modules2 # lesson2_Modules2.py\n",
    "a = lesson2_Modules2.person1[\"age\"]\n",
    "print(a)"
   ]
  },
  {
   "cell_type": "code",
   "execution_count": 68,
   "id": "a322375f",
   "metadata": {},
   "outputs": [
    {
     "name": "stdout",
     "output_type": "stream",
     "text": [
      "John\n"
     ]
    }
   ],
   "source": [
    "# Re-naming a Module\n",
    "# You can create an alias when you import a module, by using the as keyword:\n",
    "# Create an alias for mymodule called mx:\n",
    "import lesson2_Modules2 as lsmd2\n",
    "a = lsmd2.person1[\"name\"]\n",
    "print(a)"
   ]
  },
  {
   "cell_type": "code",
   "execution_count": 74,
   "id": "bf51f019",
   "metadata": {},
   "outputs": [
    {
     "name": "stdout",
     "output_type": "stream",
     "text": [
      "Windows\n"
     ]
    }
   ],
   "source": [
    "# Built-in Modules\n",
    "# There are several built-in modules in Python, which you can import whenever you like.\n",
    "# Import and use the platform module:\n",
    "\n",
    "import platform\n",
    "\n",
    "x = platform.system()\n",
    "print(x) # Windows"
   ]
  },
  {
   "cell_type": "code",
   "execution_count": 76,
   "id": "2ecd14d2",
   "metadata": {},
   "outputs": [
    {
     "name": "stdout",
     "output_type": "stream",
     "text": [
      "['_WIN32_CLIENT_RELEASES', '_WIN32_SERVER_RELEASES', '__builtins__', '__cached__', '__copyright__', '__doc__', '__file__', '__loader__', '__name__', '__package__', '__spec__', '__version__', '_comparable_version', '_component_re', '_default_architecture', '_follow_symlinks', '_ironpython26_sys_version_parser', '_ironpython_sys_version_parser', '_java_getprop', '_libc_search', '_mac_ver_xml', '_node', '_norm_version', '_platform', '_platform_cache', '_pypy_sys_version_parser', '_sys_version', '_sys_version_cache', '_sys_version_parser', '_syscmd_file', '_syscmd_uname', '_syscmd_ver', '_uname_cache', '_ver_output', '_ver_stages', 'architecture', 'collections', 'java_ver', 'libc_ver', 'mac_ver', 'machine', 'node', 'os', 'platform', 'processor', 'python_branch', 'python_build', 'python_compiler', 'python_implementation', 'python_revision', 'python_version', 'python_version_tuple', 're', 'release', 'sys', 'system', 'system_alias', 'uname', 'uname_result', 'version', 'win32_edition', 'win32_is_iot', 'win32_ver']\n"
     ]
    }
   ],
   "source": [
    "# Using the dir() Function\n",
    "# There is a built-in function to list all the function names (or variable names) in a module. The dir() function:\n",
    "# List all the defined names belonging to the platform module:\n",
    "import platform\n",
    "\n",
    "x = dir(platform)\n",
    "print(x)\n",
    "\n",
    "# Note: The dir() function can be used on all modules, also the ones you create yourself."
   ]
  },
  {
   "cell_type": "code",
   "execution_count": 88,
   "id": "83c8e99c",
   "metadata": {},
   "outputs": [
    {
     "name": "stdout",
     "output_type": "stream",
     "text": [
      "22\n",
      "['__class__', '__contains__', '__delattr__', '__delitem__', '__dir__', '__doc__', '__eq__', '__format__', '__ge__', '__getattribute__', '__getitem__', '__gt__', '__hash__', '__init__', '__init_subclass__', '__iter__', '__le__', '__len__', '__lt__', '__ne__', '__new__', '__reduce__', '__reduce_ex__', '__repr__', '__reversed__', '__setattr__', '__setitem__', '__sizeof__', '__str__', '__subclasshook__', 'clear', 'copy', 'fromkeys', 'get', 'items', 'keys', 'pop', 'popitem', 'setdefault', 'update', 'values']\n"
     ]
    }
   ],
   "source": [
    "# Import From Module\n",
    "# You can choose to import only parts from a module, by using the from keyword.\n",
    "# The module named lesson2_Modules3 has one function and one dictionary:\n",
    "\"\"\" lesson2_Modules3.py\n",
    "def greeting(name):\n",
    "  print(\"Hello, \" + name)\n",
    "\n",
    "person1 = {\n",
    "  \"name\": \"Nguyen Tu Anh\",\n",
    "  \"age\": 22,\n",
    "  \"country\": \"TN - Viet Nam\"\n",
    "}\n",
    "\"\"\"\n",
    "\n",
    "# Import only the person1 dictionary from the module:\n",
    "from lesson2_Modules3 import person1\n",
    "\n",
    "print (person1[\"age\"])\n",
    "# Note: When importing using the from keyword, do not use the module name when referring to elements in the module. Example: person1[\"age\"], not mymodule.person1[\"age\"]"
   ]
  },
  {
   "cell_type": "code",
   "execution_count": 89,
   "id": "35892325",
   "metadata": {},
   "outputs": [
    {
     "name": "stdout",
     "output_type": "stream",
     "text": [
      "['__builtins__', '__cached__', '__doc__', '__file__', '__loader__', '__name__', '__package__', '__spec__', 'greeting', 'person1']\n"
     ]
    }
   ],
   "source": [
    "import lesson2_Modules3 as ls2md3\n",
    "print(dir(ls2md3))"
   ]
  },
  {
   "cell_type": "markdown",
   "id": "e1598413",
   "metadata": {},
   "source": [
    "## Python Dates"
   ]
  },
  {
   "cell_type": "code",
   "execution_count": 92,
   "id": "332c7352",
   "metadata": {},
   "outputs": [
    {
     "name": "stdout",
     "output_type": "stream",
     "text": [
      "2023-04-05 12:38:52.252643\n"
     ]
    }
   ],
   "source": [
    "# A date in Python is not a data type of its own, but we can import a module named datetime to work with dates as date objects.\n",
    "# Import the datetime module and display the current date:\n",
    "import datetime\n",
    "\n",
    "x = datetime.datetime.now()\n",
    "print(x) # 2023-04-05 12:38:47.137326"
   ]
  },
  {
   "cell_type": "markdown",
   "id": "c8344389",
   "metadata": {},
   "source": [
    "### Date Output\n",
    "    - When we execute the code from the example above the result will be:\n",
    "    - 2023-04-05 12:38:47.137326\n",
    "    - The date contains year, month, day, hour, minute, second, and microsecond.\n",
    "    - The datetime module has many methods to return information about the date object.\n",
    "    - Here are a few examples, you will learn more about them later in this chapter:"
   ]
  },
  {
   "cell_type": "code",
   "execution_count": 96,
   "id": "f766a33b",
   "metadata": {},
   "outputs": [
    {
     "name": "stdout",
     "output_type": "stream",
     "text": [
      "2023\n",
      "Wednesday\n"
     ]
    }
   ],
   "source": [
    "# Return the year and name of weekday:\n",
    "import datetime\n",
    "\n",
    "x = datetime.datetime.now()\n",
    "\n",
    "print(x.year)\n",
    "print(x.strftime(\"%A\"))"
   ]
  },
  {
   "cell_type": "code",
   "execution_count": 102,
   "id": "c812a93a",
   "metadata": {},
   "outputs": [
    {
     "name": "stdout",
     "output_type": "stream",
     "text": [
      "2023-05-17 00:00:00\n"
     ]
    }
   ],
   "source": [
    "# Creating Date Objects\n",
    "\n",
    "# To create a date, we can use the datetime() class (constructor) of the datetime module.\n",
    "# The datetime() class requires three parameters to create a date: year, month, day.\n",
    "# Create a date object:\n",
    "import datetime\n",
    "\n",
    "x = datetime.datetime(2023, 5, 17)\n",
    "\n",
    "print(x)\n",
    "\n",
    "# The datetime() class also takes parameters for time and timezone (hour, minute, second, microsecond, tzone), \n",
    "# but they are optional, and has a default value of 0, (None for timezone)."
   ]
  },
  {
   "cell_type": "code",
   "execution_count": 118,
   "id": "4f0485c4",
   "metadata": {},
   "outputs": [
    {
     "name": "stdout",
     "output_type": "stream",
     "text": [
      "September\n",
      "Tue, Tuesday, 2, 25, Sep, September, 09, 01, 2001, 00, 12, AM, 00, 00, 000000, , , 268, 38, 39, Tue Sep 25 00:00:00 2001, 20, 09/25/01, 00:00:00, %, 2001, 2, 39\n"
     ]
    }
   ],
   "source": [
    "# The strftime() Method\n",
    "# The datetime object has a method for formatting date objects into readable strings.\n",
    "# The method is called strftime(), and takes one parameter, format, to specify the format of the returned string:\n",
    "\n",
    "# Display the name of the month:\n",
    "import datetime\n",
    "\n",
    "# x = datetime.datetime(2018, 6, 1)\n",
    "# x = datetime.datetime(2018, 7, 1)\n",
    "x = datetime.datetime(2001, 9, 25)\n",
    "\n",
    "print(x.strftime(\"%B\"))\n",
    "print(x.strftime(\"%a, %A, %w, %d, %b, %B, %m, %y, %Y, %H, %I, %p, %M, %S, %f, %z, %Z, %j, %U, %W, %c, %C, %x, %X, %%, %G, %u, %V\"))"
   ]
  },
  {
   "cell_type": "markdown",
   "id": "ed8c7802",
   "metadata": {},
   "source": [
    "## Python Math"
   ]
  },
  {
   "cell_type": "code",
   "execution_count": 122,
   "id": "172374d8",
   "metadata": {},
   "outputs": [],
   "source": [
    "# Python has a set of built-in math functions, including an extensive math module, \n",
    "# that allows you to perform mathematical tasks on numbers.\n",
    "\n",
    "# Built-in Math Functions\n",
    "# The min() and max() functions can be used to find the lowest or highest value in an iterable:"
   ]
  },
  {
   "cell_type": "code",
   "execution_count": 123,
   "id": "d3d126ae",
   "metadata": {},
   "outputs": [
    {
     "name": "stdout",
     "output_type": "stream",
     "text": [
      "5\n",
      "25\n"
     ]
    }
   ],
   "source": [
    "x = min(5, 10, 25)\n",
    "y = max(5, 10, 25)\n",
    "\n",
    "print(x)\n",
    "print(y)"
   ]
  },
  {
   "cell_type": "code",
   "execution_count": 126,
   "id": "358d2cad",
   "metadata": {},
   "outputs": [
    {
     "name": "stdout",
     "output_type": "stream",
     "text": [
      "7.25\n"
     ]
    }
   ],
   "source": [
    "# The abs() function returns the absolute (positive) value of the specified number:\n",
    "x = abs(-7.25)\n",
    "\n",
    "print(x)"
   ]
  },
  {
   "cell_type": "code",
   "execution_count": 128,
   "id": "46444498",
   "metadata": {},
   "outputs": [
    {
     "name": "stdout",
     "output_type": "stream",
     "text": [
      "64\n"
     ]
    }
   ],
   "source": [
    "# The pow(x, y) function returns the value of x to the power of y (xy).\n",
    "x = pow(4, 3)\n",
    "\n",
    "print(x)"
   ]
  },
  {
   "cell_type": "code",
   "execution_count": 132,
   "id": "792b7167",
   "metadata": {},
   "outputs": [
    {
     "name": "stdout",
     "output_type": "stream",
     "text": [
      "8.0\n"
     ]
    }
   ],
   "source": [
    "# The Math Module\n",
    "# Python has also a built-in module called math, which extends the list of mathematical functions.\n",
    "# To use it, you must import the math module:\n",
    "\n",
    "import math\n",
    "# The math.sqrt() method for example, returns the square root of a number:\n",
    "\n",
    "x = math.sqrt(64)\n",
    "\n",
    "print(x)"
   ]
  },
  {
   "cell_type": "code",
   "execution_count": 134,
   "id": "a449d420",
   "metadata": {},
   "outputs": [
    {
     "name": "stdout",
     "output_type": "stream",
     "text": [
      "2\n",
      "1\n"
     ]
    }
   ],
   "source": [
    "# The math.ceil() method rounds a number upwards to its nearest integer, \n",
    "# and the math.floor() method rounds a number downwards to its nearest integer, and returns the result:\n",
    "import math\n",
    "\n",
    "x = math.ceil(1.4)\n",
    "y = math.floor(1.4)\n",
    "\n",
    "print(x) # returns 2\n",
    "print(y) # returns 1"
   ]
  },
  {
   "cell_type": "code",
   "execution_count": 136,
   "id": "953c9a51",
   "metadata": {},
   "outputs": [
    {
     "name": "stdout",
     "output_type": "stream",
     "text": [
      "3.141592653589793\n"
     ]
    }
   ],
   "source": [
    "import math\n",
    "\n",
    "x = math.pi\n",
    "\n",
    "print(x)"
   ]
  },
  {
   "cell_type": "markdown",
   "id": "51083d7c",
   "metadata": {},
   "source": [
    "## Python JSON\n",
    "    - JSON is a syntax for storing and exchanging data.\n",
    "\n",
    "    - JSON is text, written with JavaScript object notation."
   ]
  },
  {
   "cell_type": "code",
   "execution_count": 141,
   "id": "88c856a5",
   "metadata": {},
   "outputs": [
    {
     "name": "stdout",
     "output_type": "stream",
     "text": [
      "30\n"
     ]
    }
   ],
   "source": [
    "# JSON in Python\n",
    "# Python has a built-in package called json, which can be used to work with JSON data.\n",
    "\n",
    "# Import the json module: - Parse JSON\n",
    "# If you have a JSON string, you can parse it by using the json.loads() method.\n",
    "# Convert from JSON to Python\n",
    "\n",
    "import json\n",
    "\n",
    "# some JSON:\n",
    "x =  '{ \"name\":\"John\", \"age\":30, \"city\":\"New York\"}'\n",
    "\n",
    "# parse x:\n",
    "y = json.loads(x)\n",
    "\n",
    "# the result is a Python dictionary:\n",
    "print(y[\"age\"])"
   ]
  },
  {
   "cell_type": "code",
   "execution_count": 8,
   "id": "5031dba7",
   "metadata": {},
   "outputs": [
    {
     "name": "stdout",
     "output_type": "stream",
     "text": [
      "{\"name\": \"Nguyen Tu Anh\", \"age\": 22, \"city\": \"Thai Nguyen\"}\n"
     ]
    }
   ],
   "source": [
    "\"\"\"\n",
    "You can convert Python objects of the following types, into JSON strings:\n",
    "\n",
    "dict\n",
    "list\n",
    "tuple\n",
    "string\n",
    "int\n",
    "float\n",
    "True\n",
    "False\n",
    "None\n",
    "\"\"\"\n",
    "\n",
    "# Convert from Python to JSON\n",
    "# If you have a Python object, you can convert it into a JSON string by using the json.dumps() method.\n",
    "# Convert from Python to JSON:\n",
    "\n",
    "import json\n",
    "\n",
    "# a Python object (dict):\n",
    "x = {\n",
    "  \"name\": \"Nguyen Tu Anh\",\n",
    "  \"age\": 22,\n",
    "  \"city\": \"Thai Nguyen\"\n",
    "}\n",
    "\n",
    "# convert into JSON:\n",
    "y = json.dumps(x)\n",
    "\n",
    "# the result is a JSON string:\n",
    "print(y)"
   ]
  },
  {
   "cell_type": "code",
   "execution_count": 9,
   "id": "04918855",
   "metadata": {},
   "outputs": [
    {
     "name": "stdout",
     "output_type": "stream",
     "text": [
      "{\"name\": \"John\", \"age\": 30}\n",
      "[\"apple\", \"bananas\"]\n",
      "[\"apple\", \"bananas\"]\n",
      "\"hello\"\n",
      "42\n",
      "31.76\n",
      "true\n",
      "false\n",
      "null\n"
     ]
    }
   ],
   "source": [
    "# Convert Python objects into JSON strings, and print the values:\n",
    "\n",
    "import json\n",
    "\n",
    "print(json.dumps({\"name\": \"John\", \"age\": 30}))\n",
    "print(json.dumps([\"apple\", \"bananas\"]))\n",
    "print(json.dumps((\"apple\", \"bananas\")))\n",
    "print(json.dumps(\"hello\"))\n",
    "print(json.dumps(42))\n",
    "print(json.dumps(31.76))\n",
    "print(json.dumps(True))\n",
    "print(json.dumps(False))\n",
    "print(json.dumps(None))"
   ]
  },
  {
   "cell_type": "markdown",
   "id": "f626e05a",
   "metadata": {},
   "source": [
    "##### When you convert from Python to JSON, Python objects are converted into the JSON (JavaScript) equivalent:\n",
    "\n",
    "![Alt text](img/json.png)\n"
   ]
  },
  {
   "cell_type": "code",
   "execution_count": 12,
   "id": "4007f838",
   "metadata": {},
   "outputs": [
    {
     "name": "stdout",
     "output_type": "stream",
     "text": [
      "{\"name\": \"John\", \"age\": 30, \"married\": true, \"divorced\": false, \"children\": [\"Ann\", \"Billy\"], \"pets\": null, \"cars\": [{\"model\": \"BMW 230\", \"mpg\": 27.5}, {\"model\": \"Ford Edge\", \"mpg\": 24.1}]}\n"
     ]
    }
   ],
   "source": [
    "# Convert a Python object containing all the legal data types:\n",
    "\n",
    "import json\n",
    "\n",
    "x = {\n",
    "  \"name\": \"John\",\n",
    "  \"age\": 30,\n",
    "  \"married\": True,\n",
    "  \"divorced\": False,\n",
    "  \"children\": (\"Ann\",\"Billy\"),\n",
    "  \"pets\": None,\n",
    "  \"cars\": [\n",
    "    {\"model\": \"BMW 230\", \"mpg\": 27.5},\n",
    "    {\"model\": \"Ford Edge\", \"mpg\": 24.1}\n",
    "  ]\n",
    "}\n",
    "\n",
    "print(json.dumps(x))"
   ]
  },
  {
   "cell_type": "code",
   "execution_count": 16,
   "id": "92bb533f",
   "metadata": {},
   "outputs": [
    {
     "name": "stdout",
     "output_type": "stream",
     "text": [
      "{\n",
      "    \"name\": \"John\",\n",
      "    \"age\": 30,\n",
      "    \"married\": true,\n",
      "    \"divorced\": false,\n",
      "    \"children\": [\n",
      "        \"Ann\",\n",
      "        \"Billy\"\n",
      "    ],\n",
      "    \"pets\": null,\n",
      "    \"cars\": [\n",
      "        {\n",
      "            \"model\": \"BMW 230\",\n",
      "            \"mpg\": 27.5\n",
      "        },\n",
      "        {\n",
      "            \"model\": \"Ford Edge\",\n",
      "            \"mpg\": 24.1\n",
      "        }\n",
      "    ]\n",
      "}\n"
     ]
    }
   ],
   "source": [
    "# Format the Result\n",
    "\n",
    "\"\"\"\n",
    "The example above prints a JSON string, but it is not very easy to read, with no indentations and line breaks.\n",
    "\n",
    "The json.dumps() method has parameters to make it easier to read the result:\n",
    "\"\"\"\n",
    "    \n",
    "# Use the indent parameter to define the numbers of indents:\n",
    "\n",
    "import json\n",
    "\n",
    "x = {\n",
    "  \"name\": \"John\",\n",
    "  \"age\": 30,\n",
    "  \"married\": True,\n",
    "  \"divorced\": False,\n",
    "  \"children\": (\"Ann\",\"Billy\"),\n",
    "  \"pets\": None,\n",
    "  \"cars\": [\n",
    "    {\"model\": \"BMW 230\", \"mpg\": 27.5},\n",
    "    {\"model\": \"Ford Edge\", \"mpg\": 24.1}\n",
    "  ]\n",
    "}\n",
    "\n",
    "# use four indents to make it easier to read the result:\n",
    "# print(json.dumps(x, indent=0))\n",
    "print(json.dumps(x, indent=4)) # dễ đọc hơn :>\n"
   ]
  },
  {
   "cell_type": "code",
   "execution_count": 20,
   "id": "32debe1f",
   "metadata": {},
   "outputs": [
    {
     "name": "stdout",
     "output_type": "stream",
     "text": [
      "{\n",
      "    \"name\" = \"John\". \n",
      "    \"age\" = 30. \n",
      "    \"married\" = true. \n",
      "    \"divorced\" = false. \n",
      "    \"children\" = [\n",
      "        \"Ann\". \n",
      "        \"Billy\"\n",
      "    ]. \n",
      "    \"pets\" = null. \n",
      "    \"cars\" = [\n",
      "        {\n",
      "            \"model\" = \"BMW 230\". \n",
      "            \"mpg\" = 27.5\n",
      "        }. \n",
      "        {\n",
      "            \"model\" = \"Ford Edge\". \n",
      "            \"mpg\" = 24.1\n",
      "        }\n",
      "    ]\n",
      "}\n"
     ]
    }
   ],
   "source": [
    "\"\"\"\n",
    "You can also define the separators, default value is (\", \", \": \"), \n",
    "which means using a comma and a space to separate each object, and a colon and a space to separate keys from values:\n",
    "\"\"\"\n",
    "\n",
    "# Use the separators parameter to change the default separator:\n",
    "import json\n",
    "\n",
    "x = {\n",
    "  \"name\": \"John\",\n",
    "  \"age\": 30,\n",
    "  \"married\": True,\n",
    "  \"divorced\": False,\n",
    "  \"children\": (\"Ann\",\"Billy\"),\n",
    "  \"pets\": None,\n",
    "  \"cars\": [\n",
    "    {\"model\": \"BMW 230\", \"mpg\": 27.5},\n",
    "    {\"model\": \"Ford Edge\", \"mpg\": 24.1}\n",
    "  ]\n",
    "}\n",
    "\n",
    "# use . and a space to separate objects, and a space, a = and a space to separate keys from their values:\n",
    "print(json.dumps(x, indent=4, separators=(\". \", \" = \"))) # chuyển dấu ',' => '.'\n"
   ]
  },
  {
   "cell_type": "code",
   "execution_count": 28,
   "id": "c06686ca",
   "metadata": {},
   "outputs": [
    {
     "name": "stdout",
     "output_type": "stream",
     "text": [
      "{\n",
      "    \"age\": 30,\n",
      "    \"cars\": [\n",
      "        {\n",
      "            \"model\": \"BMW 230\",\n",
      "            \"mpg\": 27.5\n",
      "        },\n",
      "        {\n",
      "            \"model\": \"Ford Edge\",\n",
      "            \"mpg\": 24.1\n",
      "        }\n",
      "    ],\n",
      "    \"children\": [\n",
      "        \"Ann\",\n",
      "        \"Billy\"\n",
      "    ],\n",
      "    \"divorced\": false,\n",
      "    \"married\": true,\n",
      "    \"name\": \"John\",\n",
      "    \"pets\": null\n",
      "}\n"
     ]
    }
   ],
   "source": [
    "# Order the Result - The json.dumps() method has parameters to order the keys in the result:\n",
    "# Use the sort_keys parameter to specify if the result should be sorted or not:\n",
    "import json\n",
    "\n",
    "x = {\n",
    "  \"name\": \"John\",\n",
    "  \"age\": 30,\n",
    "  \"married\": True,\n",
    "  \"divorced\": False,\n",
    "  \"children\": (\"Ann\",\"Billy\"),\n",
    "  \"pets\": None,\n",
    "  \"cars\": [\n",
    "    {\"model\": \"BMW 230\", \"mpg\": 27.5},\n",
    "    {\"model\": \"Ford Edge\", \"mpg\": 24.1}\n",
    "  ]\n",
    "}\n",
    "\n",
    "# sort the result alphabetically by keys:\n",
    "print(json.dumps(x, indent=4, sort_keys=True)) # sort_keys=True => will be sorted by alphabel"
   ]
  }
 ],
 "metadata": {
  "kernelspec": {
   "display_name": "Python 3 (ipykernel)",
   "language": "python",
   "name": "python3"
  },
  "language_info": {
   "codemirror_mode": {
    "name": "ipython",
    "version": 3
   },
   "file_extension": ".py",
   "mimetype": "text/x-python",
   "name": "python",
   "nbconvert_exporter": "python",
   "pygments_lexer": "ipython3",
   "version": "3.8.12"
  }
 },
 "nbformat": 4,
 "nbformat_minor": 5
}
