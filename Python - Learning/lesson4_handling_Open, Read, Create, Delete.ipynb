{
 "cells": [
  {
   "cell_type": "markdown",
   "id": "24d2eb51",
   "metadata": {},
   "source": [
    "## Python File Open\n",
    "    - File handling is an important part of any web application.\n",
    "    - Python has several functions for creating, reading, updating, and deleting files."
   ]
  },
  {
   "cell_type": "code",
   "execution_count": 34,
   "id": "555ce2c7",
   "metadata": {},
   "outputs": [],
   "source": [
    "# File Handling\n",
    "\"\"\"\n",
    "The key function for working with files in Python is the open() function.\n",
    "\n",
    "The open() function takes two parameters; filename, and mode.\n",
    "\n",
    "There are four different methods (modes) for opening a file:\n",
    "\n",
    "###############################################################\n",
    "\"r\" - Read - Default value. Opens a file for reading, error if the file does not exist\n",
    "\n",
    "\"a\" - Append - Opens a file for appending, creates the file if it does not exist\n",
    "\n",
    "\"w\" - Write - Opens a file for writing, creates the file if it does not exist\n",
    "\n",
    "\"x\" - Create - Creates the specified file, returns an error if the file exists\n",
    "\"\"\"\n",
    "\n",
    "# In addition you can specify if the file should be handled as binary or text mode\n",
    "\"\"\"\n",
    "\"t\" - Text - Default value. Text mode\n",
    "\n",
    "\"b\" - Binary - Binary mode (e.g. images)\n",
    "\"\"\"\n",
    "\n",
    "\n",
    "# Syntax - To open a file for reading it is enough to specify the name of the file:\n",
    "f = open(\"lession4_files/demofile.txt\")\n",
    "\n",
    "# The code above is the same as:\n",
    "f = open(\"lession4_files/demofile.txt\", \"rt\")\n",
    "\n",
    "# Because \"r\" for read, and \"t\" for text are the default values, you do not need to specify them.\n",
    "# Note: Make sure the file exists, or else you will get an error."
   ]
  },
  {
   "cell_type": "markdown",
   "id": "3f750f93",
   "metadata": {},
   "source": [
    "## Python File Read"
   ]
  },
  {
   "cell_type": "code",
   "execution_count": 35,
   "id": "359fe5b9",
   "metadata": {},
   "outputs": [
    {
     "name": "stdout",
     "output_type": "stream",
     "text": [
      "Hello! Welcome to demofile.txt\n",
      "This file is for testing purposes.\n",
      "Good Luck!\n"
     ]
    }
   ],
   "source": [
    "# Open a File on the Server\n",
    "## Assume we have the following file, located in the same folder as Python:\n",
    "\"\"\"\n",
    "demofile.txt\n",
    "\n",
    "Hello! Welcome to demofile.txt\n",
    "This file is for testing purposes.\n",
    "Good Luck!\n",
    "\"\"\"\n",
    "\n",
    "\"\"\"\n",
    "To open the file, use the built-in open() function.\n",
    "\n",
    "The open() function returns a file object, which has a read() method for reading the content of the file:\n",
    "\"\"\"\n",
    "\n",
    "# read from demofile.txt file\n",
    "f = open(\"lession4_files/demofile.txt\", \"r\")\n",
    "print(f.read())"
   ]
  },
  {
   "cell_type": "code",
   "execution_count": 7,
   "id": "3cdab0c0",
   "metadata": {},
   "outputs": [
    {
     "name": "stdout",
     "output_type": "stream",
     "text": [
      "meow meow meow\n"
     ]
    }
   ],
   "source": [
    "# If the file is located in a different location, you will have to specify the file path, like this:\n",
    "# Open a file on a different location:\n",
    "f = open(\"C:\\\\Users\\Admin\\Desktop\\Python - Learning\\lesson4_files\\welcome.txt\", \"r\") \n",
    "print(f.read())"
   ]
  },
  {
   "cell_type": "code",
   "execution_count": 36,
   "id": "8c8780da",
   "metadata": {},
   "outputs": [
    {
     "name": "stdout",
     "output_type": "stream",
     "text": [
      "Hello\n"
     ]
    }
   ],
   "source": [
    "# Read Only Parts of the File\n",
    "# By default the read() method returns the whole text, but you can also specify how many characters you want to return:\n",
    "\n",
    "# Return the 5 first characters of the file:\n",
    "f = open(\"lession4_files/demofile.txt\", \"r\")\n",
    "print(f.read(5))"
   ]
  },
  {
   "cell_type": "code",
   "execution_count": 37,
   "id": "144d8dc2",
   "metadata": {},
   "outputs": [
    {
     "name": "stdout",
     "output_type": "stream",
     "text": [
      "Hello! Welcome to demofile.txt\n",
      "\n",
      "This file is for tes\n"
     ]
    }
   ],
   "source": [
    "# Read Lines - You can return one line by using the readline() method:\n",
    "# Read one line of the file:\n",
    "f = open(\"lession4_files/demofile.txt\", \"r\")\n",
    "print(f.readline())\n",
    "print(f.readline(20)) # like read by char"
   ]
  },
  {
   "cell_type": "code",
   "execution_count": 38,
   "id": "205631b0",
   "metadata": {},
   "outputs": [
    {
     "name": "stdout",
     "output_type": "stream",
     "text": [
      "Hello! Welcome to demofile.txt\n",
      "\n",
      "This file is for testing purposes.\n",
      "\n"
     ]
    }
   ],
   "source": [
    "# By calling readline() two times, you can read the two first lines:\n",
    "# Read two lines of the file:\n",
    "\n",
    "f = open(\"lession4_files/demofile.txt\", \"r\")\n",
    "print(f.readline())\n",
    "print(f.readline())"
   ]
  },
  {
   "cell_type": "code",
   "execution_count": 39,
   "id": "2c9f9327",
   "metadata": {},
   "outputs": [
    {
     "name": "stdout",
     "output_type": "stream",
     "text": [
      "Hello! Welcome to demofile.txt\n",
      "\n",
      "This file is for testing purposes.\n",
      "\n",
      "Good Luck!\n"
     ]
    }
   ],
   "source": [
    "# By looping through the lines of the file, you can read the whole file, line by line:\n",
    "# Loop through the file line by line:\n",
    "f = open(\"lession4_files/demofile.txt\", \"r\")\n",
    "for x in f:\n",
    "  print(x)"
   ]
  },
  {
   "cell_type": "code",
   "execution_count": 32,
   "id": "b137c24a",
   "metadata": {},
   "outputs": [
    {
     "name": "stdout",
     "output_type": "stream",
     "text": [
      "Hello! Welcome to demofile.txt\n",
      "\n"
     ]
    }
   ],
   "source": [
    "# Close Files - It is a good practice to always close the file when you are done with it.\n",
    "# Close the file when you are finish with it:\n",
    "f = open(\"lession4_files/demofile.txt\", \"r\")\n",
    "print(f.readline())\n",
    "f.close()\n",
    "\n",
    "# Note: You should always close your files, in some cases, due to buffering, changes made to a file may not show until you close the file."
   ]
  },
  {
   "cell_type": "markdown",
   "id": "108eda3d",
   "metadata": {},
   "source": [
    "## Python File Write"
   ]
  },
  {
   "cell_type": "code",
   "execution_count": 31,
   "id": "c0d89b8d",
   "metadata": {},
   "outputs": [
    {
     "name": "stdout",
     "output_type": "stream",
     "text": [
      "Now the file has more content!\n"
     ]
    }
   ],
   "source": [
    "# Write to an Existing File\n",
    "\"\"\"\n",
    "To write to an existing file, you must add a parameter to the open() function:\n",
    "\n",
    "\"a\" - Append - will append to the end of the file\n",
    "\n",
    "\"w\" - Write - will overwrite any existing content\n",
    "\"\"\"\n",
    "\n",
    "# Open the file \"demofile2.txt\" and append content to the file:\n",
    "f = open(\"lession4_files/demofile2.txt\", \"a\")\n",
    "f.write(\"Now the file has more content!\")\n",
    "f.close()\n",
    "\n",
    "# open and read the file after the appending:\n",
    "f = open(\"lession4_files/demofile2.txt\", \"r\")\n",
    "print(f.read())"
   ]
  },
  {
   "cell_type": "code",
   "execution_count": 40,
   "id": "f759d834",
   "metadata": {},
   "outputs": [
    {
     "name": "stdout",
     "output_type": "stream",
     "text": [
      "Woops! I have deleted the content!\n"
     ]
    }
   ],
   "source": [
    "# Open the file \"demofile3.txt\" and overwrite the content:\n",
    "f = open(\"lession4_files/demofile3.txt\", \"w\")\n",
    "f.write(\"Woops! I have deleted the content!\")\n",
    "f.close()\n",
    "\n",
    "# open and read the file after the overwriting:\n",
    "f = open(\"lession4_files/demofile3.txt\", \"r\")\n",
    "print(f.read())\n",
    "f.close()\n",
    "\n",
    "# Note: the \"w\" method will overwrite the entire file."
   ]
  },
  {
   "cell_type": "code",
   "execution_count": 46,
   "id": "40e08ae3",
   "metadata": {},
   "outputs": [
    {
     "name": "stdout",
     "output_type": "stream",
     "text": [
      "file is created with parameters x!\n"
     ]
    }
   ],
   "source": [
    "# Create a New File\n",
    "\"\"\"\n",
    "To create a new file in Python, use the open() method, with one of the following parameters:\n",
    "\n",
    "\"x\" - Create - will create a file, returns an error if the file exist\n",
    "\n",
    "\"a\" - Append - will create a file if the specified file does not exist\n",
    "\n",
    "\"w\" - Write - will create a file if the specified file does not exist\n",
    "\"\"\"\n",
    "\n",
    "# Create a file called \"myfile.txt\":\n",
    "f = open(\"lession4_files/myfile.txt\", \"x\")\n",
    "f.close()\n",
    "print('file is created with parameters x!')"
   ]
  },
  {
   "cell_type": "code",
   "execution_count": 52,
   "id": "6bfe3bb8",
   "metadata": {},
   "outputs": [
    {
     "name": "stdout",
     "output_type": "stream",
     "text": [
      "file is created with parameters w!\n"
     ]
    }
   ],
   "source": [
    "# Create a new file if it does not exist:\n",
    "f = open(\"lession4_files/myfile.txt\", \"w\")\n",
    "f.close()\n",
    "print('file is created with parameters w!')"
   ]
  },
  {
   "cell_type": "markdown",
   "id": "e3b0e86b",
   "metadata": {},
   "source": [
    "## Python Delete File"
   ]
  },
  {
   "cell_type": "code",
   "execution_count": 53,
   "id": "5dfe09c5",
   "metadata": {},
   "outputs": [
    {
     "name": "stdout",
     "output_type": "stream",
     "text": [
      "that file deleted\n"
     ]
    }
   ],
   "source": [
    "# Delete a File\n",
    "# To delete a file, you must import the OS module, and run its os.remove() function:\n",
    "# Remove the file \"myfile.txt\":\n",
    "import os\n",
    "os.remove(\"lession4_files/myfile.txt\")\n",
    "print('that file deleted')"
   ]
  },
  {
   "cell_type": "code",
   "execution_count": 59,
   "id": "eeaf71d2",
   "metadata": {},
   "outputs": [
    {
     "name": "stdout",
     "output_type": "stream",
     "text": [
      "The file does not exist\n"
     ]
    }
   ],
   "source": [
    "# Check if File exist: - To avoid getting an error, you might want to check if the file exists before you try to delete it:\n",
    "# Check if file exists, then delete it:\n",
    "import os\n",
    "if os.path.exists(\"lession4_files/demofile4.txt\"):\n",
    "  os.remove(\"lession4_files/demofile4.txt\")\n",
    "  print(\"deleted\")\n",
    "else:\n",
    "  print(\"The file does not exist\")"
   ]
  },
  {
   "cell_type": "code",
   "execution_count": 63,
   "id": "7f6a9829",
   "metadata": {},
   "outputs": [
    {
     "name": "stdout",
     "output_type": "stream",
     "text": [
      "The file does not exist\n"
     ]
    }
   ],
   "source": [
    "# Delete Folder - To delete an entire folder, use the os.rmdir() method:\n",
    "# Remove the folder \"myfolder\":\n",
    "\n",
    "import os\n",
    "\n",
    "if os.path.exists(\"lession4_files/myfolder/\"):\n",
    "  os.rmdir(\"lession4_files/myfolder\")\n",
    "  print(\"deleted\")\n",
    "else:\n",
    "  print(\"The file does not exist\")\n",
    "\n",
    "# Note: You can only remove empty folders."
   ]
  }
 ],
 "metadata": {
  "kernelspec": {
   "display_name": "Python 3 (ipykernel)",
   "language": "python",
   "name": "python3"
  },
  "language_info": {
   "codemirror_mode": {
    "name": "ipython",
    "version": 3
   },
   "file_extension": ".py",
   "mimetype": "text/x-python",
   "name": "python",
   "nbconvert_exporter": "python",
   "pygments_lexer": "ipython3",
   "version": "3.8.12"
  }
 },
 "nbformat": 4,
 "nbformat_minor": 5
}
