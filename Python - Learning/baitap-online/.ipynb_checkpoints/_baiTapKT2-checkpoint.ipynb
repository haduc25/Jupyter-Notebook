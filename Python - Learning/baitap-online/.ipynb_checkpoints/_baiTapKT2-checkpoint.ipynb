{
 "cells": [
  {
   "cell_type": "markdown",
   "id": "bf57e820",
   "metadata": {},
   "source": [
    "### Xây dựng lớp HocSinh gồm có các thuộc tính: \n",
    "    ID, tên học sinh, quê quán, điểm toán, điểm lý, điểm hóa. \n",
    "    Xây dựng phương thức nhập/hiện thông tin cho một học sinh\n",
    " \n",
    "    Ghi chú: Điểm trung bình làm tròn đến 2 chữ số"
   ]
  },
  {
   "cell_type": "code",
   "execution_count": 24,
   "id": "190fb947",
   "metadata": {},
   "outputs": [
    {
     "name": "stdout",
     "output_type": "stream",
     "text": [
      "HS001\n",
      "Ha Minh DUsc\n",
      "Bk\n",
      "76\n",
      "8\n",
      "6\n",
      "HS001\n",
      "Ha Minh DUsc\n",
      "Bk\n",
      "30.0\n"
     ]
    }
   ],
   "source": [
    "class HocSinh:\n",
    "    def __init__(self, id, tenhs, qq, dtoan, dly, dhoa):\n",
    "        self.id = id\n",
    "        self.tenhs = tenhs\n",
    "        self.qq = qq\n",
    "        self.dtoan = dtoan\n",
    "        self.dly = dly\n",
    "        self.dhoa = dhoa\n",
    "    \n",
    "    def tinhdiemtb(self):\n",
    "        tbc = ((self.dtoan + self.dly + self.dhoa) / 3)\n",
    "        return round(tbc, 2)     \n",
    "        \n",
    "    def nhap(self):\n",
    "        self.id = input()\n",
    "        self.tenhs = input()\n",
    "        self.qq = input()\n",
    "        self.dtoan = float(input())\n",
    "        self.dly = float(input())\n",
    "        self.dhoa = float(input())\n",
    "\n",
    "    \n",
    "    def xuat(self):\n",
    "        print(self.id)\n",
    "        print(self.tenhs)\n",
    "        print(self.qq)\n",
    "        print(self.tinhdiemtb())\n",
    " \n",
    "    \n",
    "    \n",
    "        \n",
    "# hs = HocSinh('HS001', 'Ha Minh Duc', 'Bac Kan', 7.5, 8.4, 7)\n",
    "hs = HocSinh('', '', '', 0, 0 , 0)\n",
    "hs.nhap()\n",
    "hs.xuat()"
   ]
  },
  {
   "cell_type": "code",
   "execution_count": 60,
   "id": "aec00d8e",
   "metadata": {},
   "outputs": [
    {
     "name": "stdout",
     "output_type": "stream",
     "text": [
      "HS001\n",
      "Nguyễn Văn A\n",
      "Hà Nội\n",
      "7\n"
     ]
    }
   ],
   "source": [
    "class HocSinh:\n",
    "    def __init__(self, id, tenhs, qq, dtoan, dly, dhoa):\n",
    "        self.id = id\n",
    "        self.tenhs = tenhs\n",
    "        self.qq = qq\n",
    "        self.dtoan = dtoan\n",
    "        self.dly = dly\n",
    "        self.dhoa = dhoa\n",
    "    \n",
    "    def tinhdiemtb(self):\n",
    "        tbc = ((self.dtoan + self.dly + self.dhoa) / 3)\n",
    "        return round(tbc, 2)     \n",
    "        \n",
    "    def nhap(self):\n",
    "        self.id = input()\n",
    "        self.tenhs = input()\n",
    "        self.qq = input()\n",
    "        self.dtoan = float(input())\n",
    "        self.dly = float(input())\n",
    "        self.dhoa = float(input())\n",
    "\n",
    "    \n",
    "    def xuat(self):\n",
    "        if self.tinhdiemtb() % 1 == 0:\n",
    "            dtbStr = str(int(self.tinhdiemtb()))\n",
    "        else:\n",
    "            dtbStr = '{:.2f}'.format(self.tinhdiemtb()).rstrip('0').rstrip('.')\n",
    "        print(self.id)\n",
    "        print(self.tenhs)\n",
    "        print(self.qq)\n",
    "        print(dtbStr)\n",
    " \n",
    "    \n",
    "    \n",
    "        \n",
    "# hs = HocSinh('HS001', 'Ha Minh Duc', 'Bac Kan', 7.5, 8.4, 7)\n",
    "hs = HocSinh('HS001', 'Nguyễn Văn A', 'Hà Nội', 6, 7, 8)\n",
    "hs.nhap()\n",
    "hs.xuat()"
   ]
  },
  {
   "cell_type": "code",
   "execution_count": 66,
   "id": "b7790947",
   "metadata": {},
   "outputs": [
    {
     "name": "stdout",
     "output_type": "stream",
     "text": [
      "HS001\n",
      "Nguyễn Văn A\n",
      "Hà Nội\n",
      "6\n",
      "7\n",
      "8\n",
      "HS001\n",
      "Nguyễn Văn A\n",
      "Hà Nội\n",
      "7\n"
     ]
    }
   ],
   "source": [
    "class HocSinh:\n",
    "    def __init__(self, id, tenhs, qq, dtoan, dly, dhoa):\n",
    "        self.id = id\n",
    "        self.tenhs = tenhs\n",
    "        self.qq = qq\n",
    "        self.dtoan = dtoan\n",
    "        self.dly = dly\n",
    "        self.dhoa = dhoa \n",
    "        \n",
    "    def nhap(self):\n",
    "        self.id = input()\n",
    "        self.tenhs = input()\n",
    "        self.qq = input()\n",
    "        self.dtoan = float(input())\n",
    "        self.dly = float(input())\n",
    "        self.dhoa = float(input())\n",
    "\n",
    "    \n",
    "    def xuat(self):\n",
    "        _diemtb = ((self.dtoan + self.dly + self.dhoa) / 3)\n",
    "        diemtb = round(_diemtb, 2) \n",
    "        \n",
    "        if diemtb % 1 == 0:\n",
    "            dtbStr = str(int(diemtb))\n",
    "        else:\n",
    "            dtbStr = '{:.2f}'.format(diemtb).rstrip('0').rstrip('.')\n",
    "        print(self.id)\n",
    "        print(self.tenhs)\n",
    "        print(self.qq)\n",
    "        print(dtbStr)\n",
    " \n",
    "    \n",
    "hs = HocSinh('HS001', 'Nguyễn Văn A', 'Hà Nội', 6, 7, 8)\n",
    "hs.nhap()\n",
    "hs.xuat()"
   ]
  },
  {
   "cell_type": "code",
   "execution_count": 68,
   "id": "cf701d90",
   "metadata": {},
   "outputs": [
    {
     "name": "stdout",
     "output_type": "stream",
     "text": [
      "HS001\n",
      "Nguyễn Văn A\n",
      "Ha noi\n",
      "6\n",
      "7\n",
      "8\n",
      "HS001\n",
      "Nguyễn Văn A\n",
      "Ha noi\n",
      "7.0\n"
     ]
    }
   ],
   "source": [
    "class HocSinh:\n",
    "    def __init__(self, id, tenhs, qq, dtoan, dly, dhoa):\n",
    "        self.id = id\n",
    "        self.tenhs = tenhs\n",
    "        self.qq = qq\n",
    "        self.dtoan = dtoan\n",
    "        self.dly = dly\n",
    "        self.dhoa = dhoa \n",
    "        \n",
    "    def nhap(self):\n",
    "        self.id = input()\n",
    "        self.tenhs = input()\n",
    "        self.qq = input()\n",
    "        self.dtoan = float(input())\n",
    "        self.dly = float(input())\n",
    "        self.dhoa = float(input())\n",
    "\n",
    "    \n",
    "    def xuat(self):\n",
    "        _diemtb = ((self.dtoan + self.dly + self.dhoa) / 3)\n",
    "        diemtb = round(_diemtb, 2) \n",
    "        \n",
    "        print(self.id)\n",
    "        print(self.tenhs)\n",
    "        print(self.qq)\n",
    "        print(diemtb)\n",
    " \n",
    "    \n",
    "hs = HocSinh('HS001', 'Nguyễn Văn A', 'Hà Nội', 6, 7, 8)\n",
    "hs.nhap()\n",
    "hs.xuat()"
   ]
  },
  {
   "cell_type": "code",
   "execution_count": 69,
   "id": "5d6a27ba",
   "metadata": {},
   "outputs": [
    {
     "name": "stdout",
     "output_type": "stream",
     "text": [
      "HS001\n",
      "hmd\n",
      "bk\n",
      "6.7\n",
      "3.6\n",
      "7.8\n",
      "\n",
      "\n",
      "HS001\n",
      "hmd\n",
      "bk\n",
      "6.03\n"
     ]
    }
   ],
   "source": [
    "class HocSinh:\n",
    "    def __init__(self, id, tenhs, qq, dtoan, dly, dhoa):\n",
    "        self.id = id\n",
    "        self.tenhs = tenhs\n",
    "        self.qq = qq\n",
    "        self.dtoan = dtoan\n",
    "        self.dly = dly\n",
    "        self.dhoa = dhoa\n",
    "    \n",
    "    def tinhdiemtb(self):\n",
    "        tbc = ((float(self.dtoan) + float(self.dly) + float(self.dhoa)) / 3)\n",
    "        return round(tbc, 2)     \n",
    "        \n",
    "    def nhap(self):\n",
    "        self.id = input()\n",
    "        self.tenhs = input()\n",
    "        self.qq = input()\n",
    "        self.dtoan = input()\n",
    "        self.dly = input()\n",
    "        self.dhoa = input()\n",
    "    \n",
    "    def xuat(self):\n",
    "        print('\\n')\n",
    "        print(self.id)\n",
    "        print(self.tenhs)\n",
    "        print(self.qq)\n",
    "        print(self.tinhdiemtb())\n",
    " \n",
    "\n",
    "hs = HocSinh('HS001', 'Ha Minh Duc', 'Bac Kan', 7.5, 8.4, 7)\n",
    "hs.nhap()\n",
    "hs.xuat()"
   ]
  },
  {
   "cell_type": "code",
   "execution_count": 82,
   "id": "fe0d9832",
   "metadata": {},
   "outputs": [
    {
     "name": "stdout",
     "output_type": "stream",
     "text": [
      "6\n",
      "87\n",
      "9\n",
      "34.0\n"
     ]
    }
   ],
   "source": [
    "##############################\n",
    "\n",
    "class HocSinh:\n",
    "    def __init__(self):\n",
    "#         self.id = input()\n",
    "#         self.tenhs = input()\n",
    "#         self.qq = input()\n",
    "        self.dtoan = float(input())\n",
    "        self.dly = float(input())\n",
    "        self.dhoa = float(input())\n",
    "    \n",
    "    def tinhdiemtb(self):\n",
    "        return round(((self.dtoan + self.dly + self.dhoa) / 3), 1)     \n",
    "        \n",
    "    def xuat(self):\n",
    "#         print(self.id)\n",
    "#         print(self.tenhs)\n",
    "#         print(self.qq)\n",
    "        print(self.tinhdiemtb())\n",
    " \n",
    "\n",
    "hs = HocSinh()\n",
    "hs.xuat()"
   ]
  },
  {
   "cell_type": "code",
   "execution_count": 85,
   "id": "e73729d0",
   "metadata": {},
   "outputs": [
    {
     "name": "stdout",
     "output_type": "stream",
     "text": [
      "sv1\n",
      "duc\n",
      "ck\n",
      "7\n",
      "8\n",
      "9\n",
      "sv2\n",
      "minh\n",
      "bk\n",
      "3.5\n",
      "7\n",
      "8\n",
      "\n",
      "====> Danh sách sinh viên <====\n",
      "sv1\n",
      "duc\n",
      "ck\n",
      "8.0\n",
      "sv2\n",
      "minh\n",
      "bk\n",
      "6.17\n"
     ]
    }
   ],
   "source": [
    "##############################QLHS\n",
    "\n",
    "class HocSinh:\n",
    "    def __init__(self, id, tenhs, qq, dtoan, dly, dhoa):\n",
    "        self.id = id\n",
    "        self.tenhs = tenhs\n",
    "        self.qq = qq\n",
    "        self.dtoan = dtoan\n",
    "        self.dly = dly\n",
    "        self.dhoa = dhoa \n",
    "        \n",
    "    def nhap(self):\n",
    "        self.id = input()\n",
    "        self.tenhs = input()\n",
    "        self.qq = input()\n",
    "        self.dtoan = float(input())\n",
    "        self.dly = float(input())\n",
    "        self.dhoa = float(input())\n",
    "\n",
    "    \n",
    "    def xuat(self):\n",
    "        diemtb = round(((self.dtoan + self.dly + self.dhoa) / 3), 2) \n",
    "        \n",
    "        print(self.id)\n",
    "        print(self.tenhs)\n",
    "        print(self.qq)\n",
    "        print(diemtb)\n",
    " \n",
    "\n",
    "class QuanLyHocSinh:\n",
    "    def __init__(self):\n",
    "        self.dshs = []\n",
    "        \n",
    "    def nhapDshs(self, n):\n",
    "        for i in range(n):\n",
    "            hs = HocSinh(\"\", \"\", \"\", 0, 0, 0)\n",
    "            hs.nhap()\n",
    "            self.dshs.append(hs)\n",
    "            \n",
    "    def xuatDshs(self):\n",
    "        for hs in self.dshs:\n",
    "            hs.xuat()\n",
    "            \n",
    "##################################################################\n",
    "qlhs = QuanLyHocSinh()\n",
    "n = 2\n",
    "qlhs.nhapDshs(n)\n",
    "qlhs.xuatDshs()"
   ]
  },
  {
   "cell_type": "code",
   "execution_count": null,
   "id": "062ae828",
   "metadata": {},
   "outputs": [],
   "source": []
  },
  {
   "cell_type": "code",
   "execution_count": null,
   "id": "7b49da26",
   "metadata": {},
   "outputs": [],
   "source": []
  },
  {
   "cell_type": "code",
   "execution_count": null,
   "id": "0ec9ecc3",
   "metadata": {},
   "outputs": [],
   "source": []
  },
  {
   "cell_type": "code",
   "execution_count": null,
   "id": "c36735fc",
   "metadata": {},
   "outputs": [],
   "source": []
  },
  {
   "cell_type": "code",
   "execution_count": null,
   "id": "7f061606",
   "metadata": {},
   "outputs": [],
   "source": []
  },
  {
   "cell_type": "code",
   "execution_count": null,
   "id": "5beec7f6",
   "metadata": {},
   "outputs": [],
   "source": []
  },
  {
   "cell_type": "code",
   "execution_count": null,
   "id": "60fe5bce",
   "metadata": {},
   "outputs": [],
   "source": []
  },
  {
   "cell_type": "code",
   "execution_count": null,
   "id": "8e99c5eb",
   "metadata": {},
   "outputs": [],
   "source": []
  },
  {
   "cell_type": "code",
   "execution_count": null,
   "id": "4a45b7a4",
   "metadata": {},
   "outputs": [],
   "source": []
  },
  {
   "cell_type": "code",
   "execution_count": null,
   "id": "cbada80b",
   "metadata": {},
   "outputs": [],
   "source": []
  },
  {
   "cell_type": "code",
   "execution_count": null,
   "id": "ebd19250",
   "metadata": {},
   "outputs": [],
   "source": []
  },
  {
   "cell_type": "code",
   "execution_count": null,
   "id": "793ae550",
   "metadata": {},
   "outputs": [],
   "source": []
  },
  {
   "cell_type": "code",
   "execution_count": null,
   "id": "1201b433",
   "metadata": {},
   "outputs": [],
   "source": []
  },
  {
   "cell_type": "code",
   "execution_count": null,
   "id": "351f642b",
   "metadata": {},
   "outputs": [],
   "source": []
  },
  {
   "cell_type": "code",
   "execution_count": null,
   "id": "69bc880d",
   "metadata": {},
   "outputs": [],
   "source": []
  },
  {
   "cell_type": "code",
   "execution_count": null,
   "id": "acccf54f",
   "metadata": {},
   "outputs": [],
   "source": []
  }
 ],
 "metadata": {
  "kernelspec": {
   "display_name": "Python 3 (ipykernel)",
   "language": "python",
   "name": "python3"
  },
  "language_info": {
   "codemirror_mode": {
    "name": "ipython",
    "version": 3
   },
   "file_extension": ".py",
   "mimetype": "text/x-python",
   "name": "python",
   "nbconvert_exporter": "python",
   "pygments_lexer": "ipython3",
   "version": "3.8.12"
  }
 },
 "nbformat": 4,
 "nbformat_minor": 5
}
