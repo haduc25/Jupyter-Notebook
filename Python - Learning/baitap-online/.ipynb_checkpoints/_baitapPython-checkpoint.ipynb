{
 "cells": [
  {
   "cell_type": "code",
   "execution_count": null,
   "id": "a684068a",
   "metadata": {},
   "outputs": [],
   "source": [
    "\"\"\"\n",
    "Dòng đầu nhập một số nguyên N (1<=N<=100000)\n",
    "N dòng tiếp theo là cặp hai số nguyên (mỗi số nguyên có giá trị nhỏ hơn 1 000 000 000), đây là hai số cần tính tổng.\n",
    "\"\"\"\n",
    "N = int(input())\n",
    "\n",
    "for _ in range(N):\n",
    "    a, b = map(int, input().split())\n",
    "    print(a + b)\n"
   ]
  },
  {
   "cell_type": "code",
   "execution_count": null,
   "id": "4e40b671",
   "metadata": {},
   "outputs": [],
   "source": [
    "N = int(input())\n",
    "\n",
    "for _ in range(N):\n",
    "    values = input().split()\n",
    "    if len(values) == 2:\n",
    "        a, b = map(int, values)\n",
    "        print(a + b)\n",
    "    else:\n",
    "        print(\"Invalid input\")"
   ]
  },
  {
   "cell_type": "code",
   "execution_count": null,
   "id": "94eea921",
   "metadata": {},
   "outputs": [],
   "source": [
    "input_str = input(\"Nhập hai số nguyên a & b: \")\n",
    "a, b = map(int, input_str.split())\n",
    "\n",
    "print('Giá trị lớn nhất là: ')\n",
    "print(a) if a > b else print(b)"
   ]
  },
  {
   "cell_type": "code",
   "execution_count": null,
   "id": "37960538",
   "metadata": {},
   "outputs": [],
   "source": [
    "a = input(\"Nhập a: \")\n",
    "b = input(\"Nhập b: \")\n",
    "\n",
    "if a > b:\n",
    "    print(a)\n",
    "elif a <= b:\n",
    "    print(b)"
   ]
  },
  {
   "cell_type": "code",
   "execution_count": null,
   "id": "d974ac31",
   "metadata": {},
   "outputs": [],
   "source": [
    "# Sử dụng cấu trúc List, nhập vào một dãy số nguyên gồm N phần tử từ bàn phím và in ra màn hình dãy số vừa nhập.\n",
    "numbers = [int(num_str) for num_str in input().split()]\n",
    "\n",
    "for item in numbers: \n",
    "    print(item, end =\" \")"
   ]
  },
  {
   "cell_type": "code",
   "execution_count": null,
   "id": "50759901",
   "metadata": {},
   "outputs": [],
   "source": [
    "N = int(input(\"Nhập số lượng phần tử: \"))\n",
    "\n",
    "lst = []\n",
    "\n",
    "for i in range(N):\n",
    "    x = int(input(\"Nhập pt [{}]: \".format(i+1)))\n",
    "    lst.append(x)\n",
    "\n",
    "print(lst)\n"
   ]
  },
  {
   "cell_type": "code",
   "execution_count": null,
   "id": "256e040b",
   "metadata": {},
   "outputs": [],
   "source": [
    "\"\"\"\n",
    "Sử dụng cấu trúc List, nhập vào một dãy số nguyên gồm N phần tử từ bàn phím, hãy viết chương trình thực hiện:\n",
    "\n",
    "In ra màn hình trong dãy có bao nhiêu phần tử khác nhau?\n",
    "Tần suất xuất hiện các phần tử đó và được sắp xếp tăng dần\n",
    "\"\"\"\n",
    "\n",
    "N = int(input())\n",
    "\n",
    "for _ in range(N):\n",
    "    numbers = [int(num_str) for num_str in input().split()]\n",
    "    print(numbers, end =\" \")\n",
    "#     for item in numbers: \n",
    "#     print(item, end =\" \")"
   ]
  },
  {
   "cell_type": "code",
   "execution_count": null,
   "id": "c352e210",
   "metadata": {},
   "outputs": [],
   "source": [
    "N = int(input(\"Nhập số lượng phần tử: \"))\n",
    "\n",
    "lst = []\n",
    "\n",
    "for i in range(N):\n",
    "    x = int(input(\"Nhập pt [{}]: \".format(i+1)))\n",
    "    lst.append(x)\n",
    "print(lst)"
   ]
  },
  {
   "cell_type": "code",
   "execution_count": null,
   "id": "eab298a2",
   "metadata": {},
   "outputs": [],
   "source": [
    "n = int(input())\n",
    "arr = list(map(int, input().split()))\n",
    "\n",
    "# create an empty dictionary to store the frequency of each element\n",
    "freq_dict = {}\n",
    "\n",
    "for element in arr:\n",
    "    if element not in freq_dict:\n",
    "        freq_dict[element] = 1\n",
    "    else:\n",
    "        freq_dict[element] += 1\n",
    "\n",
    "# sort the dictionary by keys in ascending order\n",
    "sorted_dict = dict(sorted(freq_dict.items()))\n",
    "\n",
    "# print the number of distinct elements\n",
    "print(len(sorted_dict))\n",
    "\n",
    "# print the frequency of each element\n",
    "for key, value in sorted_dict.items():\n",
    "    print(str(key) + \": \" + str(value))\n"
   ]
  },
  {
   "cell_type": "code",
   "execution_count": null,
   "id": "d84df9ed",
   "metadata": {},
   "outputs": [],
   "source": [
    "n = int(input())\n",
    "arr = list(map(int, input().split()))\n",
    "\n",
    "# create an empty list to store the frequency of each element\n",
    "freq_list = []\n",
    "\n",
    "# loop through the input list\n",
    "for element in arr:\n",
    "    if element not in [item[0] for item in freq_list]:\n",
    "        freq_list.append([element, 1])\n",
    "    else:\n",
    "        for item in freq_list:\n",
    "            if item[0] == element:\n",
    "                item[1] += 1\n",
    "                break\n",
    "\n",
    "# sort the list by the first element in ascending order\n",
    "sorted_list = sorted(freq_list, key=lambda x: x[0])\n",
    "\n",
    "# print the number of distinct elements\n",
    "print(len(sorted_list))\n",
    "\n",
    "# print the frequency of each element\n",
    "for item in sorted_list:\n",
    "    print(str(item[0]) + \": \" + str(item[1]))\n"
   ]
  },
  {
   "cell_type": "code",
   "execution_count": null,
   "id": "eaf6eb13",
   "metadata": {},
   "outputs": [],
   "source": [
    "n = int(input())\n",
    "arr = list(map(int, input().split()))\n",
    "\n",
    "# ds lưu trữ số lần xh\n",
    "dsxh = []\n",
    "\n",
    "for ele in arr:\n",
    "    # kt xem pt đã có hay chưa\n",
    "    if ele not in [item[0] for item in dsxh]:\n",
    "        dsxh.append([ele, 1])\n",
    "    else:\n",
    "        for item in dsxh:\n",
    "            if item[0] == ele:\n",
    "                item[1] += 1\n",
    "                break\n",
    "\n",
    "# sắp xếp\n",
    "sortedList = sorted(dsxh, key=lambda x: x[0])\n",
    "\n",
    "print(len(sortedList))\n",
    "\n",
    "for item in sortedList:\n",
    "    print(str(item[0]) + \": \" + str(item[1]))\n"
   ]
  },
  {
   "cell_type": "code",
   "execution_count": 3,
   "id": "235c697b",
   "metadata": {},
   "outputs": [
    {
     "name": "stdout",
     "output_type": "stream",
     "text": [
      "2 5 4 3 1\n",
      "3.3333333333333335\n"
     ]
    }
   ],
   "source": [
    "def snt(n):\n",
    "    if n < 2:\n",
    "        return False\n",
    "    for i in range(2, int(n**0.5) + 1):\n",
    "        if n % i == 0:\n",
    "            return False\n",
    "    return True\n",
    "\n",
    "nums = input().split()\n",
    "arr = []\n",
    "for num in nums:\n",
    "    if snt(int(num)):\n",
    "        arr.append(int(num))\n",
    "\n",
    "if len(arr) == 0:\n",
    "    print(0)\n",
    "else:\n",
    "    print(sum(arr) / len(arr))\n"
   ]
  },
  {
   "cell_type": "code",
   "execution_count": null,
   "id": "f8ca63db",
   "metadata": {},
   "outputs": [],
   "source": [
    "\"\"\"\n",
    "Nhập vào một dãy số nguyên gồm \n",
    " phần tử từ bàn phím, hãy sắp xếp dãy trên theo chiều tăng dần của trọng số và in ra màn hình.\n",
    "\n",
    "Input\n",
    "Copy\n",
    "2 5 4 3 1\n",
    "Output:\n",
    "Copy\n",
    "1 2 3 4 5\n",
    "\"\"\"\n",
    "\n",
    "nums = list(map(int, input().split()))\n",
    "\n",
    "for i in range(1, len(nums)):\n",
    "    key = nums[i]\n",
    "    j = i - 1\n",
    "    while j >= 0 and nums[j] > key:\n",
    "        nums[j + 1] = nums[j]\n",
    "        j -= 1\n",
    "    nums[j + 1] = key\n",
    "\n",
    "print(\" \".join(map(str, nums)))\n"
   ]
  },
  {
   "cell_type": "code",
   "execution_count": null,
   "id": "796ca0b5",
   "metadata": {},
   "outputs": [],
   "source": [
    "numb = list(map(int, input().split()))\n",
    "\n",
    "n = len(numb)\n",
    "for i in range(n):\n",
    "    for j in range(n - i - 1):\n",
    "        if numb[j] > numb[j + 1]:\n",
    "            numb[j], numb[j + 1] = numb[j + 1], numb[j]\n",
    "\n",
    "print(\" \".join(map(str, nums)))\n"
   ]
  },
  {
   "cell_type": "code",
   "execution_count": null,
   "id": "195db0f5",
   "metadata": {},
   "outputs": [],
   "source": [
    "# numbers = [int(num_str) for num_str in input().split()]\n",
    "\n",
    "# for item in numbers: print(item, end =\" \")\n",
    "    \n",
    "    \n",
    "\n",
    "numb = list(map(int, input().split()))\n",
    "\n",
    "n = len(numb)\n",
    "for i in range(n):\n",
    "    for j in range(n - i - 1):\n",
    "        if numb[j] > numb[j + 1]:\n",
    "            numb[j], numb[j + 1] = numb[j + 1], numb[j]\n",
    "\n",
    "print(\" \".join(map(str, nums)))\n"
   ]
  },
  {
   "cell_type": "code",
   "execution_count": null,
   "id": "f45767dd",
   "metadata": {},
   "outputs": [],
   "source": [
    "def sortListNumber(arr):\n",
    "    n = len(arr)\n",
    "    print(n)\n",
    "    \n",
    "    for i in range(n):\n",
    "        for j in range(n - i - 1):\n",
    "            if numb[j] > numb[j + 1]:\n",
    "                numb[j], numb[j + 1] = numb[j + 1], numb[j]\n",
    "\n",
    "    print(\" \".join(map(str, nums)))   \n",
    "    \n",
    "    if n < 2:\n",
    "        return False\n",
    "    for i in range(2, int(n**0.5) + 1):\n",
    "        if n % i == 0:\n",
    "            return False\n",
    "    return True\n",
    "\n",
    "nums = input().split()\n",
    "arr = []\n",
    "for num in nums:\n",
    "    arr.append(int(num))\n",
    "\n",
    "print(arr)\n",
    "sortListNumber(arr)\n",
    "# if len(arr) == 0:\n",
    "#     print(0)\n",
    "# else:\n",
    "#     print(sum(arr) / len(arr))\n",
    "# sortListNumber(arr)\n"
   ]
  },
  {
   "cell_type": "code",
   "execution_count": null,
   "id": "c7da8476",
   "metadata": {},
   "outputs": [],
   "source": [
    "def sortListNumber(arr, nums):\n",
    "    arr = []\n",
    "    for num in nums:\n",
    "        arr.append(int(num))\n",
    "\n",
    "    n = len(arr)    \n",
    "    for i in range(n):\n",
    "        for j in range(n - i - 1):\n",
    "            if arr[j] > arr[j + 1]:\n",
    "                arr[j], arr[j + 1] = arr[j + 1], arr[j]\n",
    "    return (\" \".join(map(str, arr)))   \n",
    "\n",
    "\n",
    "nums = input().split()\n",
    "print(sortListNumber(arr, nums))"
   ]
  },
  {
   "cell_type": "code",
   "execution_count": null,
   "id": "3101a6f9",
   "metadata": {},
   "outputs": [],
   "source": [
    "def sortListNumber2(nums):\n",
    "    arr = []\n",
    "    for num in nums:\n",
    "        arr.append(int(num))\n",
    "    return sorted(arr)\n",
    "\n",
    "nums = input().split()\n",
    "print(sortListNumber2(nums))"
   ]
  },
  {
   "cell_type": "code",
   "execution_count": null,
   "id": "cdd5d0b5",
   "metadata": {},
   "outputs": [],
   "source": [
    "nums = input().split()\n",
    "arr = []\n",
    "for num in nums:\n",
    "    arr.append(int(num))\n",
    "    \n",
    "if len(arr) == 0:\n",
    "    print(0)\n",
    "else:\n",
    "    print(sorted(arr))"
   ]
  },
  {
   "cell_type": "code",
   "execution_count": null,
   "id": "efbcc38f",
   "metadata": {},
   "outputs": [],
   "source": [
    "nums = input().split()\n",
    "arr = []\n",
    "for num in nums:\n",
    "    arr.append(int(num))\n",
    "\n",
    "n = len(arr)\n",
    "for i in range(n):\n",
    "    for j in range(i + 1, n):\n",
    "        if arr[i] > arr[j]:\n",
    "            arr[i], arr[j] = arr[j], arr[i]\n",
    "print(arr)"
   ]
  },
  {
   "cell_type": "code",
   "execution_count": 2,
   "id": "dd7e4cec",
   "metadata": {},
   "outputs": [
    {
     "name": "stdout",
     "output_type": "stream",
     "text": [
      "2 5 4 3 1\n",
      "1 2 3 4 5\n"
     ]
    }
   ],
   "source": [
    "# commited - c4\n",
    "nums = input().split()\n",
    "arr = []\n",
    "for num in nums:\n",
    "    arr.append(int(num))\n",
    "\n",
    "n = len(arr)\n",
    "for i in range(n):\n",
    "    for j in range(i + 1, n):\n",
    "        if arr[i] > arr[j]:\n",
    "            arr[i], arr[j] = arr[j], arr[i]\n",
    "\n",
    "print(' '.join(map(str, arr)))\n"
   ]
  },
  {
   "cell_type": "code",
   "execution_count": null,
   "id": "4f56c96c",
   "metadata": {},
   "outputs": [],
   "source": [
    "nums = input().split()\n",
    "arr = []\n",
    "for num in nums:\n",
    "    arr.append(int(num))\n",
    "\n",
    "n = len(arr)\n",
    "for i in range(n):\n",
    "    for j in range(0, n - i - 1):\n",
    "        if arr[j] > arr[j + 1]:\n",
    "            arr[j], arr[j + 1] = arr[j + 1], arr[j]\n",
    "\n",
    "# in mảng đã sắp xếp\n",
    "print(' '.join(map(str, arr)))"
   ]
  },
  {
   "cell_type": "code",
   "execution_count": null,
   "id": "f097e074",
   "metadata": {},
   "outputs": [],
   "source": [
    "# nhập số lượng phần tử\n",
    "n = int(input())\n",
    "\n",
    "# nhập dãy số nguyên từ bàn phím\n",
    "nums = input().split()\n",
    "\n",
    "# chuyển các chuỗi trong nums thành số nguyên và thêm chúng vào mảng arr\n",
    "arr = []\n",
    "for num in nums:\n",
    "    arr.append(int(num))\n",
    "\n",
    "# tìm số lần xuất hiện của từng phần tử trong mảng arr\n",
    "counts = {}\n",
    "for num in arr:\n",
    "    if num in counts:\n",
    "        counts[num] += 1\n",
    "    else:\n",
    "        counts[num] = 1\n",
    "\n",
    "# sắp xếp các phần tử trong mảng arr\n",
    "n = len(arr)\n",
    "for i in range(n):\n",
    "    for j in range(i + 1, n):\n",
    "        if arr[i] > arr[j]:\n",
    "            arr[i], arr[j] = arr[j], arr[i]\n",
    "\n",
    "# đếm số lần xuất hiện của từng phần tử và in kết quả\n",
    "distinct = []\n",
    "for num in arr:\n",
    "    if num not in distinct:\n",
    "        distinct.append(num)\n",
    "        count = counts[num]\n",
    "        print(str(num) + \": \" + str(count))\n"
   ]
  },
  {
   "cell_type": "code",
   "execution_count": null,
   "id": "ac3735c7",
   "metadata": {},
   "outputs": [],
   "source": [
    "n = int(input())\n",
    "arr = list(map(int, input().split()))\n",
    "arr.sort()\n",
    "\n",
    "solanxh = []\n",
    "for num in arr:\n",
    "    if num not in solanxh:\n",
    "        solanxh.append(num)\n",
    "\n",
    "dem = {}\n",
    "for num in arr:\n",
    "    if num in dem:\n",
    "        dem[num] += 1\n",
    "    else:\n",
    "        dem[num] = 1\n",
    "\n",
    "print(len(solanxh))\n",
    "for num in solanxh:\n",
    "    print(str(num) + \": \" + str(dem[num]))"
   ]
  },
  {
   "cell_type": "code",
   "execution_count": null,
   "id": "35ebb319",
   "metadata": {},
   "outputs": [],
   "source": [
    "# nhập số lượng phần tử\n",
    "n = int(input())\n",
    "\n",
    "# nhập dãy số nguyên từ bàn phím\n",
    "nums = input().split()\n",
    "\n",
    "# chuyển các chuỗi trong nums thành số nguyên và thêm chúng vào mảng arr\n",
    "arr = []\n",
    "for num in nums:\n",
    "    arr.append(int(num))\n",
    "\n",
    "# tìm số lần xuất hiện của từng phần tử trong mảng arr\n",
    "counts = {}\n",
    "for num in arr:\n",
    "    if num in counts:\n",
    "        counts[num] += 1\n",
    "    else:\n",
    "        counts[num] = 1\n",
    "\n",
    "# sắp xếp các phần tử trong mảng arr\n",
    "n = len(arr)\n",
    "for i in range(n):\n",
    "    for j in range(i + 1, n):\n",
    "        if arr[i] > arr[j]:\n",
    "            arr[i], arr[j] = arr[j], arr[i]\n",
    "\n",
    "# đếm số lần xuất hiện của từng phần tử và in kết quả\n",
    "distinct = []\n",
    "for num in arr:\n",
    "    if num not in distinct:\n",
    "        distinct.append(num)\n",
    "        count = counts[num]\n",
    "        print(str(num) + \": \" + str(count))\n"
   ]
  },
  {
   "cell_type": "code",
   "execution_count": null,
   "id": "5569c97d",
   "metadata": {},
   "outputs": [],
   "source": [
    "n = int(input())\n",
    "nums = input().split()\n",
    "\n",
    "arr = []\n",
    "for num in nums:\n",
    "    arr.append(int(num))\n",
    "\n",
    "counts = {}\n",
    "for num in arr:\n",
    "    if num in counts:\n",
    "        counts[num] += 1\n",
    "    else:\n",
    "        counts[num] = 1\n",
    "\n",
    "# sắp xếp các phần tử trong mảng arr\n",
    "n = len(arr)\n",
    "for i in range(n):\n",
    "    for j in range(i + 1, n):\n",
    "        if arr[i] > arr[j]:\n",
    "            arr[i], arr[j] = arr[j], arr[i]\n",
    "\n",
    "# đếm số lần xuất hiện của từng phần tử và in kết quả\n",
    "distinct = []\n",
    "for num in arr:\n",
    "    if num not in distinct:\n",
    "        distinct.append(num)\n",
    "        count = counts[num]\n",
    "        print(str(num) + \": \" + str(count))\n",
    "\n",
    "print(len(distinct))\n"
   ]
  },
  {
   "cell_type": "code",
   "execution_count": null,
   "id": "e198a38e",
   "metadata": {},
   "outputs": [],
   "source": [
    "n = int(input())\n",
    "nums = input().split()\n",
    "\n",
    "arr = []\n",
    "for num in nums:\n",
    "    arr.append(int(num))\n",
    "\n",
    "dem = {}\n",
    "for num in arr:\n",
    "    if num in dem:\n",
    "        dem[num] += 1\n",
    "    else:\n",
    "        dem[num] = 1\n",
    "\n",
    "# sắp xếp các phần tử trong mảng arr\n",
    "n = len(arr)\n",
    "for i in range(n):\n",
    "    for j in range(i + 1, n):\n",
    "        if arr[i] > arr[j]:\n",
    "            arr[i], arr[j] = arr[j], arr[i]\n",
    "\n",
    "# đếm số lần xuất hiện của từng phần tử và in kết quả\n",
    "solanxh = []\n",
    "\n",
    "for num in arr:\n",
    "    if num not in solanxh:\n",
    "        solanxh.append(num)\n",
    "        count = dem[num]\n",
    "        print(str(num) + \": \" + str(count))\n",
    "\n",
    "print(len(solanxh))\n",
    "\n"
   ]
  },
  {
   "cell_type": "code",
   "execution_count": null,
   "id": "4f07f7df",
   "metadata": {},
   "outputs": [],
   "source": [
    "n = int(input())\n",
    "nums = input().split()\n",
    "arr = []\n",
    "for num in nums:\n",
    "    arr.append(int(num))\n",
    "\n",
    "dem = {}\n",
    "for num in arr:\n",
    "    dem[num] = counts.get(num, 0) + 1\n",
    "\n",
    "distinct = sorted(set(arr))\n",
    "\n",
    "print(len(distinct))\n",
    "for num in distinct:\n",
    "    print(str(num) + \": \" + str(dem[num]))\n"
   ]
  },
  {
   "cell_type": "code",
   "execution_count": null,
   "id": "f03d9b0f",
   "metadata": {},
   "outputs": [],
   "source": [
    "n = int(input())\n",
    "nums = input().split()\n",
    "arr = []\n",
    "for i in range(n):\n",
    "    arr.append(int(nums[i]))\n",
    "    \n",
    "dem = {}\n",
    "for num in arr:\n",
    "    dem[num] = dem.get(num, 0) + 1\n",
    "\n",
    "solanxh = sorted(set(arr))\n",
    "\n",
    "print(len(solanxh))\n",
    "for num in solanxh:\n",
    "    print(str(num) + \": \" + str(dem[num]))"
   ]
  },
  {
   "cell_type": "code",
   "execution_count": null,
   "id": "fe6a0b92",
   "metadata": {},
   "outputs": [],
   "source": [
    "n = int(input())\n",
    "nums = input().split()\n",
    "arr = []\n",
    "for i in range(n):\n",
    "    arr.append(int(nums[i]))\n",
    "    \n",
    "dem = {}\n",
    "solanxh = []\n",
    "for num in arr:\n",
    "    if num not in dem:\n",
    "        dem[num] = 1\n",
    "        solanxh.append(num)\n",
    "    else:\n",
    "        dem[num] += 1\n",
    "\n",
    "print(len(solanxh))\n",
    "for num in solanxh:\n",
    "    print(f'{str(num)}: {str(dem[num])}')\n"
   ]
  },
  {
   "cell_type": "code",
   "execution_count": 6,
   "id": "d4fdbea2",
   "metadata": {},
   "outputs": [
    {
     "name": "stdout",
     "output_type": "stream",
     "text": [
      "5\n",
      "7 3 8 3 6\n",
      "4\n",
      "3: 2\n",
      "6: 1\n",
      "7: 1\n",
      "8: 1\n"
     ]
    }
   ],
   "source": [
    "n = int(input())\n",
    "nums = input().split()\n",
    "arr = []\n",
    "for i in range(n):\n",
    "    arr.append(int(nums[i]))\n",
    "\n",
    "dem = {}\n",
    "solanxh = []\n",
    "for num in arr:\n",
    "    if num not in dem:\n",
    "        dem[num] = 1\n",
    "        solanxh.append(num)\n",
    "    else:\n",
    "        dem[num] += 1\n",
    "\n",
    "counter = 0\n",
    "for item in solanxh:\n",
    "    counter = counter + 1\n",
    "    \n",
    "for i in range(counter):\n",
    "    for j in range(counter - i - 1):\n",
    "        if solanxh[j] > solanxh[j + 1]:\n",
    "            solanxh[j], solanxh[j + 1] = solanxh[j + 1], solanxh[j]\n",
    "\n",
    "# print(len(solanxh), counter)\n",
    "print(counter)\n",
    "for num in solanxh:\n",
    "    print(str(num) + \": \" + str(dem[num]))\n"
   ]
  },
  {
   "cell_type": "code",
   "execution_count": null,
   "id": "8dfcaa7e",
   "metadata": {},
   "outputs": [],
   "source": []
  },
  {
   "cell_type": "code",
   "execution_count": null,
   "id": "fa0f1fcd",
   "metadata": {},
   "outputs": [],
   "source": [
    "n = int(input())\n",
    "nums = input().split()\n",
    "arr = []\n",
    "for i in range(n):\n",
    "    arr.append(int(nums[i]))\n",
    "    \n",
    "dem = {}\n",
    "solanxh = []\n",
    "for num in arr:\n",
    "    if num not in dem:\n",
    "        dem[num] = 1\n",
    "        solanxh.append(num)\n",
    "    else:\n",
    "        dem[num] += 1\n",
    "\n",
    "print(len(solanxh))\n",
    "for num in solanxh:\n",
    "    print(f'{str(num)}: {str(dem[num])}')\n"
   ]
  },
  {
   "cell_type": "code",
   "execution_count": null,
   "id": "fc6559fc",
   "metadata": {},
   "outputs": [],
   "source": [
    "n = int(input())\n",
    "nums = input().split()\n",
    "arr = []\n",
    "for i in range(n):\n",
    "    arr.append(int(nums[i]))\n",
    "    \n",
    "dem = {}\n",
    "solanxh = []\n",
    "counter = 0\n",
    "for num in arr:\n",
    "    if num not in dem:\n",
    "        dem[num] = 1\n",
    "        solanxh.append(num)\n",
    "        counter += 1 \n",
    "    else:\n",
    "        dem[num] += 1\n",
    "    \n",
    "for i in range(counter - 1):\n",
    "    for j in range(counter - i - 1):\n",
    "        if solanxh[j] > solanxh[j + 1]:\n",
    "            solanxh[j], solanxh[j + 1] = solanxh[j + 1], solanxh[j]\n",
    "\n",
    "print(str(counter))\n",
    "for num in solanxh:\n",
    "#     print(str(num) + \":\" + str(dem[num]))\n",
    "    print(str(dem[num]))\n",
    "    \n"
   ]
  },
  {
   "cell_type": "code",
   "execution_count": 5,
   "id": "72c8165a",
   "metadata": {},
   "outputs": [
    {
     "name": "stdout",
     "output_type": "stream",
     "text": [
      "5\n",
      "7 3 8 3 6\n",
      "4\n",
      "3: 2\n",
      "6: 1\n",
      "7: 1\n",
      "8: 1\n"
     ]
    }
   ],
   "source": [
    "n = int(input())\n",
    "nums = input().split()\n",
    "arr = []\n",
    "for i in range(n):\n",
    "    arr.append(int(nums[i]))\n",
    "\n",
    "dem = {}\n",
    "solanxh = []\n",
    "for num in arr:\n",
    "    if num not in dem:\n",
    "        dem[num] = 1\n",
    "        solanxh.append(num)\n",
    "    else:\n",
    "        dem[num] += 1\n",
    "\n",
    "solanxh.sort()\n",
    "\n",
    "print(len(solanxh))\n",
    "for num in solanxh:\n",
    "    print(str(num) + \": \" + str(dem[num]))\n",
    "#      print(str(dem[num]))"
   ]
  },
  {
   "cell_type": "code",
   "execution_count": null,
   "id": "5a80de62",
   "metadata": {},
   "outputs": [],
   "source": [
    "n = int(input())\n",
    "nums = input().split()\n",
    "arr = []\n",
    "for i in range(n):\n",
    "    arr.append(int(nums[i]))\n",
    "\n",
    "distinct_nums = []\n",
    "freq = {}\n",
    "for num in arr:\n",
    "    if num not in distinct_nums:\n",
    "        distinct_nums.append(num)\n",
    "        freq[num] = 1\n",
    "    else:\n",
    "        freq[num] += 1\n",
    "\n",
    "distinct_nums.sort()\n",
    "print(len(distinct_nums))\n",
    "for num in distinct_nums:\n",
    "#     print(str(num) + \": \" + str(freq[num]))\n",
    "    print(str(freq[num]))    "
   ]
  },
  {
   "cell_type": "code",
   "execution_count": null,
   "id": "1e4c9abc",
   "metadata": {},
   "outputs": [],
   "source": [
    "n = int(input())\n",
    "nums = input().split()\n",
    "arr = []\n",
    "for i in range(n):\n",
    "    arr.append(int(nums[i]))\n",
    "    \n",
    "unique_nums = set(arr)\n",
    "print(len(unique_nums))\n",
    "for num in sorted(unique_nums):\n",
    "    print(f'{num}: {arr.count(num)}')\n"
   ]
  },
  {
   "cell_type": "code",
   "execution_count": 1,
   "id": "06f44385",
   "metadata": {},
   "outputs": [
    {
     "name": "stdout",
     "output_type": "stream",
     "text": [
      "5\n",
      "7 3 8 3 6\n",
      "4\n",
      "3: 2\n",
      "6: 1\n",
      "7: 1\n",
      "8: 1\n"
     ]
    }
   ],
   "source": [
    "n = int(input())\n",
    "nums = input().split()\n",
    "arr = []\n",
    "for i in range(n):\n",
    "    arr.append(int(nums[i]))\n",
    "    \n",
    "unique_nums = set(arr)\n",
    "print(len(unique_nums))\n",
    "for num in sorted(unique_nums):\n",
    "    print(f'{num}: {arr.count(num)}')"
   ]
  },
  {
   "cell_type": "code",
   "execution_count": 3,
   "id": "4de7c4f4",
   "metadata": {},
   "outputs": [
    {
     "name": "stdout",
     "output_type": "stream",
     "text": [
      "5\n",
      "7 3 8 3 6\n",
      "4\n",
      "{0}: {1} 3 2\n",
      "{0}: {1} 6 1\n",
      "{0}: {1} 7 1\n",
      "{0}: {1} 8 1\n"
     ]
    }
   ],
   "source": [
    "n = int(input())\n",
    "nums = input().split()\n",
    "arr = []\n",
    "for i in range(n):\n",
    "    arr.append(int(nums[i]))\n",
    "    \n",
    "unique_nums = set(arr)\n",
    "print(len(unique_nums))\n",
    "for num in sorted(unique_nums):\n",
    "    print('{0}: {1}', str(num), str(arr.count(num)))"
   ]
  },
  {
   "cell_type": "code",
   "execution_count": 4,
   "id": "cea343c8",
   "metadata": {},
   "outputs": [
    {
     "name": "stdout",
     "output_type": "stream",
     "text": [
      "5\n",
      "5.0\n"
     ]
    }
   ],
   "source": [
    "lst = list(map(int, input().split()))\n",
    "def is_prime(x: int):\n",
    "    for i in range(2, int(x**1/2)+1):\n",
    "        if x % i == 0:\n",
    "            return False\n",
    "    \n",
    "    return True\n",
    "\n",
    "lst_prime = list(filter(is_prime, lst))\n",
    "print(sum(lst_prime)/len(lst_prime))"
   ]
  },
  {
   "cell_type": "code",
   "execution_count": 5,
   "id": "746b5348",
   "metadata": {},
   "outputs": [
    {
     "name": "stdout",
     "output_type": "stream",
     "text": [
      "5\n",
      "7 3 8 3 6\n",
      "4\n",
      "3: 2\n",
      "7: 1\n",
      "8: 1\n",
      "6: 1\n"
     ]
    }
   ],
   "source": [
    "n = int(input())\n",
    "lst = list(map(int, input().split()))\n",
    "\n",
    "counts = {}\n",
    "for elem in lst:\n",
    "    if elem in counts:\n",
    "        counts[elem] += 1\n",
    "    else:\n",
    "        counts[elem] = 1\n",
    "\n",
    "print(len(counts))\n",
    "\n",
    "for elem in sorted(counts, key=counts.get, reverse=True):\n",
    "    print(f\"{elem}: {counts[elem]}\")"
   ]
  },
  {
   "cell_type": "code",
   "execution_count": 8,
   "id": "b6ee81f7",
   "metadata": {},
   "outputs": [
    {
     "ename": "KeyboardInterrupt",
     "evalue": "Interrupted by user",
     "output_type": "error",
     "traceback": [
      "\u001b[1;31m---------------------------------------------------------------------------\u001b[0m",
      "\u001b[1;31mKeyboardInterrupt\u001b[0m                         Traceback (most recent call last)",
      "\u001b[1;32m~\\AppData\\Local\\Temp\\ipykernel_6424\\3685024223.py\u001b[0m in \u001b[0;36m<module>\u001b[1;34m\u001b[0m\n\u001b[1;32m----> 1\u001b[1;33m \u001b[0mlst\u001b[0m \u001b[1;33m=\u001b[0m \u001b[0mlist\u001b[0m\u001b[1;33m(\u001b[0m\u001b[0mmap\u001b[0m\u001b[1;33m(\u001b[0m\u001b[0mint\u001b[0m\u001b[1;33m,\u001b[0m \u001b[0minput\u001b[0m\u001b[1;33m(\u001b[0m\u001b[1;33m)\u001b[0m\u001b[1;33m.\u001b[0m\u001b[0msplit\u001b[0m\u001b[1;33m(\u001b[0m\u001b[1;33m)\u001b[0m\u001b[1;33m)\u001b[0m\u001b[1;33m)\u001b[0m\u001b[1;33m\u001b[0m\u001b[1;33m\u001b[0m\u001b[0m\n\u001b[0m\u001b[0;32m      2\u001b[0m \u001b[1;33m\u001b[0m\u001b[0m\n\u001b[0;32m      3\u001b[0m \u001b[0mmySet\u001b[0m \u001b[1;33m=\u001b[0m \u001b[0mset\u001b[0m\u001b[1;33m(\u001b[0m\u001b[0mlst\u001b[0m\u001b[1;33m)\u001b[0m\u001b[1;33m\u001b[0m\u001b[1;33m\u001b[0m\u001b[0m\n\u001b[0;32m      4\u001b[0m \u001b[0mprint\u001b[0m\u001b[1;33m(\u001b[0m\u001b[0mlen\u001b[0m\u001b[1;33m(\u001b[0m\u001b[0mmySet\u001b[0m\u001b[1;33m)\u001b[0m\u001b[1;33m)\u001b[0m\u001b[1;33m\u001b[0m\u001b[1;33m\u001b[0m\u001b[0m\n\u001b[0;32m      5\u001b[0m \u001b[1;33m\u001b[0m\u001b[0m\n",
      "\u001b[1;32mF:\\Software\\installed\\anaconda\\src\\envs\\deep_learning\\lib\\site-packages\\ipykernel\\kernelbase.py\u001b[0m in \u001b[0;36mraw_input\u001b[1;34m(self, prompt)\u001b[0m\n\u001b[0;32m   1173\u001b[0m                 \u001b[1;34m\"raw_input was called, but this frontend does not support input requests.\"\u001b[0m\u001b[1;33m\u001b[0m\u001b[1;33m\u001b[0m\u001b[0m\n\u001b[0;32m   1174\u001b[0m             )\n\u001b[1;32m-> 1175\u001b[1;33m         return self._input_request(\n\u001b[0m\u001b[0;32m   1176\u001b[0m             \u001b[0mstr\u001b[0m\u001b[1;33m(\u001b[0m\u001b[0mprompt\u001b[0m\u001b[1;33m)\u001b[0m\u001b[1;33m,\u001b[0m\u001b[1;33m\u001b[0m\u001b[1;33m\u001b[0m\u001b[0m\n\u001b[0;32m   1177\u001b[0m             \u001b[0mself\u001b[0m\u001b[1;33m.\u001b[0m\u001b[0m_parent_ident\u001b[0m\u001b[1;33m[\u001b[0m\u001b[1;34m\"shell\"\u001b[0m\u001b[1;33m]\u001b[0m\u001b[1;33m,\u001b[0m\u001b[1;33m\u001b[0m\u001b[1;33m\u001b[0m\u001b[0m\n",
      "\u001b[1;32mF:\\Software\\installed\\anaconda\\src\\envs\\deep_learning\\lib\\site-packages\\ipykernel\\kernelbase.py\u001b[0m in \u001b[0;36m_input_request\u001b[1;34m(self, prompt, ident, parent, password)\u001b[0m\n\u001b[0;32m   1215\u001b[0m             \u001b[1;32mexcept\u001b[0m \u001b[0mKeyboardInterrupt\u001b[0m\u001b[1;33m:\u001b[0m\u001b[1;33m\u001b[0m\u001b[1;33m\u001b[0m\u001b[0m\n\u001b[0;32m   1216\u001b[0m                 \u001b[1;31m# re-raise KeyboardInterrupt, to truncate traceback\u001b[0m\u001b[1;33m\u001b[0m\u001b[1;33m\u001b[0m\u001b[1;33m\u001b[0m\u001b[0m\n\u001b[1;32m-> 1217\u001b[1;33m                 \u001b[1;32mraise\u001b[0m \u001b[0mKeyboardInterrupt\u001b[0m\u001b[1;33m(\u001b[0m\u001b[1;34m\"Interrupted by user\"\u001b[0m\u001b[1;33m)\u001b[0m \u001b[1;32mfrom\u001b[0m \u001b[1;32mNone\u001b[0m\u001b[1;33m\u001b[0m\u001b[1;33m\u001b[0m\u001b[0m\n\u001b[0m\u001b[0;32m   1218\u001b[0m             \u001b[1;32mexcept\u001b[0m \u001b[0mException\u001b[0m\u001b[1;33m:\u001b[0m\u001b[1;33m\u001b[0m\u001b[1;33m\u001b[0m\u001b[0m\n\u001b[0;32m   1219\u001b[0m                 \u001b[0mself\u001b[0m\u001b[1;33m.\u001b[0m\u001b[0mlog\u001b[0m\u001b[1;33m.\u001b[0m\u001b[0mwarning\u001b[0m\u001b[1;33m(\u001b[0m\u001b[1;34m\"Invalid Message:\"\u001b[0m\u001b[1;33m,\u001b[0m \u001b[0mexc_info\u001b[0m\u001b[1;33m=\u001b[0m\u001b[1;32mTrue\u001b[0m\u001b[1;33m)\u001b[0m\u001b[1;33m\u001b[0m\u001b[1;33m\u001b[0m\u001b[0m\n",
      "\u001b[1;31mKeyboardInterrupt\u001b[0m: Interrupted by user"
     ]
    }
   ],
   "source": [
    "lst = list(map(int, input().split()))\n",
    "\n",
    "mySet = set(lst)\n",
    "print(len(mySet))\n",
    "\n",
    "for i in mySet:\n",
    "    print(f'{i}: {lst.count(i)}')"
   ]
  },
  {
   "cell_type": "code",
   "execution_count": 11,
   "id": "6c5fe277",
   "metadata": {},
   "outputs": [
    {
     "name": "stdout",
     "output_type": "stream",
     "text": [
      "5\n",
      "7 3 8 3 6\n",
      "4\n",
      "8: 1\n",
      "3: 2\n",
      "6: 1\n",
      "7: 1\n"
     ]
    }
   ],
   "source": [
    "# lst = list(map(int, input().split()))\n",
    "\n",
    "# print('__', lst)\n",
    "n = int(input())\n",
    "nums = input().split()\n",
    "arr = []\n",
    "for i in range(n):\n",
    "    arr.append(int(nums[i]))\n",
    "\n",
    "mySet = set(arr)\n",
    "print(len(mySet))\n",
    "\n",
    "for i in mySet:\n",
    "    print(f'{i}: {lst.count(i)}')"
   ]
  },
  {
   "cell_type": "code",
   "execution_count": 12,
   "id": "d122d6df",
   "metadata": {},
   "outputs": [
    {
     "name": "stdout",
     "output_type": "stream",
     "text": [
      "5\n",
      "7 3 8 3 6\n",
      "4\n",
      "3: 2\n",
      "8: 1\n",
      "6: 1\n",
      "7: 1\n"
     ]
    }
   ],
   "source": [
    "n = int(input())\n",
    "nums = input().split()\n",
    "arr = []\n",
    "for i in range(n):\n",
    "    arr.append(int(nums[i]))\n",
    "\n",
    "mySet = set(arr)\n",
    "print(len(mySet))\n",
    "\n",
    "output = []\n",
    "for i in mySet:\n",
    "    output.append((i, arr.count(i)))\n",
    "\n",
    "output = sorted(output, key=lambda x: x[1], reverse=True)\n",
    "\n",
    "for i in output:\n",
    "    print(f'{i[0]}: {i[1]}')"
   ]
  },
  {
   "cell_type": "code",
   "execution_count": null,
   "id": "bcf8366c",
   "metadata": {},
   "outputs": [],
   "source": [
    "lst = list(map(int, input().split()))\n",
    "\n",
    "mySet = set(lst)\n",
    "print(len(mySet))\n",
    "\n",
    "for i in mySet:\n",
    "    print(f'{i}: {lst.count(i)}')"
   ]
  },
  {
   "cell_type": "code",
   "execution_count": 13,
   "id": "b005b9f9",
   "metadata": {},
   "outputs": [
    {
     "name": "stdout",
     "output_type": "stream",
     "text": [
      "7 3 8 3 6\n",
      "4\n",
      "3: 2\n",
      "6: 1\n",
      "7: 1\n",
      "8: 1\n"
     ]
    }
   ],
   "source": [
    "# ok la\n",
    "lst = list(map(int, input().split()))\n",
    "\n",
    "mySet = set(lst)\n",
    "print(len(mySet))\n",
    "\n",
    "for i in sorted(mySet):\n",
    "    print(f'{i}: {lst.count(i)}')"
   ]
  },
  {
   "cell_type": "code",
   "execution_count": 13,
   "id": "ae9aa3f7",
   "metadata": {},
   "outputs": [
    {
     "name": "stdout",
     "output_type": "stream",
     "text": [
      "7 3 8 3 6\n",
      "4\n",
      "3: 2\n",
      "6: 1\n",
      "7: 1\n",
      "8: 1\n"
     ]
    }
   ],
   "source": [
    "lst = list(map(int, input().split()))\n",
    "\n",
    "mySet = set(lst)\n",
    "print(len(mySet))\n",
    "\n",
    "for i in sorted(mySet):\n",
    "    print(f'{i}: {lst.count(i)}')"
   ]
  }
 ],
 "metadata": {
  "kernelspec": {
   "display_name": "Python 3 (ipykernel)",
   "language": "python",
   "name": "python3"
  },
  "language_info": {
   "codemirror_mode": {
    "name": "ipython",
    "version": 3
   },
   "file_extension": ".py",
   "mimetype": "text/x-python",
   "name": "python",
   "nbconvert_exporter": "python",
   "pygments_lexer": "ipython3",
   "version": "3.8.12"
  }
 },
 "nbformat": 4,
 "nbformat_minor": 5
}
