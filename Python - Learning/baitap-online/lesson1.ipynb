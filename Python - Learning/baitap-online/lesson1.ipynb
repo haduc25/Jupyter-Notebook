{
 "cells": [
  {
   "cell_type": "markdown",
   "id": "e2086a19",
   "metadata": {},
   "source": [
    "## *Dictionaries - 23/03/2023* ##\n"
   ]
  },
  {
   "cell_type": "markdown",
   "id": "c5fc0c05",
   "metadata": {},
   "source": [
    "Dictionaries are used to store data values in key:value pairs.\n",
    "\n",
    "A dictionary is a collection which is ordered*, changeable and do not allow duplicates."
   ]
  },
  {
   "cell_type": "markdown",
   "id": "b6ab8c55",
   "metadata": {},
   "source": [
    "### <u>Tạo 1 từ điển `dict`</u>"
   ]
  },
  {
   "cell_type": "code",
   "execution_count": 16,
   "id": "cb93ddfa",
   "metadata": {},
   "outputs": [
    {
     "name": "stdout",
     "output_type": "stream",
     "text": [
      "{'id': 1, 'title': 'ha minh duc', 'desc': 'no comment', 'age': 22, 'isAdmin': True, 'color': ['red', 'blue', 'greeen']}\n",
      "1\n",
      "ha minh duc\n",
      "22\n",
      "True\n",
      "['red', 'blue', 'greeen']\n",
      "blue\n",
      "2\n"
     ]
    }
   ],
   "source": [
    "# create a dict \n",
    "# case 1\n",
    "myDict = {\n",
    "    'id': 1,\n",
    "    'title': 'ha minh duc',\n",
    "    'desc': 'no comment',\n",
    "    'age': 22,\n",
    "    'isAdmin': True,\n",
    "    'color': ['red', 'blue', 'greeen']\n",
    "}\n",
    "\n",
    "print(myDict)\n",
    "print(myDict['id'])\n",
    "print(myDict['title'])\n",
    "print(myDict['age'])\n",
    "print(myDict['isAdmin'])\n",
    "print(myDict['color'])\n",
    "print(myDict['color'][1])\n",
    "\n",
    "# change value\n",
    "myDict['id'] = 2\n",
    "print(myDict['id'])"
   ]
  },
  {
   "cell_type": "code",
   "execution_count": 21,
   "id": "173fa9dc",
   "metadata": {},
   "outputs": [
    {
     "name": "stdout",
     "output_type": "stream",
     "text": [
      "{'id': 'Ha Minh Duc', 'coutry': 'Viet Nam', 'age': 22}\n",
      "Ha Minh Duc\n",
      "22\n"
     ]
    }
   ],
   "source": [
    "# case 2 - useing dict()\n",
    "myDict2 = dict(id = 'Ha Minh Duc', coutry = 'Viet Nam',  age = 22)\n",
    "print(myDict2)\n",
    "print(myDict2['id'])\n",
    "print(myDict2.get('age'))"
   ]
  },
  {
   "cell_type": "markdown",
   "id": "f3f44d45",
   "metadata": {},
   "source": [
    "### <u>Truy cập các phần tử trong từ điền<u/>"
   ]
  },
  {
   "cell_type": "markdown",
   "id": "71d755a8",
   "metadata": {},
   "source": [
    "### Phương thức `keys()` trả về danh sách toàn bộ khóa trong từ điển:\n",
    "    "
   ]
  },
  {
   "cell_type": "code",
   "execution_count": 23,
   "id": "8b73eb39",
   "metadata": {},
   "outputs": [
    {
     "data": {
      "text/plain": [
       "dict_keys(['id', 'title', 'desc', 'age', 'isAdmin', 'color'])"
      ]
     },
     "execution_count": 23,
     "metadata": {},
     "output_type": "execute_result"
    }
   ],
   "source": [
    "myDict.keys() #dict_keys(['id', 'title', 'desc', 'age', 'isAdmin', 'color'])"
   ]
  },
  {
   "cell_type": "markdown",
   "id": "fc16d609",
   "metadata": {},
   "source": [
    "### Phương thức `values()` trả về danh sách toàn bộ các giá trị trong từ điển:"
   ]
  },
  {
   "cell_type": "code",
   "execution_count": 25,
   "id": "66223fa6",
   "metadata": {},
   "outputs": [
    {
     "data": {
      "text/plain": [
       "dict_values([2, 'ha minh duc', 'no comment', 22, True, ['red', 'blue', 'greeen']])"
      ]
     },
     "execution_count": 25,
     "metadata": {},
     "output_type": "execute_result"
    }
   ],
   "source": [
    "myDict.values() #dict_values([2, 'ha minh duc', 'no comment', 22, True, ['red', 'blue', 'greeen']])"
   ]
  },
  {
   "cell_type": "markdown",
   "id": "1ae4873e",
   "metadata": {},
   "source": [
    "### Phương thức `items()` trả về danh sách các phần tử trong từ điển:"
   ]
  },
  {
   "cell_type": "code",
   "execution_count": 27,
   "id": "af477c0f",
   "metadata": {},
   "outputs": [
    {
     "data": {
      "text/plain": [
       "dict_items([('id', 2), ('title', 'ha minh duc'), ('desc', 'no comment'), ('age', 22), ('isAdmin', True), ('color', ['red', 'blue', 'greeen'])])"
      ]
     },
     "execution_count": 27,
     "metadata": {},
     "output_type": "execute_result"
    }
   ],
   "source": [
    "myDict.items() # dict_items([('id', 2), ('title', 'ha minh duc'), ('desc', 'no comment'), ('age', 22), ('isAdmin', True), ('color', ['red', 'blue', 'greeen'])])"
   ]
  },
  {
   "cell_type": "markdown",
   "id": "a5dd0eae",
   "metadata": {},
   "source": [
    "### <u>Kiểm tra `key` & `value` có tồn tại trong `dict` hay không?</u>"
   ]
  },
  {
   "cell_type": "markdown",
   "id": "f310a4f3",
   "metadata": {},
   "source": [
    "### Hàm kiểm tra key có tồn tại không => `if \"apple\" in my_dict:` | `if my_dict.get(\"title\") is not None:`"
   ]
  },
  {
   "cell_type": "code",
   "execution_count": 32,
   "id": "8c50c365",
   "metadata": {},
   "outputs": [
    {
     "name": "stdout",
     "output_type": "stream",
     "text": [
      "Key 'age' exists in the dictionary\n",
      "Key 'title' exists in the dictionary\n"
     ]
    }
   ],
   "source": [
    "# case 1\n",
    "# Check if a key exists\n",
    "if \"age\" in myDict:\n",
    "    print(\"Key 'age' exists in the dictionary\")\n",
    "    \n",
    "# case 2 - dùng `get()`\n",
    "# Check if a key exists\n",
    "if myDict.get(\"title\") is not None:\n",
    "    print(\"Key 'title' exists in the dictionary\")\n"
   ]
  },
  {
   "cell_type": "markdown",
   "id": "9c13aa65",
   "metadata": {},
   "source": [
    "### Hàm kiểm tra value có tồn tại không => `if \"apple\" in my_dict.values():`"
   ]
  },
  {
   "cell_type": "code",
   "execution_count": 30,
   "id": "472d4d32",
   "metadata": {},
   "outputs": [
    {
     "name": "stdout",
     "output_type": "stream",
     "text": [
      "Value 1 exists in the dictionary\n"
     ]
    }
   ],
   "source": [
    "# Check if a value exists\n",
    "if 1 in myDict.\n",
    "():\n",
    "    print(\"Value 1 exists in the dictionary\")"
   ]
  },
  {
   "cell_type": "markdown",
   "id": "ea8b3eb9",
   "metadata": {},
   "source": [
    "### <u>Thay đổi giá trị trong từ điển</u>\n",
    "Có thể thay đổi giá trị của các phần tử thông qua khóa"
   ]
  },
  {
   "cell_type": "code",
   "execution_count": 36,
   "id": "801db534",
   "metadata": {},
   "outputs": [
    {
     "name": "stdout",
     "output_type": "stream",
     "text": [
      "{'id': 'Ha Minh Duc', 'coutry': 'Viet Nam', 'age': 22}\n",
      "Japan\n"
     ]
    }
   ],
   "source": [
    "print(myDict2)\n",
    "myDict2['coutry'] = 'Japan'\n",
    "print(myDict2['coutry'])"
   ]
  },
  {
   "cell_type": "markdown",
   "id": "cbf033c1",
   "metadata": {},
   "source": [
    "### <u>Thêm một phần tử vào từ điển</u>\n",
    "Để thêm một phần tử vào từ điển, bạn sử dụng `key`\n",
    "và `value`, với `key` là chỉ số mới chưa tồn tại trong từ\n",
    "điển"
   ]
  },
  {
   "cell_type": "code",
   "execution_count": 55,
   "id": "e0179a44",
   "metadata": {},
   "outputs": [
    {
     "name": "stdout",
     "output_type": "stream",
     "text": [
      "{'id': 'Ha Minh Duc', 'coutry': 'Japan', 'age': 22}\n",
      "{'id': 'Ha Minh Duc', 'coutry': 'Japan', 'age': 22, 'subName': 'Meow'}\n"
     ]
    }
   ],
   "source": [
    "print(myDict2) # {'id': 'Ha Minh Duc', 'coutry': 'Japan', 'age': 22}\n",
    "myDict2['subName'] = 'Meow'\n",
    "print(myDict2) # {'id': 'Ha Minh Duc', 'coutry': 'Japan', 'age': 22, 'subName': 'Meow'}"
   ]
  },
  {
   "cell_type": "markdown",
   "id": "eb05fbf2",
   "metadata": {},
   "source": [
    "### <u>Xóa một phần tử ra khỏi từ điển</u>"
   ]
  },
  {
   "cell_type": "markdown",
   "id": "8eac49c9",
   "metadata": {},
   "source": [
    "#### Sử dụng phương thức `pop` kèm theo khóa: `myDict.pop(\"model\")`"
   ]
  },
  {
   "cell_type": "code",
   "execution_count": 61,
   "id": "31a88e85",
   "metadata": {},
   "outputs": [
    {
     "data": {
      "text/plain": [
       "{'id': 1, 'name': 'Ha Minh Duc', 'coutry': 'Viet Nam'}"
      ]
     },
     "execution_count": 61,
     "metadata": {},
     "output_type": "execute_result"
    }
   ],
   "source": [
    "myDict3 = {'id': 1, 'name':'Ha Minh Duc', 'coutry': 'Viet Nam', 'age': 22} # {'id': 1, 'name': 'Ha Minh Duc', 'coutry': 'Viet Nam', 'age': 22}\n",
    "myDict3.pop('age')\n",
    "myDict3 # 'id': 1, 'name': 'Ha Minh Duc', 'coutry': 'Viet Nam'}"
   ]
  },
  {
   "cell_type": "markdown",
   "id": "61859b92",
   "metadata": {},
   "source": [
    "#### Phương thức `popitem()` xóa phần tử được thêm vào sau cùng: `myDict.popitem()`"
   ]
  },
  {
   "cell_type": "code",
   "execution_count": 62,
   "id": "663f99ab",
   "metadata": {
    "scrolled": true
   },
   "outputs": [
    {
     "name": "stdout",
     "output_type": "stream",
     "text": [
      "{'id': 1, 'name': 'Ha Minh Duc', 'coutry': 'Viet Nam'}\n",
      "{'id': 1, 'name': 'Ha Minh Duc'}\n"
     ]
    }
   ],
   "source": [
    "print(myDict3) # {'id': 1, 'name': 'Ha Minh Duc', 'coutry': 'Viet Nam'}\n",
    "myDict3.popitem()\n",
    "print(myDict3) # {'id': 1, 'name': 'Ha Minh Duc'}"
   ]
  },
  {
   "cell_type": "markdown",
   "id": "2b53400e",
   "metadata": {},
   "source": [
    "### Sử dụng từ khóa `del` để loại bỏ một phần tử ra khỏi từ điển: `del myDict[\"model\"]`"
   ]
  },
  {
   "cell_type": "code",
   "execution_count": 74,
   "id": "01306755",
   "metadata": {},
   "outputs": [
    {
     "name": "stdout",
     "output_type": "stream",
     "text": [
      "{'name': 'Ha Minh Duc', 'coutry': 'Viet Nam', 'age': 22}\n"
     ]
    }
   ],
   "source": [
    "myDict4 = {'id': 1, 'name':'Ha Minh Duc', 'coutry': 'Viet Nam', 'age': 22} # {'id': 1, 'name': 'Ha Minh Duc', 'coutry': 'Viet Nam', 'age': 22}\n",
    "del myDict4['id']\n",
    "print(myDict4) # {'name': 'Ha Minh Duc', 'coutry': 'Viet Nam', 'age': 22}"
   ]
  },
  {
   "cell_type": "markdown",
   "id": "c10cc359",
   "metadata": {},
   "source": [
    "### Phương thức `clear()` cho phép xóa tất cả các phần tử của từ điển, lúc này từ điển vẫn tồn tại nhưng không có phần tử nào:\n",
    "###  `myDict.clear()`"
   ]
  },
  {
   "cell_type": "code",
   "execution_count": 80,
   "id": "52c21d53",
   "metadata": {},
   "outputs": [
    {
     "name": "stdout",
     "output_type": "stream",
     "text": [
      "{}\n"
     ]
    }
   ],
   "source": [
    "myDict5 = {'id': 1, 'name':'Ha Minh Duc', 'coutry': 'Viet Nam', 'age': 22} # {'id': 1, 'name': 'Ha Minh Duc', 'coutry': 'Viet Nam', 'age': 22}\n",
    "myDict5.clear()\n",
    "print(myDict5) # {}         "
   ]
  },
  {
   "cell_type": "markdown",
   "id": "5c3e454c",
   "metadata": {},
   "source": [
    "### <u>Duyệt các phần tử trong từ điển</u>"
   ]
  },
  {
   "cell_type": "code",
   "execution_count": 84,
   "id": "3cbb9a2d",
   "metadata": {},
   "outputs": [
    {
     "name": "stdout",
     "output_type": "stream",
     "text": [
      "id\n",
      "title\n",
      "desc\n",
      "age\n",
      "isAdmin\n",
      "color\n"
     ]
    }
   ],
   "source": [
    "# In toàn bộ khóa trong từ điển\n",
    "for x in myDict:\n",
    "    print(x)"
   ]
  },
  {
   "cell_type": "code",
   "execution_count": 85,
   "id": "2d15414d",
   "metadata": {},
   "outputs": [
    {
     "name": "stdout",
     "output_type": "stream",
     "text": [
      "2\n",
      "ha minh duc\n",
      "no comment\n",
      "22\n",
      "True\n",
      "['red', 'blue', 'greeen']\n"
     ]
    }
   ],
   "source": [
    "# In toàn bộ giá trị trong từ điển\n",
    "for x in myDict:\n",
    "    print(myDict[x])"
   ]
  },
  {
   "cell_type": "markdown",
   "id": "b16b4bd1",
   "metadata": {},
   "source": [
    "### Sử dụng phương thức `values()` trả về toàn bộ giá trị:"
   ]
  },
  {
   "cell_type": "code",
   "execution_count": 87,
   "id": "18e8b1d8",
   "metadata": {},
   "outputs": [
    {
     "name": "stdout",
     "output_type": "stream",
     "text": [
      "2\n",
      "ha minh duc\n",
      "no comment\n",
      "22\n",
      "True\n",
      "['red', 'blue', 'greeen']\n"
     ]
    }
   ],
   "source": [
    "for x in myDict.values():\n",
    "    print(x)"
   ]
  },
  {
   "cell_type": "markdown",
   "id": "943cdad2",
   "metadata": {},
   "source": [
    "### Sử dụng phương thức `keys()` trả về toàn bộ khóa:"
   ]
  },
  {
   "cell_type": "code",
   "execution_count": 89,
   "id": "475f5f5c",
   "metadata": {},
   "outputs": [
    {
     "name": "stdout",
     "output_type": "stream",
     "text": [
      "id\n",
      "title\n",
      "desc\n",
      "age\n",
      "isAdmin\n",
      "color\n"
     ]
    }
   ],
   "source": [
    "for x in myDict.keys():\n",
    "    print(x)"
   ]
  },
  {
   "cell_type": "markdown",
   "id": "a2c0963c",
   "metadata": {},
   "source": [
    "### <u>Sao chép từ điển</u>"
   ]
  },
  {
   "cell_type": "markdown",
   "id": "cef5d592",
   "metadata": {},
   "source": [
    "#### Phương thức `copy()` tạo bản sao của từ điền đã có | `dict(myDictNeedCopy)`"
   ]
  },
  {
   "cell_type": "code",
   "execution_count": 103,
   "id": "53007fca",
   "metadata": {},
   "outputs": [
    {
     "name": "stdout",
     "output_type": "stream",
     "text": [
      "{'name': 'Ha Minh Duc', 'coutry': 'Viet Nam', 'age': 22}\n",
      "{'name': 'Ha Minh Duc', 'coutry': 'Viet Nam', 'age': 22}\n"
     ]
    }
   ],
   "source": [
    "# case 1\n",
    "print(myDict4) # {'name': 'Ha Minh Duc', 'coutry': 'Viet Nam', 'age': 22}\n",
    "myDict5CopiedFromMyDict4 = myDict4.copy()\n",
    "print(myDict5CopiedFromMyDict4) # {'name': 'Ha Minh Duc', 'coutry': 'Viet Nam', 'age': 22}"
   ]
  },
  {
   "cell_type": "code",
   "execution_count": 104,
   "id": "0f700c68",
   "metadata": {},
   "outputs": [
    {
     "name": "stdout",
     "output_type": "stream",
     "text": [
      "{'name': 'Ha Minh Duc', 'coutry': 'Viet Nam', 'age': 22}\n",
      "{'name': 'Ha Minh Duc', 'coutry': 'Viet Nam', 'age': 22}\n"
     ]
    }
   ],
   "source": [
    "# case 2 - using `dict()`\n",
    "print(myDict4) # {'name': 'Ha Minh Duc', 'coutry': 'Viet Nam', 'age': 22}\n",
    "myDict5Copied = dict(myDict4)\n",
    "print(myDict5Copied) # {'name': 'Ha Minh Duc', 'coutry': 'Viet Nam', 'age': 22}"
   ]
  }
 ],
 "metadata": {
  "kernelspec": {
   "display_name": "Python 3 (ipykernel)",
   "language": "python",
   "name": "python3"
  },
  "language_info": {
   "codemirror_mode": {
    "name": "ipython",
    "version": 3
   },
   "file_extension": ".py",
   "mimetype": "text/x-python",
   "name": "python",
   "nbconvert_exporter": "python",
   "pygments_lexer": "ipython3",
   "version": "3.8.12"
  }
 },
 "nbformat": 4,
 "nbformat_minor": 5
}
