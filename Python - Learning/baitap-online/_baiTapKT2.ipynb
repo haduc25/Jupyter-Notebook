{
 "cells": [
  {
   "cell_type": "markdown",
   "id": "3c5c3825",
   "metadata": {},
   "source": [
    "### Xây dựng lớp HocSinh gồm có các thuộc tính: \n",
    "    ID, tên học sinh, quê quán, điểm toán, điểm lý, điểm hóa. \n",
    "    Xây dựng phương thức nhập/hiện thông tin cho một học sinh\n",
    " \n",
    "    Ghi chú: Điểm trung bình làm tròn đến 2 chữ số"
   ]
  },
  {
   "cell_type": "code",
   "execution_count": null,
   "id": "ca6a93c5",
   "metadata": {},
   "outputs": [],
   "source": [
    "class HocSinh:\n",
    "    def __init__(self, id, tenhs, qq, dtoan, dly, dhoa):\n",
    "        self.id = id\n",
    "        self.tenhs = tenhs\n",
    "        "
   ]
  },
  {
   "cell_type": "code",
   "execution_count": null,
   "id": "b830dabb",
   "metadata": {},
   "outputs": [],
   "source": []
  },
  {
   "cell_type": "code",
   "execution_count": null,
   "id": "75da9773",
   "metadata": {},
   "outputs": [],
   "source": []
  },
  {
   "cell_type": "code",
   "execution_count": null,
   "id": "70fdad89",
   "metadata": {},
   "outputs": [],
   "source": []
  }
 ],
 "metadata": {
  "kernelspec": {
   "display_name": "Python 3 (ipykernel)",
   "language": "python",
   "name": "python3"
  },
  "language_info": {
   "codemirror_mode": {
    "name": "ipython",
    "version": 3
   },
   "file_extension": ".py",
   "mimetype": "text/x-python",
   "name": "python",
   "nbconvert_exporter": "python",
   "pygments_lexer": "ipython3",
   "version": "3.8.12"
  }
 },
 "nbformat": 4,
 "nbformat_minor": 5
}
