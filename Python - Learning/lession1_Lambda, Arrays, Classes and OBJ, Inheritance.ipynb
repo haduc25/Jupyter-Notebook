{
 "cells": [
  {
   "cell_type": "markdown",
   "id": "506a23ef",
   "metadata": {},
   "source": [
    "## Python Lambda"
   ]
  },
  {
   "cell_type": "code",
   "execution_count": 1,
   "id": "1454985a",
   "metadata": {},
   "outputs": [
    {
     "name": "stdout",
     "output_type": "stream",
     "text": [
      "15\n"
     ]
    }
   ],
   "source": [
    "# Add 10 to argument a, and return the result:\n",
    "x = lambda a : a + 10\n",
    "\n",
    "print(x(5)) # 15"
   ]
  },
  {
   "cell_type": "code",
   "execution_count": 2,
   "id": "7b4410d6",
   "metadata": {},
   "outputs": [
    {
     "name": "stdout",
     "output_type": "stream",
     "text": [
      "25\n"
     ]
    }
   ],
   "source": [
    "# Multiply argument a with argument b and return the result:\n",
    "x = lambda a, b : a * b\n",
    "print(x(5, 5)) # 25"
   ]
  },
  {
   "cell_type": "code",
   "execution_count": 5,
   "id": "94c964ed",
   "metadata": {},
   "outputs": [
    {
     "name": "stdout",
     "output_type": "stream",
     "text": [
      "6\n"
     ]
    }
   ],
   "source": [
    "# Summarize argument a, b, and c and return the result:\n",
    "x = lambda a, b, c : a + b + c\n",
    "print(x(1, 2, 3)) # 6\n"
   ]
  },
  {
   "cell_type": "markdown",
   "id": "ed89fbb1",
   "metadata": {},
   "source": [
    "## Why Use Lambda Functions?"
   ]
  },
  {
   "cell_type": "code",
   "execution_count": 9,
   "id": "1f7d7a41",
   "metadata": {},
   "outputs": [
    {
     "name": "stdout",
     "output_type": "stream",
     "text": [
      "22\n"
     ]
    }
   ],
   "source": [
    "# Use that function definition to make a function that always doubles the number you send in:\n",
    "def myFunc(n):\n",
    "    return lambda a : a * n\n",
    "\n",
    "# using\n",
    "calcDoubler = myFunc(2)\n",
    "print(calcDoubler(11)) # n = 2, a = 11 / myFunc => 11 * 2 => 22"
   ]
  },
  {
   "cell_type": "code",
   "execution_count": 12,
   "id": "02c3d2ab",
   "metadata": {},
   "outputs": [
    {
     "name": "stdout",
     "output_type": "stream",
     "text": [
      "33\n"
     ]
    }
   ],
   "source": [
    "# Or, use the same function definition to make a function that always triples the number you send in:\n",
    "def myFunc(n):\n",
    "  return lambda a : a * n\n",
    "\n",
    "myTripler = myFunc(3)\n",
    "\n",
    "print(myTripler(11))"
   ]
  },
  {
   "cell_type": "code",
   "execution_count": 14,
   "id": "79563088",
   "metadata": {},
   "outputs": [
    {
     "name": "stdout",
     "output_type": "stream",
     "text": [
      "22\n",
      "33\n"
     ]
    }
   ],
   "source": [
    "# Or, use the same function definition to make both functions, in the same program:\n",
    "\n",
    "def myfunc(n):\n",
    "  return lambda a : a * n\n",
    "\n",
    "mydoubler = myfunc(2)\n",
    "mytripler = myfunc(3)\n",
    "\n",
    "print(mydoubler(11))\n",
    "print(mytripler(11))"
   ]
  },
  {
   "cell_type": "markdown",
   "id": "d0974212",
   "metadata": {},
   "source": [
    "## Python Arrays"
   ]
  },
  {
   "cell_type": "code",
   "execution_count": 17,
   "id": "cb0376f4",
   "metadata": {},
   "outputs": [
    {
     "data": {
      "text/plain": [
       "['Ford', 'Volvo', 'BMW']"
      ]
     },
     "execution_count": 17,
     "metadata": {},
     "output_type": "execute_result"
    }
   ],
   "source": [
    "# Arrays are used to store multiple values in one single variable:\n",
    "cars = [\"Ford\", \"Volvo\", \"BMW\"]\n",
    "cars"
   ]
  },
  {
   "cell_type": "code",
   "execution_count": 20,
   "id": "414740cb",
   "metadata": {},
   "outputs": [
    {
     "data": {
      "text/plain": [
       "'Ford'"
      ]
     },
     "execution_count": 20,
     "metadata": {},
     "output_type": "execute_result"
    }
   ],
   "source": [
    "# Access the Elements of an Array\n",
    "x = cars[0] # Ford\n",
    "x"
   ]
  },
  {
   "cell_type": "code",
   "execution_count": 21,
   "id": "869e9375",
   "metadata": {},
   "outputs": [
    {
     "data": {
      "text/plain": [
       "'Nguyen Tu Anh'"
      ]
     },
     "execution_count": 21,
     "metadata": {},
     "output_type": "execute_result"
    }
   ],
   "source": [
    "# Modify the value of the first array item:\n",
    "cars[0] = 'Nguyen Tu Anh'\n",
    "cars[0]"
   ]
  },
  {
   "cell_type": "code",
   "execution_count": 26,
   "id": "b980d3aa",
   "metadata": {},
   "outputs": [
    {
     "name": "stdout",
     "output_type": "stream",
     "text": [
      "['Nguyen Tu Anh', 'Volvo', 'BMW'] 3\n"
     ]
    }
   ],
   "source": [
    "# The Length of an Array\n",
    "x = len(cars)\n",
    "print(cars, x)"
   ]
  },
  {
   "cell_type": "markdown",
   "id": "d53591d7",
   "metadata": {},
   "source": [
    "## Python Classes and Objects"
   ]
  },
  {
   "cell_type": "code",
   "execution_count": 32,
   "id": "06413ffd",
   "metadata": {},
   "outputs": [
    {
     "data": {
      "text/plain": [
       "5"
      ]
     },
     "execution_count": 32,
     "metadata": {},
     "output_type": "execute_result"
    }
   ],
   "source": [
    "# Create a class named MyClass, with a property named x:\n",
    "class myClass:\n",
    "    x = 5\n",
    "\n",
    "# Create Object\n",
    "mc = myClass()\n",
    "mc.x"
   ]
  },
  {
   "cell_type": "code",
   "execution_count": 39,
   "id": "b0e7036a",
   "metadata": {},
   "outputs": [
    {
     "name": "stdout",
     "output_type": "stream",
     "text": [
      "Nguyen Tu Anh\n",
      "22\n"
     ]
    }
   ],
   "source": [
    "# The __init__() Function\n",
    "# Create a class named Person, use the __init__() function to assign values for name and age:\n",
    "class Person:\n",
    "    def __init__(self, name, age):\n",
    "        self.name = name\n",
    "        self.age = age\n",
    "\n",
    "person = Person('Nguyen Tu Anh', 22)\n",
    "print(person.name)\n",
    "print(person.age)\n",
    "\n",
    "# Note: The __init__() function is called automatically every time the class is being used to create a new object."
   ]
  },
  {
   "cell_type": "code",
   "execution_count": 49,
   "id": "b994e1e1",
   "metadata": {},
   "outputs": [
    {
     "name": "stdout",
     "output_type": "stream",
     "text": [
      "<__main__.Person object at 0x000001FDB75BA850>\n"
     ]
    }
   ],
   "source": [
    "# The __str__() Function\n",
    "\"\"\"\n",
    "The __str__() function controls what should be returned when the class object is represented as a string.\n",
    "\n",
    "If the __str__() function is not set, the string representation of the object is returned:\n",
    "\"\"\"\n",
    "\n",
    "# The string representation of an object WITHOUT the __str__() function:\n",
    "class Person:\n",
    "  def __init__(self, name, age):\n",
    "    self.name = name\n",
    "    self.age = age\n",
    "\n",
    "p1 = Person(\"John\", 36)\n",
    "\n",
    "print(p1) # <__main__.Person object at 0x000001FDB75BA670>"
   ]
  },
  {
   "cell_type": "code",
   "execution_count": 60,
   "id": "119e90d6",
   "metadata": {},
   "outputs": [
    {
     "name": "stdout",
     "output_type": "stream",
     "text": [
      "Nguyen Tu Anh (22)\n"
     ]
    }
   ],
   "source": [
    "# The string representation of an object WITH the __str__() function:\n",
    "class Person:\n",
    "  def __init__(self, name, age):\n",
    "    self.name = name\n",
    "    self.age = age\n",
    "    \n",
    "  def __str__(self): return f\"{self.name} ({self.age})\"\n",
    "\n",
    "\n",
    "p1 = Person(\"Nguyen Tu Anh\", 22)\n",
    "\n",
    "print(p1)"
   ]
  },
  {
   "cell_type": "code",
   "execution_count": 73,
   "id": "43683526",
   "metadata": {},
   "outputs": [
    {
     "name": "stdout",
     "output_type": "stream",
     "text": [
      "Hello Nguyen Tu Anh\n",
      "My name is Nguyen Tu Anh\n"
     ]
    }
   ],
   "source": [
    "# Object Methods\n",
    "# Insert a function that prints a greeting, and execute it on the p1 object:\n",
    "\n",
    "class Person:\n",
    "    def __init__(self, name, age):\n",
    "        self.name = name\n",
    "        self.age = age\n",
    "\n",
    "    def __str__(self):\n",
    "        return f\"Hello {self.name}\"\n",
    "    \n",
    "    def printOurName(self): \n",
    "        print('My name is ' + self.name)\n",
    "\n",
    "ps = Person('Nguyen Tu Anh', 22)\n",
    "print(ps)\n",
    "ps.printOurName()"
   ]
  },
  {
   "cell_type": "code",
   "execution_count": 78,
   "id": "f6f72438",
   "metadata": {},
   "outputs": [
    {
     "name": "stdout",
     "output_type": "stream",
     "text": [
      "Hello my name is Nguyen Tu Anh\n"
     ]
    }
   ],
   "source": [
    "# The self Parameter\n",
    "\"\"\"\n",
    "The self parameter is a reference to the current instance of the class, and is used to access variables that belongs to the class.\n",
    "\n",
    "It does not have to be named self , you can call it whatever you like, but it has to be the first parameter of any function in the class:\n",
    "\"\"\"\n",
    "\n",
    "# Use the words mysillyobject and abc instead of self:\n",
    "class Person:\n",
    "  def __init__(mysillyobject, name, age):\n",
    "    mysillyobject.name = name\n",
    "    mysillyobject.age = age\n",
    "\n",
    "  def myfunc(abc):\n",
    "    print(\"Hello my name is \" + abc.name)\n",
    "\n",
    "p1 = Person(\"Nguyen Tu Anh\", 36)\n",
    "p1.myfunc()"
   ]
  },
  {
   "cell_type": "code",
   "execution_count": 83,
   "id": "9dad985e",
   "metadata": {},
   "outputs": [
    {
     "name": "stdout",
     "output_type": "stream",
     "text": [
      "Age before change:  22\n",
      "Age after change:  20\n"
     ]
    }
   ],
   "source": [
    "# Modify Object Properties - Set the age of p1 to 40:\n",
    "class Person:\n",
    "  def __init__(self, name, age):\n",
    "    self.name = name\n",
    "    self.age = age\n",
    "\n",
    "  def myfunc(self):\n",
    "    print(\"Hello my name is \" + self.name)\n",
    "\n",
    "    \n",
    "p1 = Person(\"Nguyen Tu Anh\", 22)\n",
    "print('Age before change: ', p1.age)\n",
    "p1.age = 20\n",
    "print('Age after change: ', p1.age)"
   ]
  },
  {
   "cell_type": "code",
   "execution_count": 88,
   "id": "e3f035d7",
   "metadata": {},
   "outputs": [
    {
     "name": "stdout",
     "output_type": "stream",
     "text": [
      "Age before delete:  22\n"
     ]
    },
    {
     "ename": "AttributeError",
     "evalue": "'Person' object has no attribute 'age'",
     "output_type": "error",
     "traceback": [
      "\u001b[1;31m---------------------------------------------------------------------------\u001b[0m",
      "\u001b[1;31mAttributeError\u001b[0m                            Traceback (most recent call last)",
      "\u001b[1;32m~\\AppData\\Local\\Temp\\ipykernel_8368\\428247649.py\u001b[0m in \u001b[0;36m<module>\u001b[1;34m\u001b[0m\n\u001b[0;32m     13\u001b[0m \u001b[0mprint\u001b[0m\u001b[1;33m(\u001b[0m\u001b[1;34m'Age before delete: '\u001b[0m\u001b[1;33m,\u001b[0m \u001b[0mp1\u001b[0m\u001b[1;33m.\u001b[0m\u001b[0mage\u001b[0m\u001b[1;33m)\u001b[0m\u001b[1;33m\u001b[0m\u001b[1;33m\u001b[0m\u001b[0m\n\u001b[0;32m     14\u001b[0m \u001b[1;32mdel\u001b[0m \u001b[0mp1\u001b[0m\u001b[1;33m.\u001b[0m\u001b[0mage\u001b[0m\u001b[1;33m\u001b[0m\u001b[1;33m\u001b[0m\u001b[0m\n\u001b[1;32m---> 15\u001b[1;33m \u001b[0mprint\u001b[0m\u001b[1;33m(\u001b[0m\u001b[1;34m'Age after delete: '\u001b[0m\u001b[1;33m,\u001b[0m \u001b[0mp1\u001b[0m\u001b[1;33m.\u001b[0m\u001b[0mage\u001b[0m\u001b[1;33m)\u001b[0m \u001b[1;31m# AttributeError: 'Person' object has no attribute 'age'\u001b[0m\u001b[1;33m\u001b[0m\u001b[1;33m\u001b[0m\u001b[0m\n\u001b[0m",
      "\u001b[1;31mAttributeError\u001b[0m: 'Person' object has no attribute 'age'"
     ]
    }
   ],
   "source": [
    "# Delete Object Properties\n",
    "# You can delete properties on objects by using the `del` keyword: - Delete the age property from the p1 object:\n",
    "class Person:\n",
    "  def __init__(self, name, age):\n",
    "    self.name = name\n",
    "    self.age = age\n",
    "\n",
    "  def myfunc(self):\n",
    "    print(\"Hello my name is \" + self.name)\n",
    "\n",
    "    \n",
    "p1 = Person(\"Nguyen Tu Anh\", 22)\n",
    "print('Age before delete: ', p1.age)\n",
    "del p1.age\n",
    "print('Age after delete: ', p1.age) # AttributeError: 'Person' object has no attribute 'age'"
   ]
  },
  {
   "cell_type": "code",
   "execution_count": 98,
   "id": "ea35fe56",
   "metadata": {},
   "outputs": [
    {
     "name": "stdout",
     "output_type": "stream",
     "text": [
      "After delete object:  Meow meow default str\n"
     ]
    },
    {
     "ename": "NameError",
     "evalue": "name 'p1' is not defined",
     "output_type": "error",
     "traceback": [
      "\u001b[1;31m---------------------------------------------------------------------------\u001b[0m",
      "\u001b[1;31mNameError\u001b[0m                                 Traceback (most recent call last)",
      "\u001b[1;32m~\\AppData\\Local\\Temp\\ipykernel_8368\\3868764214.py\u001b[0m in \u001b[0;36m<module>\u001b[1;34m\u001b[0m\n\u001b[0;32m     12\u001b[0m \u001b[1;32mdel\u001b[0m \u001b[0mp1\u001b[0m\u001b[1;33m\u001b[0m\u001b[1;33m\u001b[0m\u001b[0m\n\u001b[0;32m     13\u001b[0m \u001b[1;33m\u001b[0m\u001b[0m\n\u001b[1;32m---> 14\u001b[1;33m \u001b[0mprint\u001b[0m\u001b[1;33m(\u001b[0m\u001b[1;34m'Before delete object: '\u001b[0m\u001b[1;33m,\u001b[0m \u001b[0mp1\u001b[0m\u001b[1;33m)\u001b[0m \u001b[1;31m# NameError: name 'p1' is not defined\u001b[0m\u001b[1;33m\u001b[0m\u001b[1;33m\u001b[0m\u001b[0m\n\u001b[0m",
      "\u001b[1;31mNameError\u001b[0m: name 'p1' is not defined"
     ]
    }
   ],
   "source": [
    "# Delete Objects - You can delete objects by using the `del` keyword\n",
    "class Person:\n",
    "  def __init__(self, name, age):\n",
    "    self.name = name\n",
    "    self.age = age\n",
    "    \n",
    "  def __str__(self): return 'Meow meow default str'\n",
    "p1 = Person(\"John\", 36)\n",
    "\n",
    "print('After delete object: ', p1)\n",
    "\n",
    "del p1\n",
    "\n",
    "print('Before delete object: ', p1) # NameError: name 'p1' is not defined\n"
   ]
  },
  {
   "cell_type": "code",
   "execution_count": 101,
   "id": "e64d811f",
   "metadata": {},
   "outputs": [],
   "source": [
    "# The `pass` Statement\n",
    "#class definitions cannot be empty, but if you for some reason have a class definition with no content, \n",
    "# put in the pass statement to avoid getting an error.\n",
    "\n",
    "class Person: pass\n",
    "# having an empty class definition like this, would raise an error without the pass statement"
   ]
  },
  {
   "cell_type": "markdown",
   "id": "f267a09d",
   "metadata": {},
   "source": [
    "## Python Inheritance"
   ]
  },
  {
   "cell_type": "code",
   "execution_count": 109,
   "id": "9cfb7086",
   "metadata": {},
   "outputs": [
    {
     "name": "stdout",
     "output_type": "stream",
     "text": [
      "ILU but you dont know :))\n",
      "Her name: Nguyen Tu Anh 22\n"
     ]
    }
   ],
   "source": [
    "\"\"\"\n",
    "Inheritance allows us to define a class that inherits all the methods and properties from another class.\n",
    "\n",
    "Parent class is the class being inherited from, also called base class.\n",
    "\n",
    "Child class is the class that inherits from another class, also called derived class.\n",
    "\"\"\"\n",
    "\n",
    "# Create a Parent Class - Any class can be a parent class, so the syntax is the same as creating any other class:\n",
    "# Create a class named Person, with firstname and lastname properties, and a printname method:\n",
    "\n",
    "class Person:\n",
    "    def __init__(self, fname, lname):\n",
    "        self.fname = fname\n",
    "        self.lname = lname\n",
    "    \n",
    "    def printName(self):\n",
    "        print(f'ILU but you dont know :))', end = '\\n')\n",
    "        print(f'Her name: {self.fname} {self.lname}')\n",
    "\n",
    "# Use the Person class to create an object, and then execute the printname method:\n",
    "ps = Person('Nguyen Tu Anh', 22)\n",
    "ps.printName()"
   ]
  },
  {
   "cell_type": "code",
   "execution_count": 113,
   "id": "6de6dafc",
   "metadata": {},
   "outputs": [],
   "source": [
    "# Create a Child Class\n",
    "# To create a class that inherits the functionality from another class, send the parent class as a parameter when creating the child class:\n",
    "# Create a class named Student, which will inherit the properties and methods from the Person class:\n",
    "\n",
    "class Student(Person):\n",
    "    pass\n",
    "\n",
    "# Note: Use the pass keyword when you do not want to add any other properties or methods to the class.\n",
    "# Now the Student class has the same properties and methods as the Person class."
   ]
  },
  {
   "cell_type": "code",
   "execution_count": 115,
   "id": "9dee7f61",
   "metadata": {},
   "outputs": [
    {
     "name": "stdout",
     "output_type": "stream",
     "text": [
      "ILU but you dont know :))\n",
      "Her name: Nguyen Tu Anh 22\n"
     ]
    }
   ],
   "source": [
    "# Use the Student class to create an object, and then execute the printname method:\n",
    "sd = Student('Nguyen Tu Anh', 22)\n",
    "sd.printName()"
   ]
  },
  {
   "cell_type": "code",
   "execution_count": 117,
   "id": "4e49829b",
   "metadata": {},
   "outputs": [],
   "source": [
    "# Add the __init__() Function\n",
    "\"\"\"\n",
    "So far we have created a child class that inherits the properties and methods from its parent.\n",
    "\n",
    "We want to add the __init__() function to the child class (instead of the pass keyword).\n",
    "\n",
    "Note: The __init__() function is called automatically every time the class is being used to create a new object.\n",
    "\"\"\"\n",
    "\n",
    "# Add the __init__() function to the Student class:\n",
    "\n",
    "class Student(Person):\n",
    "     def __init__(self, fname, lname):\n",
    "            pass\n",
    "        # add properties etc.\n",
    "        # Note: The child's __init__() function overrides the inheritance of the parent's __init__() function."
   ]
  },
  {
   "cell_type": "code",
   "execution_count": 119,
   "id": "e253a169",
   "metadata": {},
   "outputs": [],
   "source": [
    "# To keep the inheritance of the parent's __init__() function, add a call to the parent's __init__() function:\n",
    "class Student(Person):\n",
    "     def __init__(self, fname, lname):\n",
    "            Person.__init__(self, fname, lname) # giữ nguyên hàm init của Parent\n",
    "            # Now we have successfully added the __init__() function, and kept the inheritance of the parent class, \n",
    "            # and we are ready to add functionality in the __init__() function."
   ]
  },
  {
   "cell_type": "code",
   "execution_count": 122,
   "id": "b6b7e8e8",
   "metadata": {},
   "outputs": [],
   "source": [
    "# Use the super() Function\n",
    "# Python also has a super() function that will make the child class inherit all the methods and properties from its parent:\n",
    "class Student(Person):\n",
    "     def __init__(self, fname, lname):\n",
    "            super().__init__(fname, lname) # giữ nguyên hàm init của Parent nhưng sử dụng `super()`\n",
    "            # By using the super() function, you do not have to use the name of the parent element, \n",
    "            # it will automatically inherit the methods and properties from its parent."
   ]
  },
  {
   "cell_type": "code",
   "execution_count": 128,
   "id": "70ada87f",
   "metadata": {},
   "outputs": [
    {
     "name": "stdout",
     "output_type": "stream",
     "text": [
      "Nguyen Tu Anh\n",
      "2022\n"
     ]
    }
   ],
   "source": [
    "# Add Properties - Add a property called graduationyear to the Student class:\n",
    "class Student(Person):\n",
    "    def __init__(self, fname, lname):\n",
    "        super().__init__(fname, lname)\n",
    "        self.graduationyear = 2022\n",
    "        \n",
    "x = Student(\"Nguyen\", \"Tu Anh\")\n",
    "print(x.fname, x.lname)\n",
    "print(x.graduationyear)"
   ]
  },
  {
   "cell_type": "code",
   "execution_count": 132,
   "id": "84cd4c9e",
   "metadata": {},
   "outputs": [
    {
     "name": "stdout",
     "output_type": "stream",
     "text": [
      "2019\n"
     ]
    }
   ],
   "source": [
    "# In the example below, the year 2019 should be a variable, and passed into the Student class when creating student objects.\n",
    "# To do so, add another parameter in the __init__() function:\n",
    "# Add a year parameter, and pass the correct year when creating objects:\n",
    "class Student(Person):\n",
    "  def __init__(self, fname, lname, year):\n",
    "    super().__init__(fname, lname)\n",
    "    self.graduationyear = year\n",
    "\n",
    "x = Student(\"Mike\", \"Olsen\", 2019)\n",
    "print(x.graduationyear)"
   ]
  },
  {
   "cell_type": "code",
   "execution_count": 134,
   "id": "3db4871f",
   "metadata": {},
   "outputs": [
    {
     "name": "stdout",
     "output_type": "stream",
     "text": [
      "Welcome Ha Minh Duc to the class of 2023\n"
     ]
    }
   ],
   "source": [
    "# Add Methods - Add a method called welcome to the Student class:\n",
    "class Student(Person):\n",
    "  def __init__(self, fname, lname, year):\n",
    "    super().__init__(fname, lname)\n",
    "    self.graduationyear = year\n",
    "\n",
    "  def welcome(self):\n",
    "    print(\"Welcome\", self.firstname, self.lastname, \"to the class of\", self.graduationyear)\n",
    "    \n",
    "x = Student(\"Ha\", \"Minh Duc\", 2023)\n",
    "x.welcome()"
   ]
  }
 ],
 "metadata": {
  "kernelspec": {
   "display_name": "Python 3 (ipykernel)",
   "language": "python",
   "name": "python3"
  },
  "language_info": {
   "codemirror_mode": {
    "name": "ipython",
    "version": 3
   },
   "file_extension": ".py",
   "mimetype": "text/x-python",
   "name": "python",
   "nbconvert_exporter": "python",
   "pygments_lexer": "ipython3",
   "version": "3.8.12"
  }
 },
 "nbformat": 4,
 "nbformat_minor": 5
}
