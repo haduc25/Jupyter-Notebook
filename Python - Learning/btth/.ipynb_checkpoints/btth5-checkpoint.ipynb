{
 "cells": [
  {
   "cell_type": "markdown",
   "id": "b84b7867",
   "metadata": {},
   "source": [
    "## Bài 5. Cấu trúc Dictionarry"
   ]
  },
  {
   "cell_type": "markdown",
   "id": "697909e6",
   "metadata": {},
   "source": [
    "Bài tập 5.1. Cho hai danh sách, danh sách list1 gồm n số khác nhau\n",
    "\n",
    "a0, a1, ..., an−1\n",
    "và danh sách list2 gồm n tên name0, name1, ..., namen−1\n",
    "Hãy tạo ra một từ điển mà các phần tử có dạng ai : namei sau đó in nội dung\n",
    "từ điển có dạng: <khóa>:<giá trị"
   ]
  },
  {
   "cell_type": "code",
   "execution_count": 2,
   "id": "8b765c58",
   "metadata": {},
   "outputs": [
    {
     "name": "stdout",
     "output_type": "stream",
     "text": [
      "{'Alice': 1, 'Bob': 2, 'Charlie': 3, 'Dave': 4, 'Eve': 5}\n"
     ]
    }
   ],
   "source": [
    "list1 = [1, 2, 3, 4, 5]\n",
    "list2 = ['Alice', 'Bob', 'Charlie', 'Dave', 'Eve']\n",
    "\n",
    "dictionary = {}\n",
    "\n",
    "for i in range(len(list1)):\n",
    "    key = list2[i]\n",
    "    value = list1[i]\n",
    "    dictionary[key] = value\n",
    "\n",
    "print(dictionary)\n"
   ]
  },
  {
   "cell_type": "code",
   "execution_count": 6,
   "id": "3fbe4748",
   "metadata": {},
   "outputs": [
    {
     "name": "stdout",
     "output_type": "stream",
     "text": [
      "Nhap ten hoc sinh (nhap 'stop' de ket thuc): duc\n",
      "Nhap diem cua hoc sinh (tu 0 den 10): 1\n",
      "Nhap ten hoc sinh (nhap 'stop' de ket thuc): duc\n",
      "Nhap diem cua hoc sinh (tu 0 den 10): 2\n",
      "Nhap ten hoc sinh (nhap 'stop' de ket thuc): \n",
      "So hoc sinh co diem 0: 0\n",
      "So hoc sinh co diem 1 : 0\n",
      "So hoc sinh co diem 2 : 1\n",
      "So hoc sinh co diem 3 : 0\n",
      "So hoc sinh co diem 4 : 0\n",
      "So hoc sinh co diem 5 : 0\n",
      "So hoc sinh co diem 6 : 0\n",
      "So hoc sinh co diem 7 : 0\n",
      "So hoc sinh co diem 8 : 0\n",
      "So hoc sinh co diem 9 : 0\n",
      "So hoc sinh co diem 10 : 0\n"
     ]
    }
   ],
   "source": [
    "# Khởi tạo một từ điển để lưu thông tin của các học sinh\n",
    "students = {}\n",
    "\n",
    "# Vòng lặp để nhập thông tin của từng học sinh\n",
    "while True:\n",
    "    name = input(\"Nhap ten hoc sinh: \")\n",
    "    if name == \"\":\n",
    "        break\n",
    "    score = int(input(\"Nhap diem cua hoc sinh (tu 0 den 10): \"))\n",
    "    # Kiểm tra điểm có hợp lệ không\n",
    "    if score < 0 or score > 10:\n",
    "        print(\"Diem khong hop le, vui long nhap lai.\")\n",
    "        continue\n",
    "    students[name] = score\n",
    "\n",
    "# Tạo một danh sách để lưu số lượng học sinh đạt từng điểm số\n",
    "score_counts = [0] * 11\n",
    "\n",
    "# Duyệt qua từng học sinh trong danh sách\n",
    "for student in students:\n",
    "    score = students[student]\n",
    "    # Tăng số lượng học sinh đạt điểm số tương ứng\n",
    "    score_counts[score] += 1\n",
    "\n",
    "# In ra số lượng học sinh đạt từng điểm số\n",
    "for i in range(11):\n",
    "    if i == 0:\n",
    "        print(\"So hoc sinh co diem 0:\", score_counts[i])\n",
    "    else:\n",
    "        print(\"So hoc sinh co diem\", i, \":\", score_counts[i])\n"
   ]
  },
  {
   "cell_type": "code",
   "execution_count": null,
   "id": "151545de",
   "metadata": {},
   "outputs": [],
   "source": []
  },
  {
   "cell_type": "code",
   "execution_count": null,
   "id": "da74b3cc",
   "metadata": {},
   "outputs": [],
   "source": []
  }
 ],
 "metadata": {
  "kernelspec": {
   "display_name": "Python 3 (ipykernel)",
   "language": "python",
   "name": "python3"
  },
  "language_info": {
   "codemirror_mode": {
    "name": "ipython",
    "version": 3
   },
   "file_extension": ".py",
   "mimetype": "text/x-python",
   "name": "python",
   "nbconvert_exporter": "python",
   "pygments_lexer": "ipython3",
   "version": "3.8.12"
  }
 },
 "nbformat": 4,
 "nbformat_minor": 5
}
