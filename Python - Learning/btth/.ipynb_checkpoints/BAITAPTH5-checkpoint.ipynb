{
 "cells": [
  {
   "cell_type": "markdown",
   "id": "154d54af",
   "metadata": {},
   "source": [
    "## Bài 5. Cấu trúc Dictionarry"
   ]
  },
  {
   "cell_type": "markdown",
   "id": "2fde2949",
   "metadata": {},
   "source": [
    "Bài tập 5.1. Cho hai danh sách, danh sách list1 gồm n số khác nhau\n",
    "\n",
    "a0, a1, ..., an−1\n",
    "và danh sách list2 gồm n tên name0, name1, ..., namen−1\n",
    "Hãy tạo ra một từ điển mà các phần tử có dạng ai : namei sau đó in nội dung\n",
    "từ điển có dạng: <khóa>:<giá trị"
   ]
  },
  {
   "cell_type": "code",
   "execution_count": 2,
   "id": "b6bd51e8",
   "metadata": {},
   "outputs": [
    {
     "name": "stdout",
     "output_type": "stream",
     "text": [
      "{'Alice': 1, 'Bob': 2, 'Charlie': 3, 'Dave': 4, 'Eve': 5}\n"
     ]
    }
   ],
   "source": [
    "list1 = [1, 2, 3, 4, 5]\n",
    "list2 = ['Alice', 'Bob', 'Charlie', 'Dave', 'Eve']\n",
    "\n",
    "dictionary = {}\n",
    "\n",
    "for i in range(len(list1)):\n",
    "    key = list2[i]\n",
    "    value = list1[i]\n",
    "    dictionary[key] = value\n",
    "\n",
    "print(dictionary)\n"
   ]
  },
  {
   "cell_type": "code",
   "execution_count": 6,
   "id": "93cb624b",
   "metadata": {},
   "outputs": [
    {
     "name": "stdout",
     "output_type": "stream",
     "text": [
      "Nhap ten hoc sinh: hmduc\n",
      "Nhap diem cua hoc sinh (tu 0 den 10): 9\n",
      "Nhap ten hoc sinh: dla\n",
      "Nhap diem cua hoc sinh (tu 0 den 10): 6\n",
      "Nhap ten hoc sinh: nta\n",
      "Nhap diem cua hoc sinh (tu 0 den 10): 9\n",
      "Nhap ten hoc sinh: \n",
      "\n",
      "\n",
      "So hoc sinh co diem 0 : 0\n",
      "So hoc sinh co diem 1 : 0\n",
      "So hoc sinh co diem 2 : 0\n",
      "So hoc sinh co diem 3 : 0\n",
      "So hoc sinh co diem 4 : 0\n",
      "So hoc sinh co diem 5 : 0\n",
      "So hoc sinh co diem 6 : 1\n",
      "So hoc sinh co diem 7 : 0\n",
      "So hoc sinh co diem 8 : 0\n",
      "So hoc sinh co diem 9 : 2\n",
      "So hoc sinh co diem 10 : 0\n"
     ]
    }
   ],
   "source": [
    "dshs = {}\n",
    "\n",
    "while True:\n",
    "    name = input(\"Nhap ten hoc sinh: \")\n",
    "    if name == \"\":\n",
    "        break\n",
    "    diem = int(input(\"Nhap diem cua hoc sinh (tu 0 den 10): \"))\n",
    "    if diem < 0 or diem > 10:\n",
    "        print(\"Diem khong hop le, vui long nhap lai.\")\n",
    "        continue\n",
    "    dshs[name] = diem\n",
    "\n",
    "# Lưu số lượng hs vs giá trị là 0\n",
    "diemsohs = [0] * 11\n",
    "\n",
    "for hs in dshs:\n",
    "    diem = dshs[hs]\n",
    "    diemsohs[diem] += 1\n",
    "\n",
    "print('\\n')\n",
    "for i in range(11):\n",
    "    if i == 0:\n",
    "        print(\"So hoc sinh co diem 0 :\", diemsohs[i])\n",
    "    else:\n",
    "        print(\"So hoc sinh co diem\", i, \":\", diemsohs[i])"
   ]
  },
  {
   "cell_type": "markdown",
   "id": "49f63a22",
   "metadata": {},
   "source": [
    "Bài tập 5.3. Cho một từ điển chứa thông tin của các thí sinh, mỗi phần tử có 3 thông tin:\n",
    "\n",
    "    • Số báo danh (khóa)\n",
    "    • Họ và tên\n",
    "    • Điểm thi\n",
    "Chương trình cho phép nhập một số báo danh, nếu tồn tại thí sinh có số\n",
    "báo danh tương ứng thì đưa ra họ và tên cùng điểm. Nếu không có thí sinh\n",
    "trùng với số báo danh được nhập, thông báo không có thí sinh"
   ]
  },
  {
   "cell_type": "code",
   "execution_count": 8,
   "id": "e8434223",
   "metadata": {},
   "outputs": [
    {
     "name": "stdout",
     "output_type": "stream",
     "text": [
      "Nhap so bao danh: 5\n",
      "Thong tin cua thi sinh co so bao danh 5 la:\n",
      "- Ho & ten: Ha Minh E\n",
      "- Diem thi: 8.0\n"
     ]
    }
   ],
   "source": [
    "dsThiSinh = {\n",
    "    1: {'name': 'Nguyen Van A', 'diem': 8.5},\n",
    "    2: {'name': 'Tran Thi B', 'diem': 7.25},\n",
    "    3: {'name': 'Nguyen Van C', 'diem': 9.0},\n",
    "    4: {'name': 'Pham Thi D', 'diem': 6.75},\n",
    "    5: {'name': 'Ha Minh E', 'diem': 8.0},\n",
    "}\n",
    "\n",
    "def timThongTinHS():\n",
    "    sbd = int(input(\"Nhap so bao danh: \"))\n",
    "\n",
    "    if sbd in dsThiSinh:\n",
    "        name = dsThiSinh[sbd]['name']\n",
    "        diem = dsThiSinh[sbd]['diem']\n",
    "        print(f\"Thong tin cua thi sinh co so bao danh {sbd} la:\")\n",
    "        print(\"- Ho & ten:\", name)\n",
    "        print(\"- Diem thi:\", diem)\n",
    "    else:\n",
    "        print(\"Khong co thi sinh nao trung voi so bao danh tren\", sbd)\n",
    "\n",
    "timThongTinHS()\n"
   ]
  },
  {
   "cell_type": "markdown",
   "id": "e4b9aa45",
   "metadata": {},
   "source": [
    "Bài tập 5.4. Cặp số hạng có giá trị liên tiếp \n",
    "\n",
    "Ví dụ: Dãy a1 = 1, a2 = 2, a3 = 3,\n",
    "a4 = 2, a5 = 4. Ta có 4 cặp (1, 2), (1, 4), (2, 3), (3, 5)"
   ]
  }
 ],
 "metadata": {
  "kernelspec": {
   "display_name": "Python 3 (ipykernel)",
   "language": "python",
   "name": "python3"
  },
  "language_info": {
   "codemirror_mode": {
    "name": "ipython",
    "version": 3
   },
   "file_extension": ".py",
   "mimetype": "text/x-python",
   "name": "python",
   "nbconvert_exporter": "python",
   "pygments_lexer": "ipython3",
   "version": "3.8.12"
  }
 },
 "nbformat": 4,
 "nbformat_minor": 5
}
