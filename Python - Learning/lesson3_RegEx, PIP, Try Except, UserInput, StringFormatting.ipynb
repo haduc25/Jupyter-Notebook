{
 "cells": [
  {
   "cell_type": "markdown",
   "id": "562110cf",
   "metadata": {},
   "source": [
    "## Python RegEx\n",
    "\n",
    "    - A RegEx, or Regular Expression, is a sequence of characters that forms a search pattern.\n",
    "\n",
    "    - RegEx can be used to check if a string contains the specified search pattern."
   ]
  },
  {
   "cell_type": "code",
   "execution_count": 2,
   "id": "55fe99e0",
   "metadata": {},
   "outputs": [],
   "source": [
    "# RegEx Module\n",
    "# Python has a built-in package called re, which can be used to work with Regular Expressions.\n",
    "# Import the re module:\n",
    "import re"
   ]
  },
  {
   "cell_type": "code",
   "execution_count": 9,
   "id": "24b9640b",
   "metadata": {},
   "outputs": [
    {
     "name": "stdout",
     "output_type": "stream",
     "text": [
      "YES! We have a match!\n"
     ]
    }
   ],
   "source": [
    "# RegEx in Python - Search the string to see if it starts with \"The\" and ends with \"Spain\":\n",
    "import re\n",
    "\n",
    "#Check if the string starts with \"The\" and ends with \"Spain\":\n",
    "\n",
    "txt = \"The rain in Spain\"\n",
    "x = re.search(\"^The.*Spain$\", txt)\n",
    "\n",
    "if x:\n",
    "  print(\"YES! We have a match!\")\n",
    "else:\n",
    "  print(\"No match\")"
   ]
  },
  {
   "cell_type": "markdown",
   "id": "83d8212e",
   "metadata": {},
   "source": [
    "## RegEx Functions\n",
    "##### The re module offers a set of functions that allows us to search a string for a match:\n",
    "![Alt text](img/RegEx.png)"
   ]
  },
  {
   "cell_type": "markdown",
   "id": "ddba4d00",
   "metadata": {},
   "source": [
    "## Metacharacters\n",
    "##### Metacharacters are characters with a special meaning:\n",
    "![Alt text](img/RegEx2.png)"
   ]
  },
  {
   "cell_type": "markdown",
   "id": "d45cd08a",
   "metadata": {},
   "source": [
    "## Special Sequences\n",
    "##### A special sequence is a \\ followed by one of the characters in the list below, and has a special meaning:\n",
    "![Alt text](img/RegEx3.png)"
   ]
  },
  {
   "cell_type": "markdown",
   "id": "1c83fcd8",
   "metadata": {},
   "source": [
    "## Sets\n",
    "##### A set is a set of characters inside a pair of square brackets [] with a special meaning:\n",
    "![Alt text](img/RegEx4.png)"
   ]
  },
  {
   "cell_type": "code",
   "execution_count": 19,
   "id": "0bbdc08a",
   "metadata": {},
   "outputs": [
    {
     "name": "stdout",
     "output_type": "stream",
     "text": [
      "['ai', 'ai']\n"
     ]
    }
   ],
   "source": [
    "# The findall() Function\n",
    "# The findall() function returns a list containing all matches.\n",
    "# Print a list of all matches:\n",
    "\n",
    "import re\n",
    "\n",
    "# Return a list containing every occurrence of \"ai\":\n",
    "\n",
    "txt = \"The rain in Spain\"\n",
    "x = re.findall(\"ai\", txt)\n",
    "print(x)"
   ]
  },
  {
   "cell_type": "code",
   "execution_count": 23,
   "id": "d8ed0085",
   "metadata": {},
   "outputs": [
    {
     "name": "stdout",
     "output_type": "stream",
     "text": [
      "[]\n",
      "No match\n"
     ]
    }
   ],
   "source": [
    "\"\"\"\n",
    "The list contains the matches in the order they are found.\n",
    "\n",
    "If no matches are found, an empty list is returned:\n",
    "\"\"\"\n",
    "# Return an empty list if no match was found:\n",
    "import re\n",
    "\n",
    "txt = \"The rain in Spain\"\n",
    "\n",
    "#Check if \"Portugal\" is in the string:\n",
    "\n",
    "x = re.findall(\"Portugal\", txt)\n",
    "print(x)\n",
    "\n",
    "if (x):\n",
    "  print(\"Yes, there is at least one match!\")\n",
    "else:\n",
    "  print(\"No match\")\n"
   ]
  },
  {
   "cell_type": "code",
   "execution_count": 24,
   "id": "9ba4b187",
   "metadata": {},
   "outputs": [
    {
     "name": "stdout",
     "output_type": "stream",
     "text": [
      "The first white-space character is located in position: 3\n"
     ]
    }
   ],
   "source": [
    "# The search() Function\n",
    "\n",
    "\"\"\"\n",
    "The search() function searches the string for a match, and returns a Match object if there is a match.\n",
    "\n",
    "If there is more than one match, only the first occurrence of the match will be returned:\n",
    "\"\"\"\n",
    "# Search for the first white-space character in the string:\n",
    "import re\n",
    "\n",
    "txt = \"The rain in Spain\"\n",
    "x = re.search(\"\\s\", txt)\n",
    "\n",
    "print(\"The first white-space character is located in position:\", x.start()) "
   ]
  },
  {
   "cell_type": "code",
   "execution_count": 25,
   "id": "69590efc",
   "metadata": {},
   "outputs": [
    {
     "name": "stdout",
     "output_type": "stream",
     "text": [
      "None\n"
     ]
    }
   ],
   "source": [
    "\"\"\"\n",
    "If no matches are found, the value None is returned:\n",
    "\"\"\"\n",
    "# Make a search that returns no match:\n",
    "import re\n",
    "\n",
    "txt = \"The rain in Spain\"\n",
    "x = re.search(\"Portugal\", txt)\n",
    "print(x)\n"
   ]
  },
  {
   "cell_type": "code",
   "execution_count": 29,
   "id": "871811f3",
   "metadata": {},
   "outputs": [
    {
     "name": "stdout",
     "output_type": "stream",
     "text": [
      "['The', 'rain', 'in', 'Spain']\n"
     ]
    }
   ],
   "source": [
    "# The split() Function\n",
    "# The split() function returns a list where the string has been split at each match:\n",
    "# Split at each white-space character:\n",
    "import re\n",
    "\n",
    "# Split the string at every white-space character:\n",
    "\n",
    "txt = \"The rain in Spain\"\n",
    "x = re.split(\"\\s\", txt)\n",
    "print(x)"
   ]
  },
  {
   "cell_type": "code",
   "execution_count": 30,
   "id": "361f6efe",
   "metadata": {},
   "outputs": [
    {
     "name": "stdout",
     "output_type": "stream",
     "text": [
      "['The', 'rain in Spain']\n"
     ]
    }
   ],
   "source": [
    "# You can control the number of occurrences by specifying the maxsplit parameter:\n",
    "# Split the string only at the first occurrence:\n",
    "import re\n",
    "\n",
    "#Split the string at the first white-space character:\n",
    "\n",
    "txt = \"The rain in Spain\"\n",
    "x = re.split(\"\\s\", txt, 1)\n",
    "print(x)\n"
   ]
  },
  {
   "cell_type": "code",
   "execution_count": 33,
   "id": "af1eedca",
   "metadata": {},
   "outputs": [
    {
     "name": "stdout",
     "output_type": "stream",
     "text": [
      "The9rain9in9Spain\n"
     ]
    }
   ],
   "source": [
    "# The sub() Function\n",
    "# The sub() function replaces the matches with the text of your choice:\n",
    "# Replace every white-space character with the number 9:\n",
    "import re\n",
    "\n",
    "#Replace all white-space characters with the digit \"9\":\n",
    "\n",
    "txt = \"The rain in Spain\"\n",
    "x = re.sub(\"\\s\", \"9\", txt)\n",
    "print(x)"
   ]
  },
  {
   "cell_type": "code",
   "execution_count": 35,
   "id": "224a0c10",
   "metadata": {},
   "outputs": [
    {
     "name": "stdout",
     "output_type": "stream",
     "text": [
      "The9rain9in Spain\n"
     ]
    }
   ],
   "source": [
    "# You can control the number of replacements by specifying the count parameter:\n",
    "# Replace the first 2 occurrences:\n",
    "import re\n",
    "\n",
    "#Replace the first two occurrences of a white-space character with the digit 9:\n",
    "\n",
    "txt = \"The rain in Spain\"\n",
    "x = re.sub(\"\\s\", \"9\", txt, 2)\n",
    "print(x)"
   ]
  },
  {
   "cell_type": "code",
   "execution_count": 40,
   "id": "ce8101b6",
   "metadata": {},
   "outputs": [
    {
     "name": "stdout",
     "output_type": "stream",
     "text": [
      "<re.Match object; span=(5, 7), match='ai'>\n"
     ]
    }
   ],
   "source": [
    "# Match Object\n",
    "\"\"\"\n",
    "A Match Object is an object containing information about the search and the result.\n",
    "\n",
    "Note: If there is no match, the value None will be returned, instead of the Match Object.\n",
    "\"\"\"\n",
    "# Do a search that will return a Match Object:\n",
    "\n",
    "import re\n",
    "\n",
    "# The search() function returns a Match object:\n",
    "\n",
    "txt = \"The rain in Spain\"\n",
    "x = re.search(\"ai\", txt)\n",
    "print(x) # return loccation in txt"
   ]
  },
  {
   "cell_type": "code",
   "execution_count": 41,
   "id": "a6fc1e26",
   "metadata": {},
   "outputs": [
    {
     "name": "stdout",
     "output_type": "stream",
     "text": [
      "(12, 17)\n"
     ]
    }
   ],
   "source": [
    "\"\"\"\n",
    "The Match object has properties and methods used to retrieve information about the search, and the result:\n",
    "\n",
    ".span() returns a tuple containing the start-, and end positions of the match.\n",
    ".string returns the string passed into the function\n",
    ".group() returns the part of the string where there was a match\n",
    "\"\"\"\n",
    "# Print the position (start- and end-position) of the first match occurrence.\n",
    "# The regular expression looks for any words that starts with an upper case \"S\":\n",
    "\n",
    "import re\n",
    "\n",
    "# Search for an upper case \"S\" character in the beginning of a word, and print its position:\n",
    "\n",
    "txt = \"The rain in Spain\"\n",
    "x = re.search(r\"\\bS\\w+\", txt)\n",
    "print(x.span())\n"
   ]
  },
  {
   "cell_type": "code",
   "execution_count": 43,
   "id": "82cc4f1c",
   "metadata": {},
   "outputs": [
    {
     "name": "stdout",
     "output_type": "stream",
     "text": [
      "The rain in Spain\n"
     ]
    }
   ],
   "source": [
    "# Print the string passed into the function:\n",
    "\n",
    "import re\n",
    "\n",
    "#The string property returns the search string:\n",
    "\n",
    "txt = \"The rain in Spain\"\n",
    "x = re.search(r\"\\bS\\w+\", txt)\n",
    "print(x.string)"
   ]
  },
  {
   "cell_type": "code",
   "execution_count": 51,
   "id": "bbfe29eb",
   "metadata": {},
   "outputs": [
    {
     "name": "stdout",
     "output_type": "stream",
     "text": [
      "Spain\n"
     ]
    }
   ],
   "source": [
    "# Print the part of the string where there was a match.\n",
    "\n",
    "# The regular expression looks for any words that starts with an upper case \"S\":\n",
    "import re\n",
    "\n",
    "#Search for an upper case \"S\" character in the beginning of a word, and print the word:\n",
    "\n",
    "txt = \"The rain in Spain\"\n",
    "x = re.search(r\"\\bS\\w+\", txt)\n",
    "print(x.group())\n",
    "\n",
    "# Note: If there is no match, the value None will be returned, instead of the Match Object."
   ]
  },
  {
   "cell_type": "markdown",
   "id": "7cc6c786",
   "metadata": {},
   "source": [
    "## Python PIP"
   ]
  },
  {
   "cell_type": "code",
   "execution_count": 67,
   "id": "58d29c20",
   "metadata": {},
   "outputs": [
    {
     "data": {
      "text/plain": [
       "'\\nDownloading a package is very easy.\\n\\nOpen the command line interface and tell PIP to download the package you want.\\n\\nNavigate your command line to the location of Python\\'s script directory, and type the following:\\n\\n# Download a package named \"camelcase\":\\n\\n=> pip install camelcase\\n\\n# Now you have downloaded and installed your first package!\\n'"
      ]
     },
     "execution_count": 67,
     "metadata": {},
     "output_type": "execute_result"
    }
   ],
   "source": [
    "# What is PIP?\n",
    "\"\"\"\n",
    "PIP is a package manager for Python packages, or modules if you like.\n",
    "Note: If you have Python version 3.4 or later, PIP is included by default.\n",
    "\"\"\"\n",
    "\n",
    "# What is a Package?\n",
    "\"\"\"\n",
    "A package contains all the files you need for a module.\n",
    "Modules are Python code libraries you can include in your project.\n",
    "\"\"\"\n",
    "\n",
    "\n",
    "# Check if PIP is Installed\n",
    "# Navigate your command line to the location of Python's script directory, and type the following:\n",
    "# C:\\Users\\Your Name\\AppData\\Local\\Programs\\Python\\Python36-32\\Scripts>pip --version\n",
    "\n",
    "# open cmd => pip --version\n",
    "# pip 23.0.1 from C:\\Users\\Admin\\AppData\\Local\\Packages\\PythonSoftwareFoundation.Python.3.10_qbz5n2kfra\n",
    "\n",
    "# Install PIP\n",
    "# If you do not have PIP installed, you can download and install it from this page: https://pypi.org/project/pip/\n",
    "\n",
    "# Download a Package\n",
    "\"\"\"\n",
    "Downloading a package is very easy.\n",
    "\n",
    "Open the command line interface and tell PIP to download the package you want.\n",
    "\n",
    "Navigate your command line to the location of Python's script directory, and type the following:\n",
    "\n",
    "# Download a package named \"camelcase\":\n",
    "\n",
    "=> pip install camelcase\n",
    "\n",
    "# Now you have downloaded and installed your first package!\n",
    "\"\"\"\n",
    "\n",
    "# Using a Package, Find Packages (Find more packages at https://pypi.org/.)\n",
    "# Remove a Package - Use the uninstall command to remove a package:\n",
    "# List Packages - Use the list command to list all the packages installed on your system:\n",
    "# => pip list"
   ]
  },
  {
   "cell_type": "markdown",
   "id": "839b897e",
   "metadata": {},
   "source": [
    "## Python Try Except"
   ]
  },
  {
   "cell_type": "code",
   "execution_count": 70,
   "id": "5de18a64",
   "metadata": {},
   "outputs": [
    {
     "name": "stdout",
     "output_type": "stream",
     "text": [
      "An exception occurred\n"
     ]
    }
   ],
   "source": [
    "\"\"\"\n",
    "The try block lets you test a block of code for errors.\n",
    "\n",
    "The except block lets you handle the error.\n",
    "\n",
    "The else block lets you execute code when there is no error.\n",
    "\n",
    "The finally block lets you execute code, regardless of the result of the try- and except blocks.\n",
    "\"\"\"\n",
    "\n",
    "# Exception Handling\n",
    "\"\"\"\n",
    "When an error occurs, or exception as we call it, Python will normally stop and generate an error message.\n",
    "\n",
    "These exceptions can be handled using the try statement:\n",
    "\"\"\"\n",
    "#The try block will generate an error, because y is not defined:\n",
    "\n",
    "try:\n",
    "  print(y)\n",
    "except:\n",
    "  print(\"An exception occurred\")\n",
    "\n",
    "# Since the try block raises an error, the except block will be executed.\n",
    "\n",
    "# Without the try block, the program will crash and raise an error:"
   ]
  },
  {
   "cell_type": "code",
   "execution_count": 79,
   "id": "4263772c",
   "metadata": {},
   "outputs": [
    {
     "name": "stdout",
     "output_type": "stream",
     "text": [
      "Variable y is not defined\n"
     ]
    }
   ],
   "source": [
    "# Many Exceptions\n",
    "# You can define as many exception blocks as you want, e.g. if you want to execute a special block of code for a special kind of error:\n",
    "# Print one message if the try block raises a NameError and another for other errors:\n",
    "\n",
    "#The try block will generate a NameError, because y is not defined:\n",
    "\n",
    "try:\n",
    "  print(y)\n",
    "except NameError:\n",
    "  print(\"Variable y is not defined\")\n",
    "except:\n",
    "  print(\"Something else went wrong\")\n"
   ]
  },
  {
   "cell_type": "code",
   "execution_count": 80,
   "id": "2ffd9cc7",
   "metadata": {},
   "outputs": [
    {
     "name": "stdout",
     "output_type": "stream",
     "text": [
      "Hello\n",
      "Nothing went wrong\n"
     ]
    }
   ],
   "source": [
    "# Else\n",
    "# You can use the else keyword to define a block of code to be executed if no errors were raised:\n",
    "\n",
    "# In this example, the try block does not generate any error:\n",
    "\n",
    "# The try block does not raise any errors, so the else block is executed:\n",
    "\n",
    "try:\n",
    "  print(\"Hello\")\n",
    "except:\n",
    "  print(\"Something went wrong\")\n",
    "else:\n",
    "  print(\"Nothing went wrong\")\n"
   ]
  },
  {
   "cell_type": "code",
   "execution_count": 83,
   "id": "743fbe9e",
   "metadata": {},
   "outputs": [
    {
     "name": "stdout",
     "output_type": "stream",
     "text": [
      "Something went wrong\n",
      "The 'try except' is finished\n"
     ]
    }
   ],
   "source": [
    "# Finally - The finally block, if specified, will be executed regardless if the try block raises an error or not.\n",
    "\n",
    "\n",
    "# The finally block gets executed no matter if the try block raises any errors or not:\n",
    "\n",
    "try:\n",
    "  print(y)\n",
    "except:\n",
    "  print(\"Something went wrong\")\n",
    "finally:\n",
    "  print(\"The 'try except' is finished\")\n",
    "\n",
    "# This can be useful to close objects and clean up resources:"
   ]
  },
  {
   "cell_type": "code",
   "execution_count": 86,
   "id": "7f625693",
   "metadata": {},
   "outputs": [
    {
     "name": "stdout",
     "output_type": "stream",
     "text": [
      "Something went wrong when opening the file\n"
     ]
    }
   ],
   "source": [
    "# Try to open and write to a file that is not writable\n",
    "#The try block will raise an error when trying to write to a read-only file:\n",
    "\n",
    "try:\n",
    "  f = open(\"demofile.txt\")\n",
    "  try:\n",
    "    f.write(\"Lorum Ipsum\")\n",
    "  except:\n",
    "    print(\"Something went wrong when writing to the file\")\n",
    "  finally:\n",
    "    f.close()\n",
    "except:\n",
    "  print(\"Something went wrong when opening the file\")  \n",
    "\n",
    "# The program can continue, without leaving the file object open."
   ]
  },
  {
   "cell_type": "code",
   "execution_count": 91,
   "id": "6b4b943d",
   "metadata": {},
   "outputs": [
    {
     "ename": "Exception",
     "evalue": "Sorry, no numbers below zero",
     "output_type": "error",
     "traceback": [
      "\u001b[1;31m---------------------------------------------------------------------------\u001b[0m",
      "\u001b[1;31mException\u001b[0m                                 Traceback (most recent call last)",
      "\u001b[1;32m~\\AppData\\Local\\Temp\\ipykernel_7316\\2707875889.py\u001b[0m in \u001b[0;36m<module>\u001b[1;34m\u001b[0m\n\u001b[0;32m     10\u001b[0m \u001b[1;33m\u001b[0m\u001b[0m\n\u001b[0;32m     11\u001b[0m \u001b[1;32mif\u001b[0m \u001b[0mx\u001b[0m \u001b[1;33m<\u001b[0m \u001b[1;36m0\u001b[0m\u001b[1;33m:\u001b[0m\u001b[1;33m\u001b[0m\u001b[1;33m\u001b[0m\u001b[0m\n\u001b[1;32m---> 12\u001b[1;33m   \u001b[1;32mraise\u001b[0m \u001b[0mException\u001b[0m\u001b[1;33m(\u001b[0m\u001b[1;34m\"Sorry, no numbers below zero\"\u001b[0m\u001b[1;33m)\u001b[0m\u001b[1;33m\u001b[0m\u001b[1;33m\u001b[0m\u001b[0m\n\u001b[0m\u001b[0;32m     13\u001b[0m \u001b[1;33m\u001b[0m\u001b[0m\n\u001b[0;32m     14\u001b[0m \u001b[1;31m# The raise keyword is used to raise an exception.\u001b[0m\u001b[1;33m\u001b[0m\u001b[1;33m\u001b[0m\u001b[1;33m\u001b[0m\u001b[0m\n",
      "\u001b[1;31mException\u001b[0m: Sorry, no numbers below zero"
     ]
    }
   ],
   "source": [
    "# Raise an exception\n",
    "\"\"\"\n",
    "As a Python developer you can choose to throw an exception if a condition occurs.\n",
    "\n",
    "To throw (or raise) an exception, use the `raise` keyword.\n",
    "\"\"\"\n",
    "\n",
    "# Raise an error and stop the program if x is lower than 0:\n",
    "x = -1\n",
    "\n",
    "if x < 0:\n",
    "  raise Exception(\"Sorry, no numbers below zero\")\n",
    "\n",
    "# The raise keyword is used to raise an exception.\n",
    "\n",
    "# You can define what kind of error to raise, and the text to print to the user."
   ]
  },
  {
   "cell_type": "code",
   "execution_count": 92,
   "id": "94836aef",
   "metadata": {},
   "outputs": [
    {
     "ename": "TypeError",
     "evalue": "Only integers are allowed",
     "output_type": "error",
     "traceback": [
      "\u001b[1;31m---------------------------------------------------------------------------\u001b[0m",
      "\u001b[1;31mTypeError\u001b[0m                                 Traceback (most recent call last)",
      "\u001b[1;32m~\\AppData\\Local\\Temp\\ipykernel_7316\\153504816.py\u001b[0m in \u001b[0;36m<module>\u001b[1;34m\u001b[0m\n\u001b[0;32m      3\u001b[0m \u001b[1;33m\u001b[0m\u001b[0m\n\u001b[0;32m      4\u001b[0m \u001b[1;32mif\u001b[0m \u001b[1;32mnot\u001b[0m \u001b[0mtype\u001b[0m\u001b[1;33m(\u001b[0m\u001b[0mx\u001b[0m\u001b[1;33m)\u001b[0m \u001b[1;32mis\u001b[0m \u001b[0mint\u001b[0m\u001b[1;33m:\u001b[0m\u001b[1;33m\u001b[0m\u001b[1;33m\u001b[0m\u001b[0m\n\u001b[1;32m----> 5\u001b[1;33m   \u001b[1;32mraise\u001b[0m \u001b[0mTypeError\u001b[0m\u001b[1;33m(\u001b[0m\u001b[1;34m\"Only integers are allowed\"\u001b[0m\u001b[1;33m)\u001b[0m\u001b[1;33m\u001b[0m\u001b[1;33m\u001b[0m\u001b[0m\n\u001b[0m",
      "\u001b[1;31mTypeError\u001b[0m: Only integers are allowed"
     ]
    }
   ],
   "source": [
    "# Raise a TypeError if x is not an integer:\n",
    "x = \"hello\"\n",
    "\n",
    "if not type(x) is int:\n",
    "  raise TypeError(\"Only integers are allowed\")"
   ]
  },
  {
   "cell_type": "markdown",
   "id": "678b4060",
   "metadata": {},
   "source": [
    "## Python User Input"
   ]
  },
  {
   "cell_type": "code",
   "execution_count": 94,
   "id": "5beb828d",
   "metadata": {},
   "outputs": [
    {
     "name": "stdout",
     "output_type": "stream",
     "text": [
      "Enter username:ha minh duc\n",
      "Username is: ha minh duc\n"
     ]
    }
   ],
   "source": [
    "# User Input\n",
    "\"\"\"\n",
    "Python allows for user input.\n",
    "\n",
    "That means we are able to ask the user for input.\n",
    "\n",
    "The method is a bit different in Python 3.6 than Python 2.7.\n",
    "\n",
    "Python 3.6 uses the input() method.\n",
    "\n",
    "Python 2.7 uses the raw_input() method.\n",
    "\n",
    "The following example asks for the username, and when you entered the username, it gets printed on the screen:\n",
    "\"\"\"\n",
    "\n",
    "# Python 3.6\n",
    "username = input(\"Enter username:\")\n",
    "print(\"Username is: \" + username)\n",
    "\n",
    "# Python stops executing when it comes to the input() function, and continues when the user has given some input."
   ]
  },
  {
   "cell_type": "markdown",
   "id": "7f6486f6",
   "metadata": {},
   "source": [
    "## Python String Formatting\n",
    " - To make sure a string will display as expected, we can format the result with the format() method."
   ]
  },
  {
   "cell_type": "code",
   "execution_count": 98,
   "id": "f4e2ed25",
   "metadata": {},
   "outputs": [
    {
     "name": "stdout",
     "output_type": "stream",
     "text": [
      "The price is 49 dollars\n",
      "My name is Minh Duc & i am 22 year old\n"
     ]
    }
   ],
   "source": [
    "# String format()\n",
    "\"\"\"\n",
    "The format() method allows you to format selected parts of a string.\n",
    "\n",
    "Sometimes there are parts of a text that you do not control, maybe they come from a database, or user input?\n",
    "\n",
    "To control such values, add placeholders (curly brackets {}) in the text, and run the values through the format() method:\n",
    "\"\"\"\n",
    "\n",
    "# Add a placeholder where you want to display the price:\n",
    "price = 49\n",
    "txt = \"The price is {} dollars\"\n",
    "print(txt.format(price))\n",
    "\n",
    "\n",
    "name, age = 'Minh Duc', 22 \n",
    "txt2 = \"My name is {} & i am {} year old\"\n",
    "print(txt2.format(name, age))"
   ]
  },
  {
   "cell_type": "code",
   "execution_count": 99,
   "id": "e93ea6ba",
   "metadata": {},
   "outputs": [
    {
     "name": "stdout",
     "output_type": "stream",
     "text": [
      "The price is 49.00 dollars\n"
     ]
    }
   ],
   "source": [
    "# You can add parameters inside the curly brackets to specify how to convert the value:\n",
    "# Format the price to be displayed as a number with two decimals:\n",
    "\n",
    "price = 49\n",
    "txt = \"The price is {:.2f} dollars\"\n",
    "print(txt.format(price))"
   ]
  },
  {
   "cell_type": "code",
   "execution_count": 102,
   "id": "947adbc5",
   "metadata": {},
   "outputs": [
    {
     "name": "stdout",
     "output_type": "stream",
     "text": [
      "I want 3 pieces of item number 567 for 49.00 dollars.\n"
     ]
    }
   ],
   "source": [
    "# Multiple Values\n",
    "# If you want to use more values, just add more values to the format() method:\n",
    "# => print(txt.format(price, itemno, count))\n",
    "\n",
    "# And add more placeholders:\n",
    "quantity = 3\n",
    "itemno = 567\n",
    "price = 49\n",
    "myorder = \"I want {} pieces of item number {} for {:.2f} dollars.\"\n",
    "print(myorder.format(quantity, itemno, price))"
   ]
  },
  {
   "cell_type": "code",
   "execution_count": 104,
   "id": "3e20fed8",
   "metadata": {},
   "outputs": [
    {
     "name": "stdout",
     "output_type": "stream",
     "text": [
      "I want 3 pieces of item number 567 for 49.00 dollars.\n"
     ]
    }
   ],
   "source": [
    "# Index Numbers\n",
    "# You can use index numbers (a number inside the curly brackets {0}) to be sure the values are placed in the correct placeholders:\n",
    "quantity = 3\n",
    "itemno = 567\n",
    "price = 49\n",
    "myorder = \"I want {0} pieces of item number {1} for {2:.2f} dollars.\"\n",
    "print(myorder.format(quantity, itemno, price))"
   ]
  },
  {
   "cell_type": "code",
   "execution_count": 109,
   "id": "af72a1e4",
   "metadata": {},
   "outputs": [
    {
     "name": "stdout",
     "output_type": "stream",
     "text": [
      "Her name is Nguyen Tu Anh. Nguyen Tu Anh is 22 years old.\n"
     ]
    }
   ],
   "source": [
    "# Also, if you want to refer to the same value more than once, use the index number:\n",
    "age = 22\n",
    "name = \"Nguyen Tu Anh\"\n",
    "txt = \"Her name is {1}. {1} is {0} years old.\"\n",
    "print(txt.format(age, name))"
   ]
  },
  {
   "cell_type": "code",
   "execution_count": 113,
   "id": "b1fbf139",
   "metadata": {},
   "outputs": [
    {
     "name": "stdout",
     "output_type": "stream",
     "text": [
      "I have a Ford, it is a Mustang.\n"
     ]
    }
   ],
   "source": [
    "# Named Indexes\n",
    "\"\"\"\n",
    "You can also use named indexes by entering a name inside the curly brackets {carname}, \n",
    "but then you must use names when you pass the parameter values txt.format(carname = \"Ford\"):\n",
    "\"\"\"\n",
    "myorder = \"I have a {carname}, it is a {model}.\"\n",
    "print(myorder.format(carname = \"Ford\", model = \"Mustang\"))"
   ]
  }
 ],
 "metadata": {
  "kernelspec": {
   "display_name": "Python 3 (ipykernel)",
   "language": "python",
   "name": "python3"
  },
  "language_info": {
   "codemirror_mode": {
    "name": "ipython",
    "version": 3
   },
   "file_extension": ".py",
   "mimetype": "text/x-python",
   "name": "python",
   "nbconvert_exporter": "python",
   "pygments_lexer": "ipython3",
   "version": "3.8.12"
  }
 },
 "nbformat": 4,
 "nbformat_minor": 5
}
