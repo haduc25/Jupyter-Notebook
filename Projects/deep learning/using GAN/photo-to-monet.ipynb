{
 "cells": [
  {
   "cell_type": "markdown",
   "metadata": {
    "papermill": {
     "duration": 0.012975,
     "end_time": "2023-03-19T01:57:31.956786",
     "exception": false,
     "start_time": "2023-03-19T01:57:31.943811",
     "status": "completed"
    },
    "tags": []
   },
   "source": [
    "# Photo to Monet — CycleGAN⚡PyTorch Lightning"
   ]
  },
  {
   "cell_type": "markdown",
   "metadata": {
    "papermill": {
     "duration": 0.010961,
     "end_time": "2023-03-19T01:57:31.979038",
     "exception": false,
     "start_time": "2023-03-19T01:57:31.968077",
     "status": "completed"
    },
    "tags": []
   },
   "source": [
    "This notebook aims to implement CycleGAN. The model architecture is adapted from the [tutorial](https://www.kaggle.com/code/amyjang/monet-cyclegan-tutorial/notebook) available. We also attempt to convert the code to PyTorch Lightning here. The list of references is as follows:\n",
    "* Original [paper](https://arxiv.org/abs/1703.10593) and [code](https://github.com/junyanz/pytorch-CycleGAN-and-pix2pix) for CycleGAN.\n",
    "* Original [paper](https://arxiv.org/abs/1611.04076) for LSGAN, which has shown to outperform BCE loss and is used in the original CycleGAN implementation. BCE loss may be susceptible to vanishing gradient problems and cause ineffective learning. For better training stability, we use LSGAN, which adopts the mean squared error for the adversarial criterion.\n",
    "* [Documentation](https://pytorch-lightning.readthedocs.io/en/stable/notebooks/lightning_examples/basic-gan.html) for basic GAN in PyTorch Lightning. Kaggle seems to still be using [Python 3.7](https://www.kaggle.com/discussions/product-feedback/388376) at the time of writing, which does not support Lightning 2.0. Manual optimization is required for training with multiple optimizers in Lightning 2.0, but for simplicity we stick to automatic optimization here in version 1.9. To upgrade the code for compatibility with Lightning 2.0, a useful documentation can be found [here](https://lightning.ai/docs/pytorch/stable/upgrade/from_1_9.html).\n",
    "\n",
    "More work can be done to include evaluation metrics like the inception score (IS) or Fréchet inception distance (FID)."
   ]
  },
  {
   "cell_type": "code",
   "execution_count": null,
   "metadata": {},
   "outputs": [
    {
     "name": "stdout",
     "output_type": "stream",
     "text": [
      "installing...\n"
     ]
    }
   ],
   "source": [
    "# install library\n",
    "print('installing...')\n",
    "\n",
    "# !pip install pytorch_lightning\n",
    "\n",
    "# !pip install torchvision\n",
    "\n",
    "# !pip install --upgrade pytorch_lightning\n",
    "# !pip install pytorch_lightning==1.4.9\n",
    "\n",
    "# !pip install --upgrade torchtext\n",
    "\n",
    "# !pip install pytorch_lightning\n",
    "\n",
    "\n",
    "# !pip uninstall torchmetrics\n",
    "# !pip uninstall pytorch_lightning\n",
    "# !pip install torchmetrics\n",
    "# !pip install pytorch_lightning\n",
    "\n",
    "\n",
    "\n",
    "print('installed')"
   ]
  },
  {
   "cell_type": "code",
   "execution_count": 5,
   "metadata": {},
   "outputs": [
    {
     "name": "stdout",
     "output_type": "stream",
     "text": [
      "Name: pytorch-lightning\n",
      "Version: 2.0.1.post0\n",
      "Summary: PyTorch Lightning is the lightweight PyTorch wrapper for ML researchers. Scale your models. Write less boilerplate.\n",
      "Home-page: https://github.com/Lightning-AI/lightning\n",
      "Author: Lightning AI et al.\n",
      "Author-email: pytorch@lightning.ai\n",
      "License: Apache-2.0\n",
      "Location: f:\\software\\installed\\anaconda\\src\\envs\\deep_learning\\lib\\site-packages\n",
      "Requires: fsspec, lightning-utilities, numpy, packaging, PyYAML, torch, torchmetrics, tqdm, typing-extensions\n",
      "Required-by: \n"
     ]
    }
   ],
   "source": [
    "# !pip show torchmetrics\n",
    "# !pip show pytorch_lightning\n",
    "\n",
    "!pip show pytorch_lightning"
   ]
  },
  {
   "cell_type": "code",
   "execution_count": 6,
   "metadata": {
    "_cell_guid": "b1076dfc-b9ad-4769-8c92-a6c4dae69d19",
    "_uuid": "8f2839f25d086af736a60e9eeb907d3b93b6e0e5",
    "papermill": {
     "duration": 12.994572,
     "end_time": "2023-03-19T01:57:44.984673",
     "exception": false,
     "start_time": "2023-03-19T01:57:31.990101",
     "status": "completed"
    },
    "tags": []
   },
   "outputs": [
    {
     "ename": "ImportError",
     "evalue": "cannot import name 'DataListLoader' from 'pytorch_lightning' (F:\\Software\\installed\\anaconda\\src\\envs\\deep_learning\\lib\\site-packages\\pytorch_lightning\\__init__.py)",
     "output_type": "error",
     "traceback": [
      "\u001b[1;31m---------------------------------------------------------------------------\u001b[0m",
      "\u001b[1;31mImportError\u001b[0m                               Traceback (most recent call last)",
      "\u001b[1;32m~\\AppData\\Local\\Temp\\ipykernel_6436\\798154563.py\u001b[0m in \u001b[0;36m<module>\u001b[1;34m\u001b[0m\n\u001b[0;32m     11\u001b[0m \u001b[1;31m# from pytorch_lightning.trainer.supporters import CombinedLoader\u001b[0m\u001b[1;33m\u001b[0m\u001b[1;33m\u001b[0m\u001b[1;33m\u001b[0m\u001b[0m\n\u001b[0;32m     12\u001b[0m \u001b[1;31m# from pytorch_lightning.utilities.data import DataListLoader\u001b[0m\u001b[1;33m\u001b[0m\u001b[1;33m\u001b[0m\u001b[1;33m\u001b[0m\u001b[0m\n\u001b[1;32m---> 13\u001b[1;33m \u001b[1;32mfrom\u001b[0m \u001b[0mpytorch_lightning\u001b[0m \u001b[1;32mimport\u001b[0m \u001b[0mDataListLoader\u001b[0m\u001b[1;33m\u001b[0m\u001b[1;33m\u001b[0m\u001b[0m\n\u001b[0m\u001b[0;32m     14\u001b[0m \u001b[1;33m\u001b[0m\u001b[0m\n\u001b[0;32m     15\u001b[0m \u001b[1;32mfrom\u001b[0m \u001b[0mtorch\u001b[0m \u001b[1;32mimport\u001b[0m \u001b[0mnn\u001b[0m\u001b[1;33m\u001b[0m\u001b[1;33m\u001b[0m\u001b[0m\n",
      "\u001b[1;31mImportError\u001b[0m: cannot import name 'DataListLoader' from 'pytorch_lightning' (F:\\Software\\installed\\anaconda\\src\\envs\\deep_learning\\lib\\site-packages\\pytorch_lightning\\__init__.py)"
     ]
    }
   ],
   "source": [
    "import glob\n",
    "import os\n",
    "import shutil\n",
    "\n",
    "import matplotlib.pyplot as plt\n",
    "import numpy as np\n",
    "import pytorch_lightning as L\n",
    "import torch\n",
    "import torch.nn.functional as F\n",
    "import torchvision.transforms as T\n",
    "# from pytorch_lightning.trainer.supporters import CombinedLoader\n",
    "# from pytorch_lightning.utilities.data import DataListLoader\n",
    "from pytorch_lightning import DataListLoader\n",
    "\n",
    "from torch import nn\n",
    "from torch.utils.data import DataLoader, Dataset\n",
    "from torchvision.io import read_image\n",
    "from torchvision.utils import make_grid, save_image\n",
    "\n",
    "L.seed_everything(0, workers=True)\n",
    "print(L.__name__, L.__version__)"
   ]
  },
  {
   "cell_type": "markdown",
   "metadata": {
    "papermill": {
     "duration": 0.01099,
     "end_time": "2023-03-19T01:57:45.007205",
     "exception": false,
     "start_time": "2023-03-19T01:57:44.996215",
     "status": "completed"
    },
    "tags": []
   },
   "source": [
    "---"
   ]
  },
  {
   "cell_type": "markdown",
   "metadata": {
    "papermill": {
     "duration": 0.011194,
     "end_time": "2023-03-19T01:57:45.030579",
     "exception": false,
     "start_time": "2023-03-19T01:57:45.019385",
     "status": "completed"
    },
    "tags": []
   },
   "source": [
    "# 1. Data Preprocessing"
   ]
  },
  {
   "cell_type": "code",
   "execution_count": null,
   "metadata": {
    "_kg_hide-input": false,
    "papermill": {
     "duration": 0.020996,
     "end_time": "2023-03-19T01:57:45.062727",
     "exception": false,
     "start_time": "2023-03-19T01:57:45.041731",
     "status": "completed"
    },
    "tags": []
   },
   "outputs": [],
   "source": [
    "def show_img(img_tensor, nrow, title=\"\"):\n",
    "    img_tensor = img_tensor.detach().cpu()*0.5 + 0.5\n",
    "    img_grid = make_grid(img_tensor, nrow=nrow).permute(1, 2, 0)\n",
    "    plt.figure(figsize=(18, 8))\n",
    "    plt.imshow(img_grid)\n",
    "    plt.axis(\"off\")\n",
    "    plt.title(title)\n",
    "    plt.show()"
   ]
  },
  {
   "cell_type": "markdown",
   "metadata": {
    "papermill": {
     "duration": 0.010988,
     "end_time": "2023-03-19T01:57:45.084838",
     "exception": false,
     "start_time": "2023-03-19T01:57:45.07385",
     "status": "completed"
    },
    "tags": []
   },
   "source": [
    "### Augmenting the images."
   ]
  },
  {
   "cell_type": "markdown",
   "metadata": {
    "papermill": {
     "duration": 0.010992,
     "end_time": "2023-03-19T01:57:45.1071",
     "exception": false,
     "start_time": "2023-03-19T01:57:45.096108",
     "status": "completed"
    },
    "tags": []
   },
   "source": [
    "Before loading the datasets, we define `CustomTransform` for image augmentation. This improves learning by introducing more variety in the images during training instead of learning from the same set of images, especially when we only have 300 Monet paintings. We look at some basic image transformations:\n",
    "* Scaling the images larger using `Resize` and then randomly cropping to the original size of 256 with `RandomCrop` to obtain slightly different images.\n",
    "* Randomly flipping the images horizontally using `RandomHorizontalFlip`. The photos and Monet paintings do not greatly depend on the horizontal orientation.\n",
    "* Randomly changing the colors of the images using `ColorJitter`. This could mimic different lighting conditions for the photos and introduce variability in the colors of the Monet paintings.\n",
    "\n",
    "Other possible transformations can be found [here](https://pytorch.org/vision/stable/transforms.html). These transformations are only needed during model training/fitting, and we specify this using the `stage` argument. Finally, the images are scaled down for better convergence."
   ]
  },
  {
   "cell_type": "code",
   "execution_count": null,
   "metadata": {
    "papermill": {
     "duration": 0.021699,
     "end_time": "2023-03-19T01:57:45.140105",
     "exception": false,
     "start_time": "2023-03-19T01:57:45.118406",
     "status": "completed"
    },
    "tags": []
   },
   "outputs": [],
   "source": [
    "class CustomTransform(object):\n",
    "    def __init__(self, load_dim=286, target_dim=256):\n",
    "        self.transform_train = T.Compose([\n",
    "            T.Resize((load_dim, load_dim)),\n",
    "            T.RandomCrop((target_dim, target_dim)),\n",
    "            T.RandomHorizontalFlip(p=0.5),\n",
    "            T.ColorJitter(brightness=0.2, contrast=0.2,\n",
    "                          saturation=0.2, hue=0.1),\n",
    "        ])\n",
    "        \n",
    "        # ensure images outside of training dataset are also of the same size\n",
    "        self.transform = T.Resize((target_dim, target_dim))\n",
    "        \n",
    "    def __call__(self, img, stage=\"fit\"):\n",
    "        if stage == \"fit\":\n",
    "            img = self.transform_train(img)\n",
    "        else:\n",
    "            img = self.transform(img)\n",
    "        return img*2 - 1"
   ]
  },
  {
   "cell_type": "markdown",
   "metadata": {
    "papermill": {
     "duration": 0.011074,
     "end_time": "2023-03-19T01:57:45.162356",
     "exception": false,
     "start_time": "2023-03-19T01:57:45.151282",
     "status": "completed"
    },
    "tags": []
   },
   "source": [
    "### Storing the datasets."
   ]
  },
  {
   "cell_type": "markdown",
   "metadata": {
    "papermill": {
     "duration": 0.011056,
     "end_time": "2023-03-19T01:57:45.18459",
     "exception": false,
     "start_time": "2023-03-19T01:57:45.173534",
     "status": "completed"
    },
    "tags": []
   },
   "source": [
    "To load and store the datasets, we define a custom `Dataset` involving three main methods: \n",
    "* `__init__` to initialize the dataset.\n",
    "* `__len__` to retrieve the size of the dataset.\n",
    "* `__getitem__` to get the i-th sample of images after performing the transformations described above.\n",
    "\n",
    "Similarly, we define the `stage` argument to differentiate between the training dataset and prediction dataset when performing the transformations. Different instances of `CustomDataset` will be used to retrieve the photos and Monet paintings separately. We look at combining them while iterating through the datasets later."
   ]
  },
  {
   "cell_type": "code",
   "execution_count": null,
   "metadata": {
    "papermill": {
     "duration": 0.025818,
     "end_time": "2023-03-19T01:57:45.221633",
     "exception": false,
     "start_time": "2023-03-19T01:57:45.195815",
     "status": "completed"
    },
    "tags": []
   },
   "outputs": [],
   "source": [
    "class CustomDataset(Dataset):\n",
    "    def __init__(self, filenames, transform, stage):\n",
    "        self.filenames = filenames\n",
    "        self.transform = transform\n",
    "        self.stage = stage\n",
    "        \n",
    "    def __len__(self):\n",
    "        return len(self.filenames)\n",
    "    \n",
    "    def __getitem__(self, idx):\n",
    "        img_name = self.filenames[idx]\n",
    "        img = read_image(img_name) / 255.0\n",
    "        return self.transform(img, stage=self.stage)"
   ]
  },
  {
   "cell_type": "markdown",
   "metadata": {
    "papermill": {
     "duration": 0.011352,
     "end_time": "2023-03-19T01:57:45.244912",
     "exception": false,
     "start_time": "2023-03-19T01:57:45.23356",
     "status": "completed"
    },
    "tags": []
   },
   "source": [
    "### Iterating through the datasets."
   ]
  },
  {
   "cell_type": "markdown",
   "metadata": {
    "papermill": {
     "duration": 0.011068,
     "end_time": "2023-03-19T01:57:45.267418",
     "exception": false,
     "start_time": "2023-03-19T01:57:45.25635",
     "status": "completed"
    },
    "tags": []
   },
   "source": [
    "To prepare the datasets, we load them into `DataLoader` separately, which can then iterate through the datasets as needed. Because the training dataset contains both the Monet paintings and photos, we pass both dataloaders into `CombinedLoader` for training. We specify the sampling mode using `mode=\"max_size_cycle\"` to stop after one complete pass of the larger dataset of photos while cycling through the smaller dataset of Monet paintings. Other modes can be found [here](https://lightning.ai/docs/pytorch/stable/api/lightning.pytorch.utilities.combined_loader.html). In contrast, we fix the prediction dataset to only contain photos for simplicity since we are trying to generate Monet-style images in this notebook.\n",
    "\n",
    "To organize all the steps described above for processing data, we define a custom `LightningDataModule`. A datamodule involves many methods, but we are mainly concerned with:\n",
    "* `setup` to create the datasets and apply the corresponding transformations defined above.\n",
    "* `train_dataloader` to generate the dataloader for the training dataset.\n",
    "* `predict_dataloader` to generate the dataloader for the prediction dataset.\n",
    "\n",
    "Other possible methods can be found [here](https://pytorch-lightning.readthedocs.io/en/stable/data/datamodule.html). We define the following parameters:\n",
    "* `DEBUG` — to enable debugging mode in CPU.\n",
    "* `MONET_DIR` and `PHOTO_DIR` — the directories where the Monet paintings and photos are loaded from.\n",
    "* `BATCH_SIZE` — the number of samples in each training/prediction batch.\n",
    "* `num_workers` — the number of subprocesses (excluding the main process) used for data loading.\n",
    "* `pin_memory` — to enable faster data transfer to GPU during training."
   ]
  },
  {
   "cell_type": "code",
   "execution_count": null,
   "metadata": {
    "papermill": {
     "duration": 0.019339,
     "end_time": "2023-03-19T01:57:45.297921",
     "exception": false,
     "start_time": "2023-03-19T01:57:45.278582",
     "status": "completed"
    },
    "tags": []
   },
   "outputs": [],
   "source": [
    "MONET_DIR = \"/kaggle/input/gan-getting-started/monet_jpg/*.jpg\"\n",
    "PHOTO_DIR = \"/kaggle/input/gan-getting-started/photo_jpg/*.jpg\"\n",
    "DEBUG = not torch.cuda.is_available()\n",
    "BATCH_SIZE = [1, 4] # [batch size for Monet paintings, batch size for photos]\n",
    "LOADER_CONFIG = {\n",
    "    \"num_workers\": os.cpu_count(),\n",
    "    \"pin_memory\": torch.cuda.is_available(),\n",
    "}"
   ]
  },
  {
   "cell_type": "code",
   "execution_count": null,
   "metadata": {
    "papermill": {
     "duration": 0.022601,
     "end_time": "2023-03-19T01:57:45.331838",
     "exception": false,
     "start_time": "2023-03-19T01:57:45.309237",
     "status": "completed"
    },
    "tags": []
   },
   "outputs": [],
   "source": [
    "class CustomDataModule(L.LightningDataModule):\n",
    "    def __init__(\n",
    "        self,\n",
    "        debug=DEBUG,\n",
    "        monet_dir=MONET_DIR,\n",
    "        photo_dir=PHOTO_DIR,\n",
    "        batch_size=BATCH_SIZE,\n",
    "        loader_config=LOADER_CONFIG,\n",
    "        transform=CustomTransform(),\n",
    "        mode=\"max_size_cycle\",\n",
    "    ):\n",
    "        super().__init__()\n",
    "        if isinstance(batch_size, list):\n",
    "            self.batch_size = batch_size  \n",
    "        else:\n",
    "            self.batch_size = [batch_size] * 2\n",
    "        if debug:\n",
    "            idx = max(self.batch_size) * 2\n",
    "        else:\n",
    "            idx = None\n",
    "        self.monet_filenames = sorted(glob.glob(monet_dir))[:idx]\n",
    "        self.photo_filenames = sorted(glob.glob(photo_dir))[:idx]\n",
    "        self.loader_config = loader_config\n",
    "        self.transform = transform\n",
    "        self.mode = mode\n",
    "        \n",
    "    def setup(self, stage):\n",
    "        if stage == \"fit\":\n",
    "            self.train_monet = CustomDataset(self.monet_filenames, self.transform, stage)\n",
    "            self.train_photo = CustomDataset(self.photo_filenames, self.transform, stage)\n",
    "        \n",
    "        elif stage == \"predict\":\n",
    "            self.predict = CustomDataset(self.photo_filenames, self.transform, stage)\n",
    "            \n",
    "    def train_dataloader(self):\n",
    "        loader_monet = DataLoader(\n",
    "            self.train_monet,\n",
    "            shuffle=True,\n",
    "            drop_last=True,\n",
    "            batch_size=self.batch_size[0],\n",
    "            **self.loader_config,\n",
    "        )\n",
    "        loader_photo = DataLoader(\n",
    "            self.train_photo,\n",
    "            shuffle=True, \n",
    "            drop_last=True,\n",
    "            batch_size=self.batch_size[1],\n",
    "            **self.loader_config,\n",
    "        )\n",
    "        loaders = {\"monet\": loader_monet, \"photo\": loader_photo}\n",
    "        return CombinedLoader(loaders, mode=self.mode)\n",
    "    \n",
    "    def predict_dataloader(self):\n",
    "        return DataLoader(\n",
    "            self.predict,\n",
    "            shuffle=False,\n",
    "            drop_last=False,\n",
    "            batch_size=self.batch_size[1],\n",
    "            **self.loader_config,\n",
    "        )"
   ]
  },
  {
   "cell_type": "markdown",
   "metadata": {
    "papermill": {
     "duration": 0.011244,
     "end_time": "2023-03-19T01:57:45.354335",
     "exception": false,
     "start_time": "2023-03-19T01:57:45.343091",
     "status": "completed"
    },
    "tags": []
   },
   "source": [
    "We check that the datamodule defined is working as intended by visualizing samples of the images below."
   ]
  },
  {
   "cell_type": "code",
   "execution_count": null,
   "metadata": {
    "papermill": {
     "duration": 1.301484,
     "end_time": "2023-03-19T01:57:46.667097",
     "exception": false,
     "start_time": "2023-03-19T01:57:45.365613",
     "status": "completed"
    },
    "tags": []
   },
   "outputs": [],
   "source": [
    "SAMPLE_SIZE = 5\n",
    "dm_sample = CustomDataModule(batch_size=SAMPLE_SIZE)\n",
    "\n",
    "dm_sample.setup(\"fit\")\n",
    "train_loader = dm_sample.train_dataloader()\n",
    "monet_samples, photo_samples = next(iter(train_loader)).values()\n",
    "\n",
    "dm_sample.setup(\"predict\")\n",
    "predict_loader = dm_sample.predict_dataloader()\n",
    "photo__samples = next(iter(predict_loader)) # used to track performance of model during training later\n",
    "\n",
    "show_img(monet_samples, nrow=SAMPLE_SIZE, title=\"Augmented Monet Paintings\")\n",
    "show_img(photo_samples, nrow=SAMPLE_SIZE, title=\"Augmented Photos\")"
   ]
  },
  {
   "cell_type": "markdown",
   "metadata": {
    "papermill": {
     "duration": 0.035229,
     "end_time": "2023-03-19T01:57:46.737485",
     "exception": false,
     "start_time": "2023-03-19T01:57:46.702256",
     "status": "completed"
    },
    "tags": []
   },
   "source": [
    "---"
   ]
  },
  {
   "cell_type": "markdown",
   "metadata": {
    "papermill": {
     "duration": 0.032736,
     "end_time": "2023-03-19T01:57:46.80351",
     "exception": false,
     "start_time": "2023-03-19T01:57:46.770774",
     "status": "completed"
    },
    "tags": []
   },
   "source": [
    "# 2. Building CycleGAN Architecture"
   ]
  },
  {
   "cell_type": "markdown",
   "metadata": {},
   "source": [
    "### Generator."
   ]
  },
  {
   "cell_type": "markdown",
   "metadata": {
    "papermill": {
     "duration": 0.038219,
     "end_time": "2023-03-19T01:57:46.874277",
     "exception": false,
     "start_time": "2023-03-19T01:57:46.836058",
     "status": "completed"
    },
    "tags": []
   },
   "source": [
    "<img src=\"https://lh5.googleusercontent.com/9kNO6hxYJmpcfG5bOjnDazieeLC7Q8jZJi3gTtnJelbkOUL7Xz9e-3F_SNuxPpo4fZ4=w2400\" width=\"600\"/>\n",
    "\n",
    "_Example of the U-Net architecture [[source](https://paperswithcode.com/method/u-net)]._"
   ]
  },
  {
   "cell_type": "markdown",
   "metadata": {
    "papermill": {
     "duration": 0.032886,
     "end_time": "2023-03-19T01:57:46.94176",
     "exception": false,
     "start_time": "2023-03-19T01:57:46.908874",
     "status": "completed"
    },
    "tags": []
   },
   "source": [
    "We use a U-Net architecture for the CycleGAN generator. U-Net is a network which consists of downsampling blocks and upsampling blocks with long skip connections, giving it the U-shaped architecture."
   ]
  },
  {
   "cell_type": "markdown",
   "metadata": {
    "papermill": {
     "duration": 0.032774,
     "end_time": "2023-03-19T01:57:47.00759",
     "exception": false,
     "start_time": "2023-03-19T01:57:46.974816",
     "status": "completed"
    },
    "tags": []
   },
   "source": [
    "### Downsampling blocks."
   ]
  },
  {
   "cell_type": "markdown",
   "metadata": {
    "papermill": {
     "duration": 0.032597,
     "end_time": "2023-03-19T01:57:47.073128",
     "exception": false,
     "start_time": "2023-03-19T01:57:47.040531",
     "status": "completed"
    },
    "tags": []
   },
   "source": [
    "The downsampling blocks use convolution layers to increase the number of feature maps while reducing the dimensions of the 2D image."
   ]
  },
  {
   "cell_type": "code",
   "execution_count": null,
   "metadata": {
    "papermill": {
     "duration": 0.044778,
     "end_time": "2023-03-19T01:57:47.150705",
     "exception": false,
     "start_time": "2023-03-19T01:57:47.105927",
     "status": "completed"
    },
    "tags": []
   },
   "outputs": [],
   "source": [
    "class Downsampling(nn.Module):\n",
    "    def __init__(\n",
    "        self,\n",
    "        in_channels,\n",
    "        out_channels,\n",
    "        kernel_size=4,\n",
    "        stride=2,\n",
    "        padding=1,\n",
    "        norm=True,\n",
    "    ):\n",
    "        super().__init__()\n",
    "        self.block = nn.Sequential(\n",
    "            nn.Conv2d(in_channels, out_channels, kernel_size=kernel_size,\n",
    "                      stride=stride, padding=padding, bias=not norm),\n",
    "        )\n",
    "        if norm:\n",
    "            self.block.append(nn.InstanceNorm2d(out_channels, affine=True))\n",
    "        self.block.append(nn.LeakyReLU(0.3))\n",
    "        \n",
    "    def forward(self, x):\n",
    "        return self.block(x)"
   ]
  },
  {
   "cell_type": "markdown",
   "metadata": {
    "papermill": {
     "duration": 0.032956,
     "end_time": "2023-03-19T01:57:47.216301",
     "exception": false,
     "start_time": "2023-03-19T01:57:47.183345",
     "status": "completed"
    },
    "tags": []
   },
   "source": [
    "### Upsampling blocks."
   ]
  },
  {
   "cell_type": "markdown",
   "metadata": {
    "papermill": {
     "duration": 0.032817,
     "end_time": "2023-03-19T01:57:47.282273",
     "exception": false,
     "start_time": "2023-03-19T01:57:47.249456",
     "status": "completed"
    },
    "tags": []
   },
   "source": [
    "On the other hand, the upsampling blocks contain transposed convolution layers, which combine the learned features to output an image with the original size 256."
   ]
  },
  {
   "cell_type": "code",
   "execution_count": null,
   "metadata": {
    "papermill": {
     "duration": 0.044362,
     "end_time": "2023-03-19T01:57:47.359186",
     "exception": false,
     "start_time": "2023-03-19T01:57:47.314824",
     "status": "completed"
    },
    "tags": []
   },
   "outputs": [],
   "source": [
    "class Upsampling(nn.Module):\n",
    "    def __init__(\n",
    "        self,\n",
    "        in_channels,\n",
    "        out_channels,\n",
    "        kernel_size=4,\n",
    "        stride=2,\n",
    "        padding=1,\n",
    "        output_padding=0,\n",
    "        dropout=False,\n",
    "    ):\n",
    "        super().__init__()\n",
    "        self.block = nn.Sequential(\n",
    "            nn.ConvTranspose2d(in_channels, out_channels, kernel_size=kernel_size, stride=stride, \n",
    "                               padding=padding, output_padding=output_padding, bias=False),\n",
    "            nn.InstanceNorm2d(out_channels, affine=True),\n",
    "        )\n",
    "        if dropout:\n",
    "            self.block.append(nn.Dropout(0.5))\n",
    "        self.block.append(nn.ReLU())\n",
    "        \n",
    "    def forward(self, x):\n",
    "        return self.block(x)"
   ]
  },
  {
   "cell_type": "markdown",
   "metadata": {},
   "source": [
    "### Building the generator."
   ]
  },
  {
   "cell_type": "markdown",
   "metadata": {},
   "source": [
    "With the building blocks defined, we can now build our CycleGAN generator. In the upsampling path, we concatenate the outputs of the upsampling blocks and the outputs of the downsampling blocks symmetrically. This can be seen as a kind of skip connection, facilitating information flow in deep networks and reducing the impact of vanishing gradients. For reference, the output size of each block is commented below."
   ]
  },
  {
   "cell_type": "code",
   "execution_count": null,
   "metadata": {
    "papermill": {
     "duration": 0.047175,
     "end_time": "2023-03-19T01:57:48.061105",
     "exception": false,
     "start_time": "2023-03-19T01:57:48.01393",
     "status": "completed"
    },
    "tags": []
   },
   "outputs": [],
   "source": [
    "class Generator(nn.Module):\n",
    "    def __init__(self, in_channels, out_channels, hid_channels):\n",
    "        super().__init__()\n",
    "        self.downsampling_path = nn.Sequential(\n",
    "            Downsampling(in_channels, hid_channels, norm=False), # 64x128x128\n",
    "            Downsampling(hid_channels, hid_channels*2), # 128x64x64\n",
    "            Downsampling(hid_channels*2, hid_channels*4), # 256x32x32\n",
    "            Downsampling(hid_channels*4, hid_channels*8), # 512x16x16\n",
    "            Downsampling(hid_channels*8, hid_channels*8), # 512x8x8\n",
    "            Downsampling(hid_channels*8, hid_channels*8), # 512x4x4\n",
    "            Downsampling(hid_channels*8, hid_channels*8), # 512x2x2\n",
    "            Downsampling(hid_channels*8, hid_channels*8, norm=False), # 512x1x1, instance norm does not work on 1x1\n",
    "        )\n",
    "        self.upsampling_path = nn.Sequential(\n",
    "            Upsampling(hid_channels*8, hid_channels*8, dropout=True), # (512+512)x2x2\n",
    "            Upsampling(hid_channels*16, hid_channels*8, dropout=True), # (512+512)x4x4\n",
    "            Upsampling(hid_channels*16, hid_channels*8, dropout=True), # (512+512)x8x8\n",
    "            Upsampling(hid_channels*16, hid_channels*8), # (512+512)x16x16\n",
    "            Upsampling(hid_channels*16, hid_channels*4), # (256+256)x32x32\n",
    "            Upsampling(hid_channels*8, hid_channels*2), # (128+128)x64x64\n",
    "            Upsampling(hid_channels*4, hid_channels), # (64+64)x128x128\n",
    "        )\n",
    "        self.feature_block = nn.Sequential(\n",
    "            nn.ConvTranspose2d(hid_channels*2, out_channels,\n",
    "                               kernel_size=4, stride=2, padding=1), # 3x256x256\n",
    "            nn.Tanh(),\n",
    "        )\n",
    "        \n",
    "    def forward(self, x):\n",
    "        skips = []\n",
    "        for down in self.downsampling_path:\n",
    "            x = down(x)\n",
    "            skips.append(x)\n",
    "        skips = reversed(skips[:-1])\n",
    "\n",
    "        for up, skip in zip(self.upsampling_path, skips):\n",
    "            x = up(x)\n",
    "            x = torch.cat([x, skip], dim=1)\n",
    "        return self.feature_block(x)"
   ]
  },
  {
   "cell_type": "markdown",
   "metadata": {
    "papermill": {
     "duration": 0.033167,
     "end_time": "2023-03-19T01:57:48.132136",
     "exception": false,
     "start_time": "2023-03-19T01:57:48.098969",
     "status": "completed"
    },
    "tags": []
   },
   "source": [
    "### Discriminator."
   ]
  },
  {
   "cell_type": "markdown",
   "metadata": {
    "papermill": {
     "duration": 0.033278,
     "end_time": "2023-03-19T01:57:48.198341",
     "exception": false,
     "start_time": "2023-03-19T01:57:48.165063",
     "status": "completed"
    },
    "tags": []
   },
   "source": [
    "<img src=\"https://lh6.googleusercontent.com/UhJiaTOQWgfHQlWq50IMGBvdkJ3NDggC449cxud8XVlSxUrule8f5LyoLUV8aaYemGw=w2400\" width=\"300\"/>\n",
    "\n",
    "_Diagram of how the PatchGAN discriminator works [[source](https://www.researchgate.net/figure/PatchGAN-discriminator-Each-value-of-the-output-matrix-represents-the-probability-of_fig1_323904616)]._"
   ]
  },
  {
   "cell_type": "markdown",
   "metadata": {
    "papermill": {
     "duration": 0.034539,
     "end_time": "2023-03-19T01:57:48.266305",
     "exception": false,
     "start_time": "2023-03-19T01:57:48.231766",
     "status": "completed"
    },
    "tags": []
   },
   "source": [
    "Unlike conventional networks that output a single probability of the input image being real or fake, CycleGAN uses the PatchGAN discriminator that outputs a matrix of values. Intuitively, each value of the output matrix checks the corresponding portion of the input image. Values closer to 1 indicate real classification and values closer to 0 indicate fake classification."
   ]
  },
  {
   "cell_type": "markdown",
   "metadata": {},
   "source": [
    "### Building the discriminator."
   ]
  },
  {
   "cell_type": "markdown",
   "metadata": {},
   "source": [
    "In general, the PatchGAN discriminator consists of a sequence of convolution layers, which can be built using the downsampling blocks defined earlier. For reference, the output size of each block is commented below."
   ]
  },
  {
   "cell_type": "code",
   "execution_count": null,
   "metadata": {
    "papermill": {
     "duration": 0.043903,
     "end_time": "2023-03-19T01:57:48.343071",
     "exception": false,
     "start_time": "2023-03-19T01:57:48.299168",
     "status": "completed"
    },
    "tags": []
   },
   "outputs": [],
   "source": [
    "class Discriminator(nn.Module):\n",
    "    def __init__(self, in_channels, hid_channels):\n",
    "        super().__init__()\n",
    "        self.block = nn.Sequential(\n",
    "            Downsampling(in_channels, hid_channels, norm=False), # 64x128x128\n",
    "            Downsampling(hid_channels, hid_channels*2), # 128x64x64\n",
    "            Downsampling(hid_channels*2, hid_channels*4), # 256x32x32\n",
    "            Downsampling(hid_channels*4, hid_channels*8, stride=1), # 512x31x31\n",
    "            nn.Conv2d(hid_channels*8, 1, kernel_size=4, padding=1), # 1x30x30\n",
    "        )\n",
    "        \n",
    "    def forward(self, x):\n",
    "        return self.block(x)"
   ]
  },
  {
   "cell_type": "markdown",
   "metadata": {
    "papermill": {
     "duration": 0.044686,
     "end_time": "2023-03-19T01:57:48.419994",
     "exception": false,
     "start_time": "2023-03-19T01:57:48.375308",
     "status": "completed"
    },
    "tags": []
   },
   "source": [
    "### CycleGAN."
   ]
  },
  {
   "cell_type": "markdown",
   "metadata": {
    "papermill": {
     "duration": 0.033641,
     "end_time": "2023-03-19T01:57:48.487251",
     "exception": false,
     "start_time": "2023-03-19T01:57:48.45361",
     "status": "completed"
    },
    "tags": []
   },
   "source": [
    "With the generator and discriminator defined, we can now build CycleGAN, which consists of two generators and two discriminators:\n",
    "* Generator for photo-to-Monet translation (`gen_PM`).\n",
    "* Generator for Monet-to-photo translation (`gen_MP`).\n",
    "* Discriminator for Monet paintings (`disc_M`).\n",
    "* Discriminator for photos (`disc_P`).\n",
    "\n",
    "Using `init_weights` function, the weights of the layers in the generators and discriminators are initialized using the normal distribution and the biases are initialized to 0s. The Adam optimizer is used for model training. To optimize the parameters, we need to define the loss functions:\n",
    "* **Discriminator loss** (`disc_loss`). For real images fed into the discriminator, the output matrix is compared against a matrix of 1s using the mean squared error. For fake images, the output matrix is compared against a matrix of 0s. This suggests that to minimize loss, the perfect discriminator outputs a matrix of 1s for real images and a matrix of 0s for fake images.\n",
    "* **Generator loss** (`gen_loss`). This is composed of three different loss functions below.\n",
    "  * *Adversarial loss* (`adv_loss`). Fake images are fed into the discriminator and the output matrix is compared against a matrix of 1s using the mean squared error. To minimize loss, the generator needs to 'fool' the discriminator into thinking that the fake images are real and output a matrix of 1s.\n",
    "  * *Identity loss* (`id_loss`). When a Monet painting is fed into the photo-to-Monet generator, we should get back the same Monet painting because nothing needs to be transformed. The same applies for photos fed into the Monet-to-photo generator. To encourage identity mapping, the difference in pixel values between the input image and generated image is measured using the l1 loss.\n",
    "  * *Cycle loss* (`cycle_loss`). When a Monet painting is fed into the Monet-to-photo generator, and the generated image is fed back into the photo-to-Monet generator, it should transform back into the original Monet painting. The same applies for photos passed to the two generators to get back the original photos. To preserve information throughout this cycle, the l1 loss is used to measure the difference between the original image and the cycled image.\n",
    "\n",
    "From the above, the mean squared error and the l1 loss are defined as the adversarial criterion (`adv_criterion`) and the reconstruction criterion (`recon_criterion`) respectively."
   ]
  },
  {
   "cell_type": "markdown",
   "metadata": {},
   "source": [
    "### Building the CycleGAN model."
   ]
  },
  {
   "cell_type": "markdown",
   "metadata": {
    "papermill": {
     "duration": 0.033641,
     "end_time": "2023-03-19T01:57:48.487251",
     "exception": false,
     "start_time": "2023-03-19T01:57:48.45361",
     "status": "completed"
    },
    "tags": []
   },
   "source": [
    "To organize the code for modeling, we define the above functions within the `LightningModule` class together with the following methods:\n",
    "* `__init__` to initialize the two generators, the two discriminators, and other parameters.\n",
    "* `forward` to generate Monet-style images given input photos.\n",
    "* `configure_optimizers` to initialize the Adam optimizers and learning rate schedules. We use a constant learning rate and then linearly decay towards the end of training.\n",
    "* `training_step` to compute the loss functions for the generators and discriminators.\n",
    "* `training_epoch_end` to print the average values of the loss functions over the batches per epoch, and visualize the performance of `gen_PM`. We also record the values of the learning rates and losses for plotting later.\n",
    "* `predict_step` to run the `forward` method during prediction.\n",
    "\n",
    "Other useful methods can be found [here](https://pytorch-lightning.readthedocs.io/en/stable/common/lightning_module.html). Besides the above, we define additional methods like `get_lr_scheduler` to set up the learning rate schedules, `loss_plot` to plot the loss curves, and `lr_plot` to plot the learning rate schedules. The following parameters are set:\n",
    "* `IN_CHANNELS` — the number of input channels for the generator and discriminator, which equals 3 since we are working with RGB images.\n",
    "* `OUT_CHANNELS` — the number of output channels for the generator, which equals 3 as we are trying to output RGB images.\n",
    "* `HID_CHANNELS` — the number of output channels in the first layer for the generator and discriminator.\n",
    "* `LR` and `BETAS` — the learning rate and beta parameters for the Adam optimizer.\n",
    "* `LAMBDA_ID` and `LAMBDA_CYCLE` — the weights used in the identity loss and cycle loss.\n",
    "* `NUM_EPOCHS` — the number of epochs for training.\n",
    "* `DECAY_EPOCHS` — the number of epochs before starting the learning rate decay.\n",
    "* `DISPLAY_EPOCHS` — the frequency to visualize the performance of `gen_PM`."
   ]
  },
  {
   "cell_type": "code",
   "execution_count": null,
   "metadata": {
    "papermill": {
     "duration": 0.042883,
     "end_time": "2023-03-19T01:57:48.564164",
     "exception": false,
     "start_time": "2023-03-19T01:57:48.521281",
     "status": "completed"
    },
    "tags": []
   },
   "outputs": [],
   "source": [
    "IN_CHANNELS = 3\n",
    "OUT_CHANNELS = 3\n",
    "HID_CHANNELS = 64\n",
    "LR = 2e-4\n",
    "BETAS = (0.5, 0.999)\n",
    "LAMBDA_ID = 2\n",
    "LAMBDA_CYCLE = 5\n",
    "NUM_EPOCHS = 36 if not DEBUG else 2\n",
    "DECAY_EPOCHS = 27 if not DEBUG else 1\n",
    "DISPLAY_EPOCHS = 12"
   ]
  },
  {
   "cell_type": "code",
   "execution_count": null,
   "metadata": {
    "papermill": {
     "duration": 0.064437,
     "end_time": "2023-03-19T01:57:48.661507",
     "exception": false,
     "start_time": "2023-03-19T01:57:48.59707",
     "status": "completed"
    },
    "tags": []
   },
   "outputs": [],
   "source": [
    "class CycleGAN(L.LightningModule):\n",
    "    def __init__(\n",
    "        self, \n",
    "        in_channels=IN_CHANNELS,\n",
    "        out_channels=OUT_CHANNELS, \n",
    "        hid_channels=HID_CHANNELS,\n",
    "        lr=LR,\n",
    "        betas=BETAS,\n",
    "        lambda_id=LAMBDA_ID,\n",
    "        lambda_cycle=LAMBDA_CYCLE,\n",
    "        num_epochs=NUM_EPOCHS,\n",
    "        decay_epochs=DECAY_EPOCHS,\n",
    "        display_epochs=DISPLAY_EPOCHS,\n",
    "        photo_samples=photo__samples,\n",
    "    ):\n",
    "        super().__init__()\n",
    "        self.lr = lr\n",
    "        self.betas = betas\n",
    "        self.lambda_id = lambda_id\n",
    "        self.lambda_cycle = lambda_cycle\n",
    "        self.num_epochs = num_epochs\n",
    "        self.decay_epochs = decay_epochs\n",
    "        self.display_epochs = display_epochs\n",
    "        self.photo_samples = photo_samples.to(\"cuda\" if torch.cuda.is_available() else \"cpu\")\n",
    "        \n",
    "        # record learning rates and losses\n",
    "        self.lr_history = [self.lr]\n",
    "        self.loss_names = [\"gen_loss_PM\", \"gen_loss_MP\", \"disc_loss_M\", \"disc_loss_P\"]\n",
    "        self.loss_history = {loss: [] for loss in self.loss_names}\n",
    "        \n",
    "        # initialize generators and discriminators\n",
    "        self.gen_PM = Generator(in_channels, out_channels, hid_channels)\n",
    "        self.gen_MP = Generator(in_channels, out_channels, hid_channels)\n",
    "        self.disc_M = Discriminator(in_channels, hid_channels)\n",
    "        self.disc_P = Discriminator(in_channels, hid_channels)\n",
    "        self.init_weights()\n",
    "        \n",
    "    def forward(self, z):\n",
    "        return self.gen_PM(z)\n",
    "                \n",
    "    def init_weights(self):\n",
    "        def init_fn(m):\n",
    "            if isinstance(m, (nn.Conv2d, nn.ConvTranspose2d)):\n",
    "                nn.init.normal_(m.weight, 0.0, 0.02)\n",
    "                if m.bias is not None:\n",
    "                    nn.init.constant_(m.bias, 0.0)\n",
    "            elif isinstance(m, nn.InstanceNorm2d):\n",
    "                nn.init.normal_(m.weight, 0.0, 0.02)\n",
    "                nn.init.constant_(m.bias, 0.0)\n",
    "                \n",
    "        self.gen_PM = self.gen_PM.apply(init_fn)\n",
    "        self.gen_MP = self.gen_MP.apply(init_fn)\n",
    "        self.disc_M = self.disc_M.apply(init_fn)\n",
    "        self.disc_P = self.disc_P.apply(init_fn)\n",
    "        \n",
    "    def adv_criterion(self, y_hat, y):\n",
    "        return F.mse_loss(y_hat, y)\n",
    "    \n",
    "    def recon_criterion(self, y_hat, y):\n",
    "        return F.l1_loss(y_hat, y)\n",
    "    \n",
    "    def adv_loss(self, fake_Y, disc_Y):\n",
    "        fake_Y_hat = disc_Y(fake_Y)\n",
    "        valid = torch.ones_like(fake_Y_hat)\n",
    "        adv_loss_XY = self.adv_criterion(fake_Y_hat, valid)\n",
    "        return adv_loss_XY\n",
    "    \n",
    "    def id_loss(self, real_Y, gen_XY):\n",
    "        id_Y = gen_XY(real_Y)\n",
    "        id_loss_Y = self.recon_criterion(id_Y, real_Y)\n",
    "        return self.lambda_id * id_loss_Y\n",
    "    \n",
    "    def cycle_loss(self, real_Y, fake_X, gen_XY):\n",
    "        cycle_Y = gen_XY(fake_X)\n",
    "        cycle_loss_Y = self.recon_criterion(cycle_Y, real_Y)\n",
    "        return self.lambda_cycle * cycle_loss_Y\n",
    "    \n",
    "    def gen_loss(self, real_X, real_Y, gen_XY, gen_YX, disc_Y):\n",
    "        fake_Y = gen_XY(real_X)\n",
    "        fake_X = gen_YX(real_Y)\n",
    "        \n",
    "        adv_loss_XY = self.adv_loss(fake_Y, disc_Y)\n",
    "        id_loss_Y = self.id_loss(real_Y, gen_XY)\n",
    "        cycle_loss_Y = self.cycle_loss(real_Y, fake_X, gen_XY)\n",
    "        cycle_loss_X = self.cycle_loss(real_X, fake_Y, gen_YX)\n",
    "        total_cycle_loss = cycle_loss_X + cycle_loss_Y\n",
    "        \n",
    "        gen_loss_XY = adv_loss_XY + id_loss_Y + total_cycle_loss\n",
    "        return gen_loss_XY\n",
    "    \n",
    "    def disc_loss(self, real_Y, fake_Y, disc_Y):\n",
    "        real_Y_hat = disc_Y(real_Y)\n",
    "        valid = torch.ones_like(real_Y_hat)\n",
    "        real_loss_Y = self.adv_criterion(real_Y_hat, valid)\n",
    "        \n",
    "        fake_Y_hat = disc_Y(fake_Y.detach())\n",
    "        fake = torch.zeros_like(fake_Y_hat)\n",
    "        fake_loss_Y = self.adv_criterion(fake_Y_hat, fake)\n",
    "        \n",
    "        disc_loss_Y = (fake_loss_Y+real_loss_Y) * 0.5\n",
    "        return disc_loss_Y\n",
    "    \n",
    "    def get_lr_scheduler(self, optimizer):\n",
    "        def lr_lambda(epoch):\n",
    "            val = 1.0 - max(0, epoch-self.decay_epochs+1.0)/(self.num_epochs-self.decay_epochs+1.0)\n",
    "            return max(0.0, val)\n",
    "        return torch.optim.lr_scheduler.LambdaLR(optimizer, lr_lambda=lr_lambda)\n",
    "    \n",
    "    def configure_optimizers(self):\n",
    "        params = {\n",
    "            \"lr\": self.lr,\n",
    "            \"betas\": self.betas,\n",
    "        }\n",
    "        opt_gen_PM = torch.optim.Adam(self.gen_PM.parameters(), **params)\n",
    "        opt_gen_MP = torch.optim.Adam(self.gen_MP.parameters(), **params)\n",
    "        opt_disc_M = torch.optim.Adam(self.disc_M.parameters(), **params)\n",
    "        opt_disc_P = torch.optim.Adam(self.disc_P.parameters(), **params)\n",
    "        optimizers = [opt_gen_PM, opt_gen_MP, opt_disc_M, opt_disc_P]\n",
    "        schedulers = [self.get_lr_scheduler(opt) for opt in optimizers]\n",
    "        return optimizers, schedulers\n",
    "    \n",
    "    def training_step(self, batch, batch_idx, optimizer_idx):\n",
    "        real_M = batch[\"monet\"]\n",
    "        real_P = batch[\"photo\"]\n",
    "        if optimizer_idx == 0:\n",
    "            gen_loss_PM = self.gen_loss(real_P, real_M, \n",
    "                                        self.gen_PM, self.gen_MP, self.disc_M)\n",
    "            return gen_loss_PM\n",
    "        \n",
    "        if optimizer_idx == 1:\n",
    "            gen_loss_MP = self.gen_loss(real_M, real_P,\n",
    "                                        self.gen_MP, self.gen_PM, self.disc_P)\n",
    "            return gen_loss_MP\n",
    "        \n",
    "        if optimizer_idx == 2:\n",
    "            with torch.no_grad():\n",
    "                fake_M = self.gen_PM(real_P)\n",
    "            disc_loss_M = self.disc_loss(real_M, fake_M,\n",
    "                                         self.disc_M)\n",
    "            return disc_loss_M\n",
    "        \n",
    "        if optimizer_idx == 3:\n",
    "            with torch.no_grad():\n",
    "                fake_P = self.gen_MP(real_M)\n",
    "            disc_loss_P = self.disc_loss(real_P, fake_P,\n",
    "                                         self.disc_P)\n",
    "            return disc_loss_P\n",
    "    \n",
    "    def training_epoch_end(self, outputs):\n",
    "        current_epoch = self.current_epoch + 1\n",
    "        \n",
    "        lr = self.lr_schedulers()[0].get_last_lr()[0]\n",
    "        self.lr_history.append(lr)\n",
    "        losses = {}\n",
    "        for j in range(4):\n",
    "            loss = [out[j][\"loss\"].item() for out in outputs]\n",
    "            self.loss_history[self.loss_names[j]].extend(loss)\n",
    "            losses[self.loss_names[j]] = np.mean(loss)\n",
    "        print(\n",
    "            \" - \".join([\n",
    "                f\"Epoch {current_epoch}\",\n",
    "                f\"lr: {self.lr_history[-2]:.5f}\",\n",
    "                *[f\"{loss}: {val:.5f}\" for loss, val in losses.items()],\n",
    "            ])\n",
    "        )\n",
    "        \n",
    "        if current_epoch%self.display_epochs==0 or current_epoch in [1, self.num_epochs]:\n",
    "            torch.set_grad_enabled(False)\n",
    "            self.eval()\n",
    "            gen_monets = self.forward(self.photo_samples)\n",
    "            show_img(\n",
    "                torch.cat([self.photo_samples, gen_monets]),\n",
    "                nrow=len(self.photo_samples),\n",
    "                title=f\"Epoch {current_epoch}: Photo-to-Monet Translation\",\n",
    "            )\n",
    "            torch.set_grad_enabled(True)\n",
    "            self.train()\n",
    "            \n",
    "    def predict_step(self, batch, batch_idx):\n",
    "        return self.forward(batch)\n",
    "    \n",
    "    def lr_plot(self):\n",
    "        num_epochs = len(self.lr_history[:-1])\n",
    "        plt.figure(figsize=(18, 4.5))\n",
    "        plt.title(\"Learning Rate Schedule\")\n",
    "        plt.ylabel(\"Learning Rate\")\n",
    "        plt.xlabel(\"Epoch\")\n",
    "        plt.plot(\n",
    "            np.arange(1, num_epochs+1),\n",
    "            self.lr_history[:-1],\n",
    "        )\n",
    "            \n",
    "    def loss_plot(self):\n",
    "        titles = [\"Generator Loss Curves\", \"Discriminator Loss Curves\"]\n",
    "        num_steps = len(list(self.loss_history.values())[0])\n",
    "        plt.figure(figsize=(18, 4.5))\n",
    "        for j in range(4):\n",
    "            if j%2 == 0:\n",
    "                plt.subplot(1, 2, (j//2)+1)\n",
    "                plt.title(titles[j//2])\n",
    "                plt.ylabel(\"Loss\")\n",
    "                plt.xlabel(\"Step\")\n",
    "            plt.plot(\n",
    "                np.arange(1, num_steps+1),\n",
    "                self.loss_history[self.loss_names[j]],\n",
    "                label=self.loss_names[j],\n",
    "            )\n",
    "            plt.legend(loc=\"upper right\")"
   ]
  },
  {
   "cell_type": "markdown",
   "metadata": {
    "papermill": {
     "duration": 0.033909,
     "end_time": "2023-03-19T01:57:48.728836",
     "exception": false,
     "start_time": "2023-03-19T01:57:48.694927",
     "status": "completed"
    },
    "tags": []
   },
   "source": [
    "---"
   ]
  },
  {
   "cell_type": "markdown",
   "metadata": {
    "papermill": {
     "duration": 0.032703,
     "end_time": "2023-03-19T01:57:48.794464",
     "exception": false,
     "start_time": "2023-03-19T01:57:48.761761",
     "status": "completed"
    },
    "tags": []
   },
   "source": [
    "# 3. Model Training"
   ]
  },
  {
   "cell_type": "markdown",
   "metadata": {
    "papermill": {
     "duration": 0.032684,
     "end_time": "2023-03-19T01:57:48.859924",
     "exception": false,
     "start_time": "2023-03-19T01:57:48.82724",
     "status": "completed"
    },
    "tags": []
   },
   "source": [
    "To start training the model, we use `Trainer` to automatically handle the training loop by running the `fit` method. We set the below parameters in `TRAIN_CONFIG` for training."
   ]
  },
  {
   "cell_type": "code",
   "execution_count": null,
   "metadata": {},
   "outputs": [],
   "source": [
    "TRAIN_CONFIG = {\n",
    "    \"accelerator\": \"gpu\" if not DEBUG else \"cpu\",\n",
    "    \"devices\": 1,\n",
    "    \"logger\": False,\n",
    "    \"enable_checkpointing\": True,\n",
    "    \"max_epochs\": NUM_EPOCHS,\n",
    "    \"precision\": 16 if not DEBUG else 32,\n",
    "}"
   ]
  },
  {
   "cell_type": "code",
   "execution_count": null,
   "metadata": {
    "papermill": {
     "duration": 15422.135167,
     "end_time": "2023-03-19T06:14:51.028526",
     "exception": false,
     "start_time": "2023-03-19T01:57:48.893359",
     "status": "completed"
    },
    "tags": []
   },
   "outputs": [],
   "source": [
    "dm = CustomDataModule()\n",
    "model = CycleGAN()\n",
    "trainer = L.Trainer(**TRAIN_CONFIG)\n",
    "\n",
    "trainer.fit(model, datamodule=dm)"
   ]
  },
  {
   "cell_type": "markdown",
   "metadata": {},
   "source": [
    "### Plotting the learning rate schedule."
   ]
  },
  {
   "cell_type": "code",
   "execution_count": null,
   "metadata": {},
   "outputs": [],
   "source": [
    "model.lr_plot()"
   ]
  },
  {
   "cell_type": "markdown",
   "metadata": {
    "papermill": {
     "duration": 0.145867,
     "end_time": "2023-03-19T06:14:51.360121",
     "exception": false,
     "start_time": "2023-03-19T06:14:51.214254",
     "status": "completed"
    },
    "tags": []
   },
   "source": [
    "### Plotting the loss curves."
   ]
  },
  {
   "cell_type": "code",
   "execution_count": null,
   "metadata": {
    "papermill": {
     "duration": 0.651238,
     "end_time": "2023-03-19T06:14:52.570658",
     "exception": false,
     "start_time": "2023-03-19T06:14:51.91942",
     "status": "completed"
    },
    "tags": []
   },
   "outputs": [],
   "source": [
    "model.loss_plot()"
   ]
  },
  {
   "cell_type": "markdown",
   "metadata": {
    "papermill": {
     "duration": 0.147734,
     "end_time": "2023-03-19T06:14:52.876958",
     "exception": false,
     "start_time": "2023-03-19T06:14:52.729224",
     "status": "completed"
    },
    "tags": []
   },
   "source": [
    "---"
   ]
  },
  {
   "cell_type": "markdown",
   "metadata": {
    "papermill": {
     "duration": 0.149119,
     "end_time": "2023-03-19T06:14:53.175117",
     "exception": false,
     "start_time": "2023-03-19T06:14:53.025998",
     "status": "completed"
    },
    "tags": []
   },
   "source": [
    "# 4. Submission"
   ]
  },
  {
   "cell_type": "markdown",
   "metadata": {
    "papermill": {
     "duration": 0.148192,
     "end_time": "2023-03-19T06:14:53.473205",
     "exception": false,
     "start_time": "2023-03-19T06:14:53.325013",
     "status": "completed"
    },
    "tags": []
   },
   "source": [
    "Computing the predictions can be done by running the `predict` method to generate the Monet-style images given the input photos."
   ]
  },
  {
   "cell_type": "code",
   "execution_count": null,
   "metadata": {
    "papermill": {
     "duration": 126.035671,
     "end_time": "2023-03-19T06:16:59.658291",
     "exception": false,
     "start_time": "2023-03-19T06:14:53.62262",
     "status": "completed"
    },
    "tags": []
   },
   "outputs": [],
   "source": [
    "predictions = trainer.predict(model, datamodule=dm)"
   ]
  },
  {
   "cell_type": "markdown",
   "metadata": {
    "papermill": {
     "duration": 0.146966,
     "end_time": "2023-03-19T06:16:59.953278",
     "exception": false,
     "start_time": "2023-03-19T06:16:59.806312",
     "status": "completed"
    },
    "tags": []
   },
   "source": [
    "### Saving the generated images."
   ]
  },
  {
   "cell_type": "code",
   "execution_count": null,
   "metadata": {
    "papermill": {
     "duration": 31.787796,
     "end_time": "2023-03-19T06:17:31.88707",
     "exception": false,
     "start_time": "2023-03-19T06:17:00.099274",
     "status": "completed"
    },
    "tags": []
   },
   "outputs": [],
   "source": [
    "os.makedirs(\"../images\", exist_ok=True)\n",
    "\n",
    "idx = 0\n",
    "for tensor in predictions:\n",
    "    for monet in tensor:\n",
    "        save_image((monet.float().squeeze()*0.5+0.5), fp=f\"../images/{idx}.jpg\")\n",
    "        idx += 1\n",
    "\n",
    "shutil.make_archive(\"/kaggle/working/images\", \"zip\", \"/kaggle/images\")"
   ]
  },
  {
   "cell_type": "markdown",
   "metadata": {},
   "source": [
    "### Examining the results on other photo samples."
   ]
  },
  {
   "cell_type": "code",
   "execution_count": null,
   "metadata": {},
   "outputs": [],
   "source": [
    "torch.set_grad_enabled(False)\n",
    "model.eval()\n",
    "\n",
    "for j, photos in enumerate(iter(predict_loader)):\n",
    "    if j == 5:\n",
    "        break\n",
    "    gen_monets = model(photos)\n",
    "    show_img(\n",
    "        torch.cat([photos, gen_monets]),\n",
    "        nrow=len(photos),\n",
    "        title=f\"Sample {j+1}: Photo-to-Monet Translation\",\n",
    "    )"
   ]
  },
  {
   "cell_type": "markdown",
   "metadata": {
    "papermill": {
     "duration": 0.149773,
     "end_time": "2023-03-19T06:17:32.198249",
     "exception": false,
     "start_time": "2023-03-19T06:17:32.048476",
     "status": "completed"
    },
    "tags": []
   },
   "source": [
    " ---"
   ]
  }
 ],
 "metadata": {
  "kernelspec": {
   "display_name": "Python 3 (ipykernel)",
   "language": "python",
   "name": "python3"
  },
  "language_info": {
   "codemirror_mode": {
    "name": "ipython",
    "version": 3
   },
   "file_extension": ".py",
   "mimetype": "text/x-python",
   "name": "python",
   "nbconvert_exporter": "python",
   "pygments_lexer": "ipython3",
   "version": "3.8.12"
  }
 },
 "nbformat": 4,
 "nbformat_minor": 4
}
