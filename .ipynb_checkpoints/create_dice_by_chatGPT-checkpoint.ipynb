{
 "cells": [
  {
   "cell_type": "code",
   "execution_count": null,
   "id": "a1095fc9",
   "metadata": {},
   "outputs": [],
   "source": [
    "import csv\n",
    "import hashlib\n",
    "import random\n",
    "\n",
    "with open('dice_results.csv', mode='w', newline='') as file:\n",
    "    fieldnames = ['dice1', 'dice2', 'dice3', 'dictResult', 'md5Result', 'sha1Result']\n",
    "    writer = csv.DictWriter(file, fieldnames=fieldnames)\n",
    "    writer.writeheader()\n",
    "    \n",
    "    for i in range(1, 217):\n",
    "        dice1 = random.randint(1, 6)\n",
    "        dice2 = random.randint(1, 6)\n",
    "        dice3 = random.randint(1, 6)\n",
    "        dictResult = dice1 + dice2 + dice3\n",
    "        md5Result = hashlib.md5(str(dictResult).encode('utf-8')).hexdigest()\n",
    "        sha1Result = hashlib.sha1(str(dictResult).encode('utf-8')).hexdigest()\n",
    "        writer.writerow({'dice1': dice1, 'dice2': dice2, 'dice3': dice3,\n",
    "                         'dictResult': dictResult, 'md5Result': md5Result, 'sha1Result': sha1Result})\n"
   ]
  },
  {
   "cell_type": "code",
   "execution_count": null,
   "id": "63ba5b1b",
   "metadata": {},
   "outputs": [],
   "source": [
    "import csv\n",
    "import hashlib\n",
    "import random\n",
    "\n",
    "# Generate the dice results and write them to a CSV file\n",
    "with open('dice_results.csv', mode='w', newline='') as file:\n",
    "    fieldnames = ['dice1', 'dice2', 'dice3', 'diceResult', 'md5Result', 'sha1Result']\n",
    "    writer = csv.DictWriter(file, fieldnames=fieldnames)\n",
    "    writer.writeheader()\n",
    "    \n",
    "    for i in range(1, 217):\n",
    "        dice1 = random.randint(1, 6)\n",
    "        dice2 = random.randint(1, 6)\n",
    "        dice3 = random.randint(1, 6)\n",
    "        diceResult= dice1 + dice2 + dice3\n",
    "        md5Result = hashlib.md5(str(diceResult).encode('utf-8')).hexdigest()\n",
    "        sha1Result = hashlib.sha1(str(diceResult).encode('utf-8')).hexdigest()\n",
    "        writer.writerow({'dice1': dice1, 'dice2': dice2, 'dice3': dice3,\n",
    "                         'diceResult': diceResult, 'md5Result': md5Result, 'sha1Result': sha1Result})\n",
    "\n",
    "# Read in the CSV file and sort it by the 'diceResult' field\n",
    "with open('dice_results.csv', mode='r') as file:\n",
    "    reader = csv.DictReader(file)\n",
    "    sorted_rows = sorted(reader, key=lambda row: int(row['diceResult']))\n",
    "    \n",
    "    # Write the sorted rows to a new CSV file\n",
    "    with open('dice_results_sorted.csv', mode='w', newline='') as file:\n",
    "        writer = csv.DictWriter(file, fieldnames=fieldnames)\n",
    "        writer.writeheader()\n",
    "        writer.writerows(sorted_rows)\n",
    "print('done')"
   ]
  },
  {
   "cell_type": "code",
   "execution_count": null,
   "id": "d48df238",
   "metadata": {},
   "outputs": [],
   "source": [
    "import csv\n",
    "import hashlib\n",
    "\n",
    "# Create a list of all possible dice combinations and their sums\n",
    "dice_combinations = []\n",
    "for i in range(1, 7):\n",
    "    for j in range(1, 7):\n",
    "        for k in range(1, 7):\n",
    "            dice_sum = i + j + k\n",
    "            dice_combinations.append({'dice1': i, 'dice2': j, 'dice3': k, 'diceResult': dice_sum})\n",
    "\n",
    "# Sort the dice combinations by diceResult\n",
    "dice_combinations = sorted(dice_combinations, key=lambda x: x['diceResult'])\n",
    "\n",
    "# Calculate the md5 and sha hashes for each combination and add them to the dictionary\n",
    "for combination in dice_combinations:\n",
    "    combination_str = f\"{combination['dice1']}{combination['dice2']}{combination['dice3']}{combination['diceResult']}\"\n",
    "    md5_hash = hashlib.md5(combination_str.encode()).hexdigest()\n",
    "    sha_hash = hashlib.sha256(combination_str.encode()).hexdigest()\n",
    "    combination['md5Result'] = md5_hash\n",
    "    combination['shaResult'] = sha_hash\n",
    "\n",
    "# Write the dice combinations to a CSV file\n",
    "with open('dice_data.csv', 'w', newline='') as file:\n",
    "    writer = csv.DictWriter(file, fieldnames=['dice1', 'dice2', 'dice3', 'diceResult', 'md5Result', 'shaResult'])\n",
    "    writer.writeheader()\n",
    "    for combination in dice_combinations:\n",
    "        writer.writerow(combination)\n",
    "\n",
    "\n",
    "\n",
    "print('done')"
   ]
  },
  {
   "cell_type": "code",
   "execution_count": null,
   "id": "37429941",
   "metadata": {},
   "outputs": [],
   "source": [
    "import csv\n",
    "import hashlib\n",
    "\n",
    "# Create a list of all possible dice combinations and their sums\n",
    "dice_combinations = []\n",
    "for i in range(1, 7):\n",
    "    for j in range(1, 7):\n",
    "        for k in range(1, 7):\n",
    "            dice_sum = i + j + k\n",
    "            dice_combinations.append({'dice1': i, 'dice2': j, 'dice3': k, 'diceResult': dice_sum})\n",
    "\n",
    "# Sort the dice combinations by diceResult\n",
    "dice_combinations = sorted(dice_combinations, key=lambda x: x['diceResult'])\n",
    "\n",
    "# Calculate the md5 and sha hashes for each combination and add them to the dictionary\n",
    "md5_hashes = set()\n",
    "sha_hashes = set()\n",
    "\n",
    "for combination in dice_combinations:\n",
    "    combination_str = f\"{combination['dice1']}{combination['dice2']}{combination['dice3']}{combination['diceResult']}\"\n",
    "    md5_hash = hashlib.md5(combination_str.encode()).hexdigest()\n",
    "    sha_hash = hashlib.sha256(combination_str.encode()).hexdigest()\n",
    "    combination['md5Result'] = md5_hash\n",
    "    combination['shaResult'] = sha_hash\n",
    "    \n",
    "    if md5_hash in md5_hashes:\n",
    "        print(f\"Duplicate MD5 hash found for combination {combination}\")\n",
    "    else:\n",
    "        md5_hashes.add(md5_hash)\n",
    "        \n",
    "    if sha_hash in sha_hashes:\n",
    "        print(f\"Duplicate SHA-256 hash found for combination {combination}\")\n",
    "    else:\n",
    "        sha_hashes.add(sha_hash)\n",
    "\n",
    "# Write the dice combinations to a CSV file\n",
    "with open('dice_data.csv', 'w', newline='') as file:\n",
    "    writer = csv.DictWriter(file, fieldnames=['dice1', 'dice2', 'dice3', 'diceResult', 'md5Result', 'shaResult'])\n",
    "    writer.writeheader()\n",
    "    for combination in dice_combinations:\n",
    "        writer.writerow(combination)\n",
    "\n",
    "print('done...')"
   ]
  },
  {
   "cell_type": "code",
   "execution_count": 8,
   "id": "4ee31e9b",
   "metadata": {},
   "outputs": [
    {
     "name": "stdout",
     "output_type": "stream",
     "text": [
      "Enter the value of dice1: 4\n",
      "Enter the value of dice2: 1\n",
      "Enter the value of dice3: 5\n"
     ]
    },
    {
     "name": "stderr",
     "output_type": "stream",
     "text": [
      "F:\\Software\\installed\\anaconda\\src\\envs\\deep_learning\\lib\\site-packages\\sklearn\\base.py:439: UserWarning: X does not have valid feature names, but LinearRegression was fitted with feature names\n",
      "  warnings.warn(\n"
     ]
    },
    {
     "name": "stdout",
     "output_type": "stream",
     "text": [
      "The predicted value of the next dice result is 10.00.\n",
      "The accuracy of the model is 100.00%.\n",
      "\n",
      "Enter the value of dice1: 5\n",
      "Enter the value of dice2: 5\n",
      "Enter the value of dice3: 5\n"
     ]
    },
    {
     "name": "stderr",
     "output_type": "stream",
     "text": [
      "F:\\Software\\installed\\anaconda\\src\\envs\\deep_learning\\lib\\site-packages\\sklearn\\base.py:439: UserWarning: X does not have valid feature names, but LinearRegression was fitted with feature names\n",
      "  warnings.warn(\n"
     ]
    },
    {
     "name": "stdout",
     "output_type": "stream",
     "text": [
      "The predicted value of the next dice result is 15.00.\n",
      "The accuracy of the model is 100.00%.\n",
      "\n"
     ]
    },
    {
     "ename": "KeyboardInterrupt",
     "evalue": "Interrupted by user",
     "output_type": "error",
     "traceback": [
      "\u001b[1;31m---------------------------------------------------------------------------\u001b[0m",
      "\u001b[1;31mKeyboardInterrupt\u001b[0m                         Traceback (most recent call last)",
      "\u001b[1;32m~\\AppData\\Local\\Temp\\ipykernel_7704\\3958054183.py\u001b[0m in \u001b[0;36m<module>\u001b[1;34m\u001b[0m\n\u001b[0;32m     16\u001b[0m \u001b[1;32mwhile\u001b[0m \u001b[1;32mTrue\u001b[0m\u001b[1;33m:\u001b[0m\u001b[1;33m\u001b[0m\u001b[1;33m\u001b[0m\u001b[0m\n\u001b[0;32m     17\u001b[0m     \u001b[1;31m# Ask the user for the current dice values\u001b[0m\u001b[1;33m\u001b[0m\u001b[1;33m\u001b[0m\u001b[1;33m\u001b[0m\u001b[0m\n\u001b[1;32m---> 18\u001b[1;33m     \u001b[0mdice1\u001b[0m \u001b[1;33m=\u001b[0m \u001b[0mint\u001b[0m\u001b[1;33m(\u001b[0m\u001b[0minput\u001b[0m\u001b[1;33m(\u001b[0m\u001b[1;34m'Enter the value of dice1: '\u001b[0m\u001b[1;33m)\u001b[0m\u001b[1;33m)\u001b[0m\u001b[1;33m\u001b[0m\u001b[1;33m\u001b[0m\u001b[0m\n\u001b[0m\u001b[0;32m     19\u001b[0m     \u001b[0mdice2\u001b[0m \u001b[1;33m=\u001b[0m \u001b[0mint\u001b[0m\u001b[1;33m(\u001b[0m\u001b[0minput\u001b[0m\u001b[1;33m(\u001b[0m\u001b[1;34m'Enter the value of dice2: '\u001b[0m\u001b[1;33m)\u001b[0m\u001b[1;33m)\u001b[0m\u001b[1;33m\u001b[0m\u001b[1;33m\u001b[0m\u001b[0m\n\u001b[0;32m     20\u001b[0m     \u001b[0mdice3\u001b[0m \u001b[1;33m=\u001b[0m \u001b[0mint\u001b[0m\u001b[1;33m(\u001b[0m\u001b[0minput\u001b[0m\u001b[1;33m(\u001b[0m\u001b[1;34m'Enter the value of dice3: '\u001b[0m\u001b[1;33m)\u001b[0m\u001b[1;33m)\u001b[0m\u001b[1;33m\u001b[0m\u001b[1;33m\u001b[0m\u001b[0m\n",
      "\u001b[1;32mF:\\Software\\installed\\anaconda\\src\\envs\\deep_learning\\lib\\site-packages\\ipykernel\\kernelbase.py\u001b[0m in \u001b[0;36mraw_input\u001b[1;34m(self, prompt)\u001b[0m\n\u001b[0;32m   1173\u001b[0m                 \u001b[1;34m\"raw_input was called, but this frontend does not support input requests.\"\u001b[0m\u001b[1;33m\u001b[0m\u001b[1;33m\u001b[0m\u001b[0m\n\u001b[0;32m   1174\u001b[0m             )\n\u001b[1;32m-> 1175\u001b[1;33m         return self._input_request(\n\u001b[0m\u001b[0;32m   1176\u001b[0m             \u001b[0mstr\u001b[0m\u001b[1;33m(\u001b[0m\u001b[0mprompt\u001b[0m\u001b[1;33m)\u001b[0m\u001b[1;33m,\u001b[0m\u001b[1;33m\u001b[0m\u001b[1;33m\u001b[0m\u001b[0m\n\u001b[0;32m   1177\u001b[0m             \u001b[0mself\u001b[0m\u001b[1;33m.\u001b[0m\u001b[0m_parent_ident\u001b[0m\u001b[1;33m[\u001b[0m\u001b[1;34m\"shell\"\u001b[0m\u001b[1;33m]\u001b[0m\u001b[1;33m,\u001b[0m\u001b[1;33m\u001b[0m\u001b[1;33m\u001b[0m\u001b[0m\n",
      "\u001b[1;32mF:\\Software\\installed\\anaconda\\src\\envs\\deep_learning\\lib\\site-packages\\ipykernel\\kernelbase.py\u001b[0m in \u001b[0;36m_input_request\u001b[1;34m(self, prompt, ident, parent, password)\u001b[0m\n\u001b[0;32m   1215\u001b[0m             \u001b[1;32mexcept\u001b[0m \u001b[0mKeyboardInterrupt\u001b[0m\u001b[1;33m:\u001b[0m\u001b[1;33m\u001b[0m\u001b[1;33m\u001b[0m\u001b[0m\n\u001b[0;32m   1216\u001b[0m                 \u001b[1;31m# re-raise KeyboardInterrupt, to truncate traceback\u001b[0m\u001b[1;33m\u001b[0m\u001b[1;33m\u001b[0m\u001b[1;33m\u001b[0m\u001b[0m\n\u001b[1;32m-> 1217\u001b[1;33m                 \u001b[1;32mraise\u001b[0m \u001b[0mKeyboardInterrupt\u001b[0m\u001b[1;33m(\u001b[0m\u001b[1;34m\"Interrupted by user\"\u001b[0m\u001b[1;33m)\u001b[0m \u001b[1;32mfrom\u001b[0m \u001b[1;32mNone\u001b[0m\u001b[1;33m\u001b[0m\u001b[1;33m\u001b[0m\u001b[0m\n\u001b[0m\u001b[0;32m   1218\u001b[0m             \u001b[1;32mexcept\u001b[0m \u001b[0mException\u001b[0m\u001b[1;33m:\u001b[0m\u001b[1;33m\u001b[0m\u001b[1;33m\u001b[0m\u001b[0m\n\u001b[0;32m   1219\u001b[0m                 \u001b[0mself\u001b[0m\u001b[1;33m.\u001b[0m\u001b[0mlog\u001b[0m\u001b[1;33m.\u001b[0m\u001b[0mwarning\u001b[0m\u001b[1;33m(\u001b[0m\u001b[1;34m\"Invalid Message:\"\u001b[0m\u001b[1;33m,\u001b[0m \u001b[0mexc_info\u001b[0m\u001b[1;33m=\u001b[0m\u001b[1;32mTrue\u001b[0m\u001b[1;33m)\u001b[0m\u001b[1;33m\u001b[0m\u001b[1;33m\u001b[0m\u001b[0m\n",
      "\u001b[1;31mKeyboardInterrupt\u001b[0m: Interrupted by user"
     ]
    }
   ],
   "source": [
    "import pandas as pd\n",
    "from sklearn.linear_model import LinearRegression\n",
    "\n",
    "# Load the data from the CSV file\n",
    "df = pd.read_csv('dice_rolls.csv')\n",
    "\n",
    "# Separate the input variables (dice1, dice2, dice3) from the output variable (diceResult)\n",
    "X = df[['dice 1', 'dice 2', 'dice 3']]\n",
    "y = df['diceResult']\n",
    "\n",
    "# Create a linear regression model with explicit feature names\n",
    "model = LinearRegression(fit_intercept=True, copy_X=True, n_jobs=1)\n",
    "model.fit(X, y)\n",
    "\n",
    "# Infinite loop to input dice values, calculate their sum, and predict next dice result\n",
    "while True:\n",
    "    # Ask the user for the current dice values\n",
    "    dice1 = int(input('Enter the value of dice1: '))\n",
    "    dice2 = int(input('Enter the value of dice2: '))\n",
    "    dice3 = int(input('Enter the value of dice3: '))\n",
    "\n",
    "    # Calculate the sum of the dice values\n",
    "    dice_sum = dice1 + dice2 + dice3\n",
    "\n",
    "    # Use the model to predict the next dice result\n",
    "    next_dice_result = model.predict([[dice1, dice2, dice3]])\n",
    "\n",
    "    # Print the predicted value and its accuracy\n",
    "    print(f'The predicted value of the next dice result is {next_dice_result[0]:.2f}.')\n",
    "    accuracy = model.score(X, y)\n",
    "    print(f'The accuracy of the model is {accuracy:.2%}.\\n')\n"
   ]
  },
  {
   "cell_type": "code",
   "execution_count": 6,
   "id": "c742df5f",
   "metadata": {},
   "outputs": [
    {
     "name": "stdout",
     "output_type": "stream",
     "text": [
      "done\n"
     ]
    }
   ],
   "source": [
    "# create a file roll dice\n",
    "import csv\n",
    "import random\n",
    "\n",
    "# Open a new CSV file for writing\n",
    "with open('dice_rolls.csv', 'w', newline='') as csvfile:\n",
    "    writer = csv.writer(csvfile)\n",
    "\n",
    "    # Write header row\n",
    "    writer.writerow(['dice 1', 'dice 2', 'dice 3', 'diceResult'])\n",
    "\n",
    "    # Generate 10,000 sets of dice rolls\n",
    "    for i in range(10000):\n",
    "        dice1 = random.randint(1, 6)\n",
    "        dice2 = random.randint(1, 6)\n",
    "        dice3 = random.randint(1, 6)\n",
    "        dice_sum = dice1 + dice2 + dice3\n",
    "\n",
    "        # Write a row to the CSV file\n",
    "        writer.writerow([dice1, dice2, dice3, dice_sum])\n",
    "print('done')"
   ]
  },
  {
   "cell_type": "code",
   "execution_count": 9,
   "id": "6068c6d0",
   "metadata": {},
   "outputs": [
    {
     "name": "stdout",
     "output_type": "stream",
     "text": [
      "Model accuracy: -0.00%\n"
     ]
    },
    {
     "data": {
      "image/png": "[encoded data removed]",
      "text/plain": [
       "<Figure size 640x480 with 1 Axes>"
      ]
     },
     "metadata": {},
     "output_type": "display_data"
    }
   ],
   "source": [
    "import pandas as pd\n",
    "import numpy as np\n",
    "import matplotlib.pyplot as plt\n",
    "from sklearn.linear_model import LinearRegression\n",
    "\n",
    "# Load the dice rolls data from the CSV file\n",
    "data = pd.read_csv('dice_rolls.csv')\n",
    "\n",
    "# Use a rolling window to create a new DataFrame where each row contains\n",
    "# the current and previous two dice rolls, as well as the next roll\n",
    "window_size = 3\n",
    "rolls = [data['diceResult'].shift(i) for i in range(window_size, -1, -1)]\n",
    "data_rolled = pd.concat(rolls, axis=1)\n",
    "data_rolled.columns = ['roll_3', 'roll_2', 'roll_1', 'next_roll']\n",
    "data_rolled = data_rolled.dropna()\n",
    "\n",
    "# Split the data into training and testing sets\n",
    "train_size = int(len(data_rolled) * 0.8)\n",
    "train_data = data_rolled[:train_size]\n",
    "test_data = data_rolled[train_size:]\n",
    "\n",
    "# Train a linear regression model on the training data\n",
    "X_train = train_data[['roll_3', 'roll_2', 'roll_1']]\n",
    "y_train = train_data['next_roll']\n",
    "model = LinearRegression()\n",
    "model.fit(X_train, y_train)\n",
    "\n",
    "# Evaluate the model on the testing data\n",
    "X_test = test_data[['roll_3', 'roll_2', 'roll_1']]\n",
    "y_test = test_data['next_roll']\n",
    "score = model.score(X_test, y_test)\n",
    "print(f'Model accuracy: {score*100:.2f}%')\n",
    "\n",
    "# Use the trained model to predict the next dice roll for the entire dataset\n",
    "X = data_rolled[['roll_3', 'roll_2', 'roll_1']]\n",
    "y = data_rolled['next_roll']\n",
    "y_pred = model.predict(X)\n",
    "\n",
    "# Plot the actual and predicted dice rolls over time\n",
    "plt.plot(y, label='Actual')\n",
    "plt.plot(y_pred, label='Predicted')\n",
    "plt.title('Actual vs. Predicted Dice Rolls')\n",
    "plt.xlabel('Time')\n",
    "plt.ylabel('Dice Roll')\n",
    "plt.legend()\n",
    "plt.show()\n"
   ]
  },
  {
   "cell_type": "code",
   "execution_count": 28,
   "id": "5d61bab3",
   "metadata": {},
   "outputs": [
    {
     "name": "stdout",
     "output_type": "stream",
     "text": [
      "Model accuracy: 100.00%\n",
      "Predicted next roll: -64\n",
      "Actual next roll: 9\n"
     ]
    },
    {
     "data": {
      "image/png": "[encoded data removed]",
      "text/plain": [
       "<Figure size 640x480 with 1 Axes>"
      ]
     },
     "metadata": {},
     "output_type": "display_data"
    }
   ],
   "source": [
    "import pandas as pd\n",
    "import numpy as np\n",
    "from sklearn.linear_model import LinearRegression\n",
    "import matplotlib.pyplot as plt\n",
    "\n",
    "# Load the dice roll data\n",
    "data = pd.read_csv('dice_rolls.csv')\n",
    "\n",
    "# Split the data into training and testing sets\n",
    "train_data = data.iloc[:-1000]\n",
    "test_data = data.iloc[-1000:]\n",
    "\n",
    "# Train a linear regression model on the training data\n",
    "X_train = train_data[['dice 3', 'dice 2', 'diceResult']].values\n",
    "y_train = train_data['dice 1'].values\n",
    "model = LinearRegression()\n",
    "model.fit(X_train, y_train)\n",
    "\n",
    "# Test the model on the testing data\n",
    "X_test = test_data[['dice 3', 'dice 2', 'diceResult']].values\n",
    "y_test = test_data['dice 1'].values\n",
    "accuracy = model.score(X_test, y_test)\n",
    "print(f'Model accuracy: {accuracy*100:.2f}%')\n",
    "\n",
    "# Predict the next dice roll\n",
    "current_roll = np.sum(np.random.randint(1, 7, size=3))\n",
    "last_rolls = data[['dice 3', 'dice 2', 'diceResult']].iloc[-3:].values\n",
    "X_pred = np.append(last_rolls.flatten(), [np.sum(last_rolls), current_roll])\n",
    "\n",
    "#################################\n",
    "# Take input from user\n",
    "roll_1 = int(input(\"Enter the value of first dice roll: \"))\n",
    "roll_2 = int(input(\"Enter the value of second dice roll: \"))\n",
    "roll_3 = int(input(\"Enter the value of third dice roll: \"))\n",
    "\n",
    "# Reshape the input to match the shape of the input to the model\n",
    "X_pred = np.array([roll_1, roll_2, roll_3]).reshape(1, -1)\n",
    "\n",
    "# Make a prediction\n",
    "y_pred = model.predict(X_pred)[0]\n",
    "\n",
    "#################################\n",
    "# X_pred = X_pred[-3:].reshape(1, -1) # Select last 3 values and reshape to have 3 features\n",
    "y_pred = model.predict(X_pred)[0]\n",
    "\n",
    "\n",
    "# Print the predicted and actual dice rolls\n",
    "print(f'Predicted next roll: {int(round(y_pred))}')\n",
    "print(f'Actual next roll: {current_roll}')\n",
    "\n",
    "# Create a timeline of the dice rolls\n",
    "rolls = data['diceResult'].values\n",
    "plt.plot(np.arange(len(rolls)), rolls)\n",
    "plt.xlabel('Roll number')\n",
    "plt.ylabel('Dice roll')\n",
    "plt.show()\n"
   ]
  },
  {
   "cell_type": "code",
   "execution_count": null,
   "id": "56640bc3",
   "metadata": {},
   "outputs": [],
   "source": []
  }
 ],
 "metadata": {
  "kernelspec": {
   "display_name": "Python 3 (ipykernel)",
   "language": "python",
   "name": "python3"
  },
  "language_info": {
   "codemirror_mode": {
    "name": "ipython",
    "version": 3
   },
   "file_extension": ".py",
   "mimetype": "text/x-python",
   "name": "python",
   "nbconvert_exporter": "python",
   "pygments_lexer": "ipython3",
   "version": "3.8.12"
  }
 },
 "nbformat": 4,
 "nbformat_minor": 5
}
